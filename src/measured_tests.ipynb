{
 "cells": [
  {
   "cell_type": "markdown",
   "metadata": {},
   "source": [
    "# CONFIGURATIONS"
   ]
  },
  {
   "cell_type": "code",
   "execution_count": 1,
   "metadata": {},
   "outputs": [],
   "source": [
    "import numpy as np\n",
    "import Structures as S\n",
    "import common as C\n",
    "import FreeAssigner as fa\n",
    "import networkx as nx\n",
    "import scipy.stats as sps\n",
    "import time"
   ]
  },
  {
   "cell_type": "code",
   "execution_count": 2,
   "metadata": {},
   "outputs": [
    {
     "name": "stdout",
     "output_type": "stream",
     "text": [
      "0.108999967575\n"
     ]
    }
   ],
   "source": [
    "start = time.time()\n",
    "sequence = np.random.choice(C.DATA['mean'].index, 30, replace=True)\n",
    "p = S.FakeProtein(sequence, C.SPECTRA.keys())\n",
    "e = S.SimulatedExperiment(p, C.SPECTRA.keys())\n",
    "print time.time() - start"
   ]
  },
  {
   "cell_type": "code",
   "execution_count": 3,
   "metadata": {
    "collapsed": true
   },
   "outputs": [],
   "source": [
    "import Measured\n",
    "measured = Measured.Measured(e)"
   ]
  },
  {
   "cell_type": "code",
   "execution_count": 4,
   "metadata": {},
   "outputs": [
    {
     "name": "stdout",
     "output_type": "stream",
     "text": [
      "OrderedDict([('HN(CA)CO', 57L), ('HNCA', 57L), ('HNCO', 28L), ('HN(CO)CA', 28L), ('HNCACB', 112L), ('HN(CO)CACB', 55L), ('HSQC', 29L)])\n",
      "['HN(CA)CO', 'HNCA', 'HNCO', 'HN(CO)CA', 'HNCACB', 'HN(CO)CACB', 'HSQC']\n",
      "[57L, 57L, 28L, 28L, 112L, 55L, 29L]\n"
     ]
    }
   ],
   "source": [
    "print measured.ushape\n",
    "print measured.keys()\n",
    "print measured.__ushape__.values()"
   ]
  },
  {
   "cell_type": "code",
   "execution_count": 7,
   "metadata": {},
   "outputs": [
    {
     "name": "stdout",
     "output_type": "stream",
     "text": [
      "41\n"
     ]
    }
   ],
   "source": [
    "cliques = measured.all_cliques('HNCO')\n",
    "print len(cliques)"
   ]
  },
  {
   "cell_type": "code",
   "execution_count": 8,
   "metadata": {},
   "outputs": [
    {
     "name": "stdout",
     "output_type": "stream",
     "text": [
      "MeasuredPeaks(\n",
      "MeasuredSpectrum(HN(CA)CO:\n",
      "\tMeasuredPeak([119.99193186   8.09124398 175.55231024], HN(CA)CO)\n",
      "\tMeasuredPeak([120.07503535   8.10701191 174.16952972], HN(CA)CO))\n",
      "MeasuredSpectrum(HNCA:\n",
      "\tMeasuredPeak([119.94479404   8.09396823  57.65551627], HNCA)\n",
      "\tMeasuredPeak([120.1045661    8.09191922  57.21022572], HNCA))\n",
      "MeasuredSpectrum(HN(CO)CACB:\n",
      "\tMeasuredPeak([119.76803535   8.10310639  58.82687536], HN(CO)CACB)\n",
      "\tMeasuredPeak([119.95259708   8.09598472  33.82418606], HN(CO)CACB)\n",
      "\tMeasuredPeak([120.0055326    8.09220144  57.33997633], HN(CO)CACB))\n",
      "MeasuredSpectrum(HN(CO)CA:\n",
      "\tMeasuredPeak([119.82056292   8.0981627   57.18709338], HN(CO)CA))\n",
      "MeasuredSpectrum(HNCACB:\n",
      "\tMeasuredPeak([120.04000515   8.10129427  61.90987306], HNCACB)\n",
      "\tMeasuredPeak([120.04906503   8.09070261  57.80795208], HNCACB)\n",
      "\tMeasuredPeak([120.16026451   8.09987121  33.8543542 ], HNCACB)\n",
      "\tMeasuredPeak([120.09406994   8.10365976  57.33097916], HNCACB))\n",
      "MeasuredSpectrum(HNCO:\n",
      "\tMeasuredPeak([120.01213065   8.10853203 175.44922123], HNCO))\n",
      "MeasuredSpectrum(HSQC:\n",
      "\tMeasuredPeak([120.15524721   8.11154562], HSQC))\n",
      ")\n"
     ]
    }
   ],
   "source": [
    "cliques[3].describe()"
   ]
  },
  {
   "cell_type": "code",
   "execution_count": 9,
   "metadata": {},
   "outputs": [],
   "source": [
    "test = Measured.MeasuredConfigurator(C.SPECTRA.keys(), cliques[15])"
   ]
  },
  {
   "cell_type": "code",
   "execution_count": 10,
   "metadata": {},
   "outputs": [
    {
     "data": {
      "text/plain": [
       "{('C', -1): [178.919961610254, 178.95607376645486],\n",
       " ('C', 0): [176.76231484086486],\n",
       " ('CA', -1): [57.07531171952194,\n",
       "  57.14624126323421,\n",
       "  57.08086775933018,\n",
       "  57.24692727654532],\n",
       " ('CA', 0): [56.11068461282979],\n",
       " ('CB', -1): [35.99112803791181, 35.81552082553286],\n",
       " ('CB', 0): [37.834544574298306],\n",
       " ('H', 0): [8.439184626275395,\n",
       "  8.443518834082536,\n",
       "  8.436965124923153,\n",
       "  8.427165431787419,\n",
       "  8.424178819813404,\n",
       "  8.441912114328638,\n",
       "  8.438869206434745,\n",
       "  8.446054007021528,\n",
       "  8.443266881002824,\n",
       "  8.43119215734669,\n",
       "  8.439695116225746,\n",
       "  8.43448340778601],\n",
       " ('N', 0): [119.29640443717386,\n",
       "  119.38548575836255,\n",
       "  119.18852042283454,\n",
       "  119.48452286611574,\n",
       "  119.24580218456111,\n",
       "  119.36398875726579,\n",
       "  119.40758999457759,\n",
       "  119.43914419994108,\n",
       "  119.45195674308022,\n",
       "  119.2529115703015,\n",
       "  119.46806280711498,\n",
       "  119.21223027762902]}"
      ]
     },
     "execution_count": 10,
     "metadata": {},
     "output_type": "execute_result"
    }
   ],
   "source": [
    "test[0]"
   ]
  },
  {
   "cell_type": "code",
   "execution_count": 11,
   "metadata": {},
   "outputs": [
    {
     "name": "stdout",
     "output_type": "stream",
     "text": [
      "99\n"
     ]
    }
   ],
   "source": [
    "count = 0\n",
    "for configuration in test:\n",
    "    count += 1\n",
    "print count"
   ]
  },
  {
   "cell_type": "code",
   "execution_count": 13,
   "metadata": {},
   "outputs": [],
   "source": [
    "all_configurations = [Measured.MeasuredConfigurator(C.SPECTRA.keys(), clique) for clique in cliques]"
   ]
  },
  {
   "cell_type": "code",
   "execution_count": 14,
   "metadata": {},
   "outputs": [
    {
     "data": {
      "text/plain": [
       "4464"
      ]
     },
     "execution_count": 14,
     "metadata": {},
     "output_type": "execute_result"
    }
   ],
   "source": [
    "np.sum([len(c.configurations) for c in all_configurations])"
   ]
  },
  {
   "cell_type": "code",
   "execution_count": 15,
   "metadata": {},
   "outputs": [
    {
     "data": {
      "text/plain": [
       "{('C', -1): [175.44922122666483, 175.55231023676689],\n",
       " ('C', 0): [174.16952971527937],\n",
       " ('CA', -1): [57.33097915845493,\n",
       "  57.33997633318731,\n",
       "  57.187093375425775,\n",
       "  57.21022571601111],\n",
       " ('CA', 0): [57.65551627348196, 57.807952081318405],\n",
       " ('CB', -1): [33.85435420209971, 33.82418605520142],\n",
       " ('CB', 0): [61.90987305999768],\n",
       " ('H', 0): [8.111545616604452,\n",
       "  8.108532032659742,\n",
       "  8.091243978626528,\n",
       "  8.107011906155119,\n",
       "  8.099871209643696,\n",
       "  8.101294272211938,\n",
       "  8.095984723629337,\n",
       "  8.093968233998813,\n",
       "  8.090702608599326,\n",
       "  8.10365976011788,\n",
       "  8.092201443526031,\n",
       "  8.09816269646884,\n",
       "  8.091919215944388],\n",
       " ('N', 0): [120.15524721040984,\n",
       "  120.01213064874135,\n",
       "  119.99193185982887,\n",
       "  120.07503534767717,\n",
       "  120.16026450531226,\n",
       "  120.04000515443481,\n",
       "  119.95259708254505,\n",
       "  119.9447940407341,\n",
       "  120.04906502535353,\n",
       "  120.0940699358698,\n",
       "  120.0055325969109,\n",
       "  119.8205629218361,\n",
       "  120.10456610489808]}"
      ]
     },
     "execution_count": 15,
     "metadata": {},
     "output_type": "execute_result"
    }
   ],
   "source": [
    "all_configurations[3].configurations[0]"
   ]
  },
  {
   "cell_type": "markdown",
   "metadata": {},
   "source": [
    "# WINDOWING"
   ]
  },
  {
   "cell_type": "code",
   "execution_count": null,
   "metadata": {
    "collapsed": true
   },
   "outputs": [],
   "source": [
    "import Window\n",
    "window = Window.MultiDimensionalWindow()\n",
    "window[0].add_box(Window.Box(120., 122.))\n",
    "window[1].add_box(Window.Box(7.4, 7.6))\n",
    "window[2].add_box(Window.Box(-np.inf, np.inf))\n",
    "print window"
   ]
  },
  {
   "cell_type": "code",
   "execution_count": null,
   "metadata": {
    "collapsed": true
   },
   "outputs": [],
   "source": [
    "test = measured.subset_to(window)\n",
    "print test"
   ]
  },
  {
   "cell_type": "code",
   "execution_count": null,
   "metadata": {
    "collapsed": true
   },
   "outputs": [],
   "source": [
    "nodes = list(test.S.nodes())\n",
    "for node in nodes:\n",
    "    print node.epeak, node.mpeak, node.level"
   ]
  },
  {
   "cell_type": "code",
   "execution_count": null,
   "metadata": {
    "collapsed": true
   },
   "outputs": [],
   "source": [
    "undirected = nx.Graph(test.S)"
   ]
  },
  {
   "cell_type": "code",
   "execution_count": null,
   "metadata": {
    "collapsed": true
   },
   "outputs": [],
   "source": [
    "connected_components = list(nx.connected_components(undirected))"
   ]
  },
  {
   "cell_type": "code",
   "execution_count": null,
   "metadata": {
    "collapsed": true
   },
   "outputs": [],
   "source": [
    "for component in connected_components:\n",
    "    print 'component'\n",
    "    for node in component:\n",
    "        print node.level, node.epeak, node.mpeak"
   ]
  },
  {
   "cell_type": "code",
   "execution_count": null,
   "metadata": {
    "collapsed": true
   },
   "outputs": [],
   "source": [
    "path = next(scheduler)"
   ]
  },
  {
   "cell_type": "code",
   "execution_count": null,
   "metadata": {
    "collapsed": true
   },
   "outputs": [],
   "source": [
    "node0 = None\n",
    "node1 = None\n",
    "for n in nodes:\n",
    "    if n.level == 0:\n",
    "        node0 = n\n",
    "    if n.level == 12:\n",
    "        node1 = n"
   ]
  },
  {
   "cell_type": "code",
   "execution_count": null,
   "metadata": {
    "collapsed": true
   },
   "outputs": [],
   "source": [
    "path_gen = nx.all_simple_paths(test.S, node0, node1)\n",
    "for i, path in enumerate(path_gen):\n",
    "    print 'path %d' % i\n",
    "    for node in path:\n",
    "        print node.epeak, node.mpeak"
   ]
  },
  {
   "cell_type": "code",
   "execution_count": null,
   "metadata": {
    "collapsed": true
   },
   "outputs": [],
   "source": [
    "test.E.nodes()"
   ]
  },
  {
   "cell_type": "code",
   "execution_count": null,
   "metadata": {
    "collapsed": true
   },
   "outputs": [],
   "source": [
    "gen = nx.find_cliques(test.E)"
   ]
  },
  {
   "cell_type": "code",
   "execution_count": null,
   "metadata": {
    "collapsed": true
   },
   "outputs": [],
   "source": [
    "sorted(list(nx.find_cliques(test.E)), key=lambda c: len(c))"
   ]
  },
  {
   "cell_type": "code",
   "execution_count": null,
   "metadata": {
    "collapsed": true
   },
   "outputs": [],
   "source": [
    "sorted([len(c) for c in gen])"
   ]
  },
  {
   "cell_type": "code",
   "execution_count": null,
   "metadata": {
    "collapsed": true
   },
   "outputs": [],
   "source": [
    "for i, clique in enumerate(gen):\n",
    "    print 'option %d' % i\n",
    "    for option in clique:\n",
    "        print option.epeak, option.mpeak"
   ]
  },
  {
   "cell_type": "code",
   "execution_count": null,
   "metadata": {
    "collapsed": true
   },
   "outputs": [],
   "source": [
    "test.generate()"
   ]
  },
  {
   "cell_type": "code",
   "execution_count": null,
   "metadata": {
    "collapsed": true
   },
   "outputs": [],
   "source": [
    "test.__atoms__"
   ]
  },
  {
   "cell_type": "code",
   "execution_count": null,
   "metadata": {
    "collapsed": true
   },
   "outputs": [],
   "source": [
    "import Measured"
   ]
  },
  {
   "cell_type": "code",
   "execution_count": null,
   "metadata": {
    "collapsed": true
   },
   "outputs": [],
   "source": [
    "test = Measured.MeasuredConfiguration(C.SPECTRA.keys(), cliques[9])"
   ]
  },
  {
   "cell_type": "code",
   "execution_count": null,
   "metadata": {
    "collapsed": true
   },
   "outputs": [],
   "source": [
    "test"
   ]
  },
  {
   "cell_type": "code",
   "execution_count": null,
   "metadata": {
    "collapsed": true
   },
   "outputs": [],
   "source": [
    "cliques[0].all_c_cliques()\n",
    "for clique in cliques[9].all_c_cliques():\n",
    "    clique.describe()"
   ]
  },
  {
   "cell_type": "code",
   "execution_count": null,
   "metadata": {
    "collapsed": true
   },
   "outputs": [],
   "source": [
    "gen = nx.find_cliques(cliques[0].G_C)"
   ]
  },
  {
   "cell_type": "code",
   "execution_count": null,
   "metadata": {
    "collapsed": true
   },
   "outputs": [],
   "source": [
    "for c in gen:\n",
    "    print c"
   ]
  },
  {
   "cell_type": "code",
   "execution_count": null,
   "metadata": {
    "collapsed": true
   },
   "outputs": [],
   "source": [
    "c_gen = a.measured.clique_generator('HSQC')"
   ]
  },
  {
   "cell_type": "code",
   "execution_count": null,
   "metadata": {
    "collapsed": true
   },
   "outputs": [],
   "source": [
    "clique = next(c_gen)"
   ]
  },
  {
   "cell_type": "code",
   "execution_count": null,
   "metadata": {
    "collapsed": true
   },
   "outputs": [],
   "source": [
    "clique"
   ]
  },
  {
   "cell_type": "code",
   "execution_count": null,
   "metadata": {
    "collapsed": true
   },
   "outputs": [],
   "source": [
    "a.residues[2].assign_clique(clique)"
   ]
  },
  {
   "cell_type": "code",
   "execution_count": null,
   "metadata": {
    "collapsed": true
   },
   "outputs": [],
   "source": [
    "a.residues[2].__local_peaks__['HSQC'][0].value"
   ]
  },
  {
   "cell_type": "code",
   "execution_count": null,
   "metadata": {
    "collapsed": true
   },
   "outputs": [],
   "source": [
    "peak = a.measured['HNCACB'][25]\n",
    "print peak"
   ]
  },
  {
   "cell_type": "code",
   "execution_count": null,
   "metadata": {
    "collapsed": true
   },
   "outputs": [],
   "source": [
    "cliques_c = a.measured.all_C_cliques(peak)\n",
    "cliques_nh = a.measured.all_cliques(peak)"
   ]
  },
  {
   "cell_type": "code",
   "execution_count": null,
   "metadata": {
    "collapsed": true
   },
   "outputs": [],
   "source": [
    "cliques_c"
   ]
  },
  {
   "cell_type": "code",
   "execution_count": null,
   "metadata": {
    "collapsed": true
   },
   "outputs": [],
   "source": [
    "cliques_nh"
   ]
  },
  {
   "cell_type": "code",
   "execution_count": null,
   "metadata": {
    "collapsed": true
   },
   "outputs": [],
   "source": [
    "c_gen = a.measured.clique_generator('HSQC')"
   ]
  },
  {
   "cell_type": "code",
   "execution_count": null,
   "metadata": {
    "collapsed": true
   },
   "outputs": [],
   "source": [
    "mobject = a.measured._clique_to_object(cliques_nh[0])"
   ]
  },
  {
   "cell_type": "code",
   "execution_count": null,
   "metadata": {
    "collapsed": true
   },
   "outputs": [],
   "source": [
    "len(mobject['HSQC'])"
   ]
  },
  {
   "cell_type": "code",
   "execution_count": null,
   "metadata": {
    "collapsed": true
   },
   "outputs": [],
   "source": [
    "count = 0\n",
    "for clique in c_gen:\n",
    "    count += 1\n",
    "print count"
   ]
  },
  {
   "cell_type": "code",
   "execution_count": null,
   "metadata": {
    "collapsed": true
   },
   "outputs": [],
   "source": []
  },
  {
   "cell_type": "code",
   "execution_count": null,
   "metadata": {
    "collapsed": true
   },
   "outputs": [],
   "source": [
    "np.random.permutation(10)"
   ]
  },
  {
   "cell_type": "code",
   "execution_count": null,
   "metadata": {
    "collapsed": true
   },
   "outputs": [],
   "source": [
    "for c in gen:\n",
    "    print c"
   ]
  },
  {
   "cell_type": "code",
   "execution_count": null,
   "metadata": {
    "collapsed": true
   },
   "outputs": [],
   "source": [
    "a.measured.G_C"
   ]
  },
  {
   "cell_type": "code",
   "execution_count": null,
   "metadata": {
    "collapsed": true
   },
   "outputs": [],
   "source": [
    "gen = a.residues[1].samples('HSQC')"
   ]
  },
  {
   "cell_type": "code",
   "execution_count": null,
   "metadata": {
    "collapsed": true
   },
   "outputs": [],
   "source": [
    "a.residues[1].node_score()"
   ]
  },
  {
   "cell_type": "code",
   "execution_count": null,
   "metadata": {
    "collapsed": true
   },
   "outputs": [],
   "source": [
    "clique = next(gen)"
   ]
  },
  {
   "cell_type": "code",
   "execution_count": null,
   "metadata": {
    "collapsed": true
   },
   "outputs": [],
   "source": [
    "print clique['HSQC'].value\n",
    "print clique['HNCACB'].value\n",
    "print clique['HN(CO)CACB'].value"
   ]
  },
  {
   "cell_type": "code",
   "execution_count": null,
   "metadata": {
    "collapsed": true
   },
   "outputs": [],
   "source": [
    "for atom in a.residues[1].values():\n",
    "    print atom.id, atom.box, e.true_x[atom.id]"
   ]
  },
  {
   "cell_type": "code",
   "execution_count": null,
   "metadata": {
    "collapsed": true
   },
   "outputs": [],
   "source": [
    "mu = np.ones((4, 1))\n",
    "v = np.random.random((1, 3))"
   ]
  },
  {
   "cell_type": "code",
   "execution_count": null,
   "metadata": {
    "collapsed": true
   },
   "outputs": [],
   "source": [
    "mu - v"
   ]
  },
  {
   "cell_type": "code",
   "execution_count": null,
   "metadata": {
    "collapsed": true
   },
   "outputs": [],
   "source": [
    "lower = np.array([120., 8.4])\n",
    "upper = np.array([130., 8.6])"
   ]
  },
  {
   "cell_type": "code",
   "execution_count": null,
   "metadata": {
    "collapsed": true
   },
   "outputs": [],
   "source": [
    "lower.reshape((1, -1))"
   ]
  },
  {
   "cell_type": "code",
   "execution_count": null,
   "metadata": {
    "collapsed": true
   },
   "outputs": [],
   "source": [
    "peak = a.measured.uniform_peak(lower, upper, 'HSQC')"
   ]
  },
  {
   "cell_type": "code",
   "execution_count": null,
   "metadata": {
    "collapsed": true
   },
   "outputs": [],
   "source": [
    "for clique in a.measured.full_clique_generator(lower, upper, 'HSQC'):\n",
    "    print clique"
   ]
  },
  {
   "cell_type": "code",
   "execution_count": null,
   "metadata": {
    "collapsed": true
   },
   "outputs": [],
   "source": [
    "nm = a.measured.sorted(a.residues[1])"
   ]
  },
  {
   "cell_type": "code",
   "execution_count": null,
   "metadata": {
    "collapsed": true
   },
   "outputs": [],
   "source": [
    "nm.peaks['HSQC'].value"
   ]
  },
  {
   "cell_type": "code",
   "execution_count": null,
   "metadata": {
    "collapsed": true
   },
   "outputs": [],
   "source": [
    "print a.residues[1].N.mu\n",
    "print a.residues[1].H.mu"
   ]
  },
  {
   "cell_type": "code",
   "execution_count": null,
   "metadata": {
    "collapsed": true
   },
   "outputs": [],
   "source": [
    "a.residues[15].H"
   ]
  },
  {
   "cell_type": "code",
   "execution_count": null,
   "metadata": {
    "collapsed": true
   },
   "outputs": [],
   "source": [
    "from Window import *\n",
    "window = MultiDimensionalWindow(residue.values())\n",
    "print window"
   ]
  },
  {
   "cell_type": "code",
   "execution_count": null,
   "metadata": {
    "collapsed": true
   },
   "outputs": [],
   "source": [
    "window = MultiDimensionalWindow()"
   ]
  },
  {
   "cell_type": "code",
   "execution_count": null,
   "metadata": {
    "collapsed": true
   },
   "outputs": [],
   "source": [
    "window[0] += Box(114.3, 117.1)\n",
    "window[1] += Box(7.0, 8.2)\n",
    "window[2] += Box(52.5, 56.2)"
   ]
  },
  {
   "cell_type": "code",
   "execution_count": null,
   "metadata": {
    "collapsed": true
   },
   "outputs": [],
   "source": [
    "window"
   ]
  },
  {
   "cell_type": "code",
   "execution_count": null,
   "metadata": {
    "collapsed": true
   },
   "outputs": [],
   "source": [
    "subgraph = a.measured.subset_to(window)"
   ]
  },
  {
   "cell_type": "code",
   "execution_count": null,
   "metadata": {
    "collapsed": true
   },
   "outputs": [],
   "source": [
    "print subgraph.peaks\n",
    "print a.measured.peaks"
   ]
  },
  {
   "cell_type": "code",
   "execution_count": null,
   "metadata": {
    "collapsed": true
   },
   "outputs": [],
   "source": [
    "cliques = [clique for clique in a.measured.clique_generator(a.measured.peaks['HSQC'][5])]"
   ]
  },
  {
   "cell_type": "code",
   "execution_count": null,
   "metadata": {
    "collapsed": true
   },
   "outputs": [],
   "source": [
    "cliques = [[clique for clique in a.measured.clique_generator(p)] for p in a.measured.peaks['HSQC']]"
   ]
  },
  {
   "cell_type": "code",
   "execution_count": null,
   "metadata": {
    "collapsed": true
   },
   "outputs": [],
   "source": [
    "print [len(c) for c in cliques]"
   ]
  },
  {
   "cell_type": "code",
   "execution_count": null,
   "metadata": {
    "collapsed": true
   },
   "outputs": [],
   "source": [
    "print cliques[2][0]"
   ]
  },
  {
   "cell_type": "code",
   "execution_count": null,
   "metadata": {
    "collapsed": true
   },
   "outputs": [],
   "source": [
    "from scipy.spatial.distance import cdist"
   ]
  },
  {
   "cell_type": "code",
   "execution_count": null,
   "metadata": {
    "collapsed": true
   },
   "outputs": [],
   "source": [
    "cdist(np.random.random((10, 2)), np.random.random((1, 2)))"
   ]
  }
 ],
 "metadata": {
  "kernelspec": {
   "display_name": "Python 2",
   "language": "python",
   "name": "python2"
  },
  "language_info": {
   "codemirror_mode": {
    "name": "ipython",
    "version": 2
   },
   "file_extension": ".py",
   "mimetype": "text/x-python",
   "name": "python",
   "nbconvert_exporter": "python",
   "pygments_lexer": "ipython2",
   "version": "2.7.14"
  }
 },
 "nbformat": 4,
 "nbformat_minor": 1
}
