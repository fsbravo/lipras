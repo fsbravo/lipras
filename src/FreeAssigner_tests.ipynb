{
 "cells": [
  {
   "cell_type": "markdown",
   "metadata": {},
   "source": [
    "# SETUP"
   ]
  },
  {
   "cell_type": "code",
   "execution_count": 1,
   "metadata": {
    "collapsed": true
   },
   "outputs": [],
   "source": [
    "import numpy as np\n",
    "import Structures as S\n",
    "import common as C\n",
    "import FreeAssigner as fa\n",
    "import networkx as nx\n",
    "import scipy.stats as sps\n",
    "import Measured\n",
    "import time"
   ]
  },
  {
   "cell_type": "markdown",
   "metadata": {},
   "source": [
    "Create protein and experiment"
   ]
  },
  {
   "cell_type": "code",
   "execution_count": 2,
   "metadata": {},
   "outputs": [
    {
     "name": "stdout",
     "output_type": "stream",
     "text": [
      "0.0830001831055\n"
     ]
    }
   ],
   "source": [
    "start = time.time()\n",
    "sequence = np.random.choice(C.DATA['mean'].index, 20, replace=True)\n",
    "# spectra = ['HSQC', 'HNCACB', 'HN(CO)CACB']\n",
    "spectra = C.SPECTRA.keys()\n",
    "p = S.FakeProtein(sequence, spectra)\n",
    "# p = S.TrueProtein(C.TESTS['bmr4391'])\n",
    "e = S.SimulatedExperiment(p, spectra)\n",
    "print time.time() - start"
   ]
  },
  {
   "cell_type": "code",
   "execution_count": 11,
   "metadata": {},
   "outputs": [
    {
     "name": "stdout",
     "output_type": "stream",
     "text": [
      "114\n",
      "114\n",
      "6.26399993896\n"
     ]
    }
   ],
   "source": [
    "start = time.time()\n",
    "spectra = C.SPECTRA.keys()\n",
    "p = S.TrueProtein(C.TESTS['sh2'])\n",
    "e = S.SimulatedExperiment(p, spectra)\n",
    "print time.time() - start"
   ]
  },
  {
   "cell_type": "code",
   "execution_count": 23,
   "metadata": {},
   "outputs": [
    {
     "name": "stdout",
     "output_type": "stream",
     "text": [
      "HSQC\n"
     ]
    }
   ],
   "source": [
    "for s, value in e.measured_peaks.iteritems():\n",
    "    if s == 'HSQC':\n",
    "        print 'HSQC'\n",
    "        continue\n",
    "    n = value.shape[0]\n",
    "    mask = np.random.random(n) < 0.8\n",
    "    e.measured_peaks[s] = value[mask, :]"
   ]
  },
  {
   "cell_type": "markdown",
   "metadata": {},
   "source": [
    "Create assigner"
   ]
  },
  {
   "cell_type": "code",
   "execution_count": 24,
   "metadata": {},
   "outputs": [
    {
     "name": "stdout",
     "output_type": "stream",
     "text": [
      "creating nodes ...\n"
     ]
    },
    {
     "name": "stderr",
     "output_type": "stream",
     "text": [
      "100%|████████████████████████████████████████████████████████████████████████████████| 130/130 [21:20<00:00,  9.85s/it]\n"
     ]
    },
    {
     "name": "stdout",
     "output_type": "stream",
     "text": [
      "no layer! AtomGroupFA()\n",
      "no layer! AtomGroupFA()\n",
      "... created 13547 nodes\n",
      "creating edges ...\n"
     ]
    },
    {
     "name": "stderr",
     "output_type": "stream",
     "text": [
      "100%|████████████████████████████████████████████████████████████████████████████████| 113/113 [06:08<00:00,  3.26s/it]\n"
     ]
    },
    {
     "name": "stdout",
     "output_type": "stream",
     "text": [
      "... created 89570 edges\n",
      "1668.7750001\n"
     ]
    }
   ],
   "source": [
    "start = time.time()\n",
    "a = fa.AssignerFA(e)\n",
    "print time.time() - start"
   ]
  },
  {
   "cell_type": "markdown",
   "metadata": {},
   "source": [
    "# FIND PATH"
   ]
  },
  {
   "cell_type": "code",
   "execution_count": 25,
   "metadata": {},
   "outputs": [
    {
     "name": "stdout",
     "output_type": "stream",
     "text": [
      "...fixing edge order...\n",
      "...creating variable...\n",
      "...created binary variable of size 89570!\n",
      "...assembling constraints\n",
      "   ...path constraints...\n",
      "   ...utilization constraints...\n",
      "...assembling objective\n",
      "... solving ...\n",
      "Optimize a model with 14579 rows, 89570 columns and 868524 nonzeros\n",
      "Variable types: 0 continuous, 89570 integer (89570 binary)\n",
      "Coefficient statistics:\n",
      "  Matrix range     [1e+00, 1e+00]\n",
      "  Objective range  [2e-04, 5e+01]\n",
      "  Bounds range     [1e+00, 1e+00]\n",
      "  RHS range        [1e+00, 1e+00]\n",
      "Presolve removed 3314 rows and 10695 columns\n",
      "Presolve time: 2.63s\n",
      "Presolved: 11265 rows, 78875 columns, 230420 nonzeros\n",
      "Variable types: 0 continuous, 78875 integer (78875 binary)\n",
      "Found heuristic solution: objective 1898.5150333\n",
      "\n",
      "Root simplex log...\n",
      "\n",
      "Iteration    Objective       Primal Inf.    Dual Inf.      Time\n",
      "    9530    4.6259987e+03   4.086237e+01   0.000000e+00      5s\n",
      "   13920    4.5770538e+03   3.904963e+01   0.000000e+00     10s\n",
      "   17660    4.5452730e+03   2.273744e+01   0.000000e+00     15s\n",
      "   21780    4.4990446e+03   3.463582e+01   0.000000e+00     20s\n",
      "   26680    4.3912176e+03   2.940227e+02   0.000000e+00     25s\n",
      "   33430    4.0831938e+03   4.172250e+03   0.000000e+00     30s\n",
      "   43520    3.6529928e+03   1.039905e+03   0.000000e+00     35s\n",
      "   49960    3.5333338e+03   4.899326e+02   0.000000e+00     40s\n",
      "   53740    3.5063468e+03   1.868889e+02   0.000000e+00     45s\n",
      "   57000    3.4954894e+03   1.804985e+01   0.000000e+00     50s\n",
      "   58812    3.4938396e+03   0.000000e+00   0.000000e+00     53s\n",
      "\n",
      "Root relaxation: objective 3.493840e+03, 58812 iterations, 50.51 seconds\n",
      "\n",
      "    Nodes    |    Current Node    |     Objective Bounds      |     Work\n",
      " Expl Unexpl |  Obj  Depth IntInf | Incumbent    BestBd   Gap | It/Node Time\n",
      "\n",
      "     0     0 3493.83958    0  121 1898.51503 3493.83958  84.0%     -   53s\n",
      "H    0     0                    3492.0341099 3493.83958  0.05%     -   53s\n",
      "H    0     0                    3492.2060562 3493.83958  0.05%     -   57s\n",
      "     0     0 3492.64295    0  132 3492.20606 3492.64295  0.01%     -   57s\n",
      "\n",
      "Cutting planes:\n",
      "  Gomory: 1\n",
      "  Zero half: 1\n",
      "\n",
      "Explored 1 nodes (59173 simplex iterations) in 57.75 seconds\n",
      "Thread count was 4 (of 4 available processors)\n",
      "\n",
      "Solution count 3: 3492.21 3492.03 1898.52 \n",
      "\n",
      "Optimal solution found (tolerance 1.00e-04)\n",
      "Best objective 3.492206056236e+03, best bound 3.492206056236e+03, gap 0.0000%\n",
      "... done!\n",
      "... building solution path ...\n",
      "... done!\n"
     ]
    }
   ],
   "source": [
    "a.optimize_ilp(G=a)"
   ]
  },
  {
   "cell_type": "code",
   "execution_count": 26,
   "metadata": {},
   "outputs": [
    {
     "name": "stdout",
     "output_type": "stream",
     "text": [
      "Residue 0 nan nan nan nan \t0\n",
      "Residue 1 nan nan nan nan nan nan nan \t0\n",
      "Residue 2 nan nan nan nan nan nan nan nan \t0\n",
      "Residue 3 nan nan nan nan nan nan nan \t0\n",
      "Residue 4 nan nan nan nan nan nan nan \t0\n",
      "Residue 5 nan nan nan nan nan nan nan nan \t0\n",
      "Residue 6 0.02 0.002 -0.01 -0.079 0.025 nan -0.18 \t6\n",
      "Residue 7 nan 0.055 0.001 0.004 -0.17 nan -0.036 \t5\n",
      "Residue 8 -0.266 0.625 -5.627 3.013 0.017 -0.33 -3.657 0.693 \t2\n",
      "Residue 9 nan nan nan nan nan nan nan nan \t0\n",
      "Residue 10 nan 1.92 -0.222 nan -0.871 -8.031 2.232 0.772 \t0\n",
      "Residue 11 \t0\n",
      "Residue 12 nan nan nan nan nan nan nan nan \t0\n",
      "Residue 13 11.002 5.276 1.65 3.027 -4.115 -2.949 2.925 -1.496 \t0\n",
      "Residue 14 nan nan nan nan nan nan nan nan \t0\n",
      "Residue 15 7.12 -1.549 0.676 nan nan 3.603 1.069 3.668 \t0\n",
      "Residue 16 nan 1.012 9.138 -0.672 3.962 -0.775 -6.605 3.574 \t0\n",
      "Residue 17 nan nan nan nan nan nan nan nan \t0\n",
      "Residue 18 1.417 2.552 -0.091 5.471 2.514 2.546 2.174 3.864 \t1\n",
      "Residue 19 nan nan nan nan nan nan nan nan \t0\n",
      "Residue 20 0.131 -0.002 0.032 0.161 -0.123 0.107 0.001 \t7\n",
      "Residue 21 nan nan nan nan nan nan nan \t0\n",
      "Residue 22 4.949 2.012 0.236 nan 2.206 -1.29 nan -1.361 \t0\n",
      "Residue 23 \t0\n",
      "Residue 24 nan nan nan nan nan nan nan nan \t0\n",
      "Residue 25 -5.311 nan 0.717 5.391 -4.989 -1.509 -3.942 2.363 \t0\n",
      "Residue 26 nan nan nan nan nan nan nan nan \t0\n",
      "Residue 27 2.443 -8.433 1.521 1.092 1.85 2.4 1.157 -1.734 \t0\n",
      "Residue 28 nan nan nan nan nan nan nan nan \t0\n",
      "Residue 29 2.676 0.26 nan 0.085 0.067 nan 0.678 0.748 \t2\n",
      "Residue 30 0.299 -0.082 -0.583 -0.271 nan -1.507 0.915 -0.102 \t3\n",
      "Residue 31 0.665 nan 0.316 -0.144 nan 2.075 0.265 3.474 \t2\n",
      "Residue 32 0.728 -12.253 2.613 -8.165 -0.201 nan -1.9 nan \t0\n",
      "Residue 33 nan nan nan nan nan nan nan nan \t0\n",
      "Residue 34 nan 6.124 -0.308 0.296 -0.261 -0.575 2.665 9.21 \t2\n",
      "Residue 35 -0.052 -0.046 -0.051 nan 0.002 0.012 0.039 \t6\n",
      "Residue 36 nan -0.001 -0.003 0.007 -0.039 -0.067 0.03 \t6\n",
      "Residue 37 0.022 -0.077 0.056 0.104 0.004 0.12 0.027 -0.13 \t8\n",
      "Residue 38 nan nan nan nan nan nan nan nan \t0\n",
      "Residue 39 -0.285 2.978 -0.269 2.462 -2.15 1.86 0.503 -0.439 \t2\n",
      "Residue 40 nan nan nan nan nan nan nan nan \t0\n",
      "Residue 41 nan 0.308 -1.111 1.849 -0.986 -1.463 nan -0.013 \t2\n",
      "Residue 42 0.011 0.006 0.095 0.01 0.115 0.207 0.088 -0.001 \t8\n",
      "Residue 43 -0.024 0.158 0.01 0.001 0.032 0.084 -0.059 nan \t7\n",
      "Residue 44 0.14 0.011 -0.037 0.053 -0.06 0.0 0.112 \t7\n",
      "Residue 45 0.089 -0.037 -0.07 -0.089 -0.006 0.002 nan \t6\n",
      "Residue 46 -0.093 0.064 0.001 0.122 -0.058 0.077 0.039 nan \t7\n",
      "Residue 47 nan -0.018 0.14 0.204 0.003 -0.032 -0.066 -0.024 \t7\n",
      "Residue 48 nan nan nan nan nan nan nan nan \t0\n",
      "Residue 49 -0.007 -0.158 -0.017 0.036 nan -0.003 0.005 -0.006 \t7\n",
      "Residue 50 0.065 0.044 0.033 -0.016 0.056 -0.061 -0.001 0.082 \t8\n",
      "Residue 51 0.016 -0.066 -0.002 -0.007 0.004 0.046 0.1 -0.001 \t8\n",
      "Residue 52 -0.039 nan -0.026 0.0 -0.039 0.22 0.026 -0.009 \t7\n",
      "Residue 53 0.006 -0.083 0.025 -0.07 0.122 -0.001 -0.022 0.0 \t8\n",
      "Residue 54 0.037 0.108 -0.043 -0.003 -0.047 0.046 -0.026 0.13 \t8\n",
      "Residue 55 nan nan nan nan nan nan nan nan \t0\n",
      "Residue 56 nan -0.119 -0.002 -0.002 -0.026 -0.031 nan \t5\n",
      "Residue 57 nan 0.001 -0.032 0.125 0.14 -0.021 -0.005 \t6\n",
      "Residue 58 \t0\n",
      "Residue 59 nan nan nan nan nan nan nan nan \t0\n",
      "Residue 60 -0.439 0.641 3.966 -0.114 -2.598 -1.036 10.446 1.137 \t1\n",
      "Residue 61 nan nan nan nan nan nan nan nan \t0\n",
      "Residue 62 -0.129 0.083 -0.001 -0.035 -0.068 0.02 -0.112 -0.061 \t8\n",
      "Residue 63 nan nan nan nan nan nan nan nan \t0\n",
      "Residue 64 0.002 0.041 0.046 nan 0.05 -0.106 -0.051 nan \t6\n",
      "Residue 65 -0.089 -0.003 -0.04 -0.023 0.031 -0.073 -0.096 0.004 \t8\n",
      "Residue 66 0.002 0.073 -0.192 -0.077 -0.02 0.022 0.099 -0.057 \t8\n",
      "Residue 67 0.001 1.729 0.112 -0.096 0.054 -0.019 -0.003 -0.09 \t7\n",
      "Residue 68 nan nan nan nan nan nan nan nan \t0\n",
      "Residue 69 0.114 -0.102 0.023 0.007 0.001 0.08 0.011 0.067 \t8\n",
      "Residue 70 0.052 -0.131 0.015 -0.061 0.007 nan -0.074 0.003 \t7\n",
      "Residue 71 -0.079 -0.008 nan 0.031 0.011 -0.092 -0.001 0.015 \t7\n",
      "Residue 72 -0.018 0.035 0.099 -0.007 0.003 0.021 -0.056 -0.034 \t8\n",
      "Residue 73 0.002 -0.188 -0.004 nan 0.039 -0.144 -0.019 0.001 \t7\n",
      "Residue 74 -0.026 0.007 -0.044 0.198 -0.018 -0.234 0.001 \t7\n",
      "Residue 75 -0.004 0.054 -0.078 -0.008 nan 0.078 -0.017 \t6\n",
      "Residue 76 nan 0.009 -0.007 -0.128 -0.003 -0.088 -0.036 \t6\n",
      "Residue 77 2.691 -0.001 0.024 0.011 0.073 -0.057 -2.794 \t5\n",
      "Residue 78 \t0\n",
      "Residue 79 -0.034 0.131 -0.042 -0.128 0.0 0.013 -0.13 -0.012 \t8\n",
      "Residue 80 0.067 0.011 0.013 -0.027 -0.003 0.039 0.144 -0.017 \t8\n",
      "Residue 81 \t0\n",
      "Residue 82 -0.19 -0.044 0.092 0.403 0.063 0.001 -0.055 -0.026 \t7\n",
      "Residue 83 -0.245 -0.153 -0.01 0.031 0.088 -0.002 1.74 -0.04 \t7\n",
      "Residue 84 nan nan nan nan nan nan nan nan \t0\n",
      "Residue 85 -0.012 0.017 7.624 nan 0.064 nan 0.0 -0.033 \t5\n",
      "Residue 86 -0.012 0.256 -0.019 -0.032 0.04 nan -0.002 0.023 \t7\n",
      "Residue 87 -0.004 0.16 -0.043 0.065 0.084 0.114 -0.102 nan \t7\n",
      "Residue 88 0.063 0.046 nan 0.019 -0.051 0.0 0.103 0.074 \t7\n",
      "Residue 89 0.123 -0.066 0.036 -0.03 -0.07 0.031 0.001 0.033 \t8\n",
      "Residue 90 0.064 -0.001 -0.009 0.089 0.045 -0.038 -0.086 -0.034 \t8\n",
      "Residue 91 -0.05 0.138 -0.001 -0.021 -0.196 -0.125 0.064 -0.145 \t8\n",
      "Residue 92 -0.001 0.092 -0.021 0.009 -0.166 -0.036 0.045 0.004 \t8\n",
      "Residue 93 \t0\n",
      "Residue 94 nan nan nan nan nan nan nan nan \t0\n",
      "Residue 95 0.001 -0.055 -0.226 -0.001 0.191 0.121 0.006 0.124 \t8\n",
      "Residue 96 -4.811 0.045 -0.059 0.022 0.067 -0.004 0.075 0.002 \t7\n",
      "Residue 97 nan nan nan nan nan nan nan nan \t0\n",
      "Residue 98 -0.25 4.72 5.761 -0.696 -4.427 -0.627 0.066 -1.317 \t1\n",
      "Residue 99 nan nan nan nan nan nan nan \t0\n",
      "Residue 100 -0.002 -0.012 0.111 -0.031 0.004 0.013 -0.058 \t7\n",
      "Residue 101 nan nan nan nan nan nan nan nan \t0\n",
      "Residue 102 -0.021 -0.02 0.082 0.025 0.003 -0.003 0.008 0.1 \t8\n",
      "Residue 103 -0.029 0.017 -0.008 -0.066 0.003 nan 0.028 0.011 \t7\n",
      "Residue 104 0.21 0.045 0.014 0.067 0.003 -0.127 -0.05 0.145 \t8\n",
      "Residue 105 0.053 -0.107 -0.03 0.052 0.002 0.086 0.124 0.021 \t8\n",
      "Residue 106 2.22 0.141 -0.065 0.146 -0.02 -0.001 0.011 0.099 \t7\n",
      "Residue 107 \t0\n",
      "Residue 108 nan nan nan nan nan nan nan nan \t0\n",
      "Residue 109 -0.497 -0.063 1.121 1.411 -0.11 -0.461 2.333 \t2\n",
      "Residue 110 \t0\n",
      "Residue 111 -0.148 -1.053 0.661 -0.944 0.127 -0.551 -0.608 -0.221 \t2\n",
      "Residue 112 0.558 7.787 nan -2.192 0.358 -6.519 -0.802 1.794 \t1\n",
      "Residue 113 nan nan nan nan nan nan nan \t0\n"
     ]
    }
   ],
   "source": [
    "a.accuracy(a.path, e.true_x)"
   ]
  },
  {
   "cell_type": "code",
   "execution_count": 20,
   "metadata": {
    "collapsed": true
   },
   "outputs": [],
   "source": [
    "correct = [0, 0, 0, 0, 0, 2, 5, 6, 8, 8, 8, 0, 8, 8, 8, 8, 8, 7, 8, 8, 7, 6, 8, 0, 8, 8, 8, 8, 8, 8, 8, 8, 8, 8, 8, 7, 6, 8, 8, 8, 0, 6, 8, 8, 6, 0, 8, 8, 7, 7, 8, 8, 0, 8, 8, 0, 7, 2, 0, 0, 0, 0, 8, 8, 8, 8, 8, 8, 8, 8, 8, 8, 8, 8, 7, 6, 7, 7, 0, 0, 0, 0, 8, 8, 7, 8, 8, 7, 6, 8, 8, 8, 8, 0, 8, 7, 8, 8, 8, 7, 7, 0, 8, 8, 8, 8, 7, 0, 8, 7, 0, 1, 0, 0]\n",
    "possibl = [0, 0, 0, 0, 0, 2, 5, 6, 8, 8, 8, 0, 8, 8, 8, 8, 8, 7, 8, 8, 7, 6, 8, 0, 8, 8, 8, 8, 8, 8, 8, 8, 8, 8, 8, 7, 6, 8, 8, 8, 0, 6, 8, 8, 6, 0, 8, 8, 7, 7, 8, 8, 0, 8, 8, 0, 7, 6, 0, 0, 8, 0, 8, 8, 8, 8, 8, 8, 8, 8, 8, 8, 8, 8, 7, 6, 7, 7, 0, 0, 8, 0, 8, 8, 7, 8, 8, 7, 6, 8, 8, 8, 8, 0, 8, 7, 8, 8, 8, 7, 7, 0, 8, 8, 8, 8, 7, 0, 8, 7, 0, 8, 8, 0]"
   ]
  },
  {
   "cell_type": "code",
   "execution_count": 21,
   "metadata": {},
   "outputs": [
    {
     "data": {
      "text/plain": [
       "0.9496402877697842"
      ]
     },
     "execution_count": 21,
     "metadata": {},
     "output_type": "execute_result"
    }
   ],
   "source": [
    "np.sum(correct) / float(np.sum(possibl))"
   ]
  },
  {
   "cell_type": "code",
   "execution_count": 5,
   "metadata": {},
   "outputs": [
    {
     "data": {
      "image/png": "[encoded data removed]",
      "text/plain": [
       "<matplotlib.figure.Figure at 0x143f8080>"
      ]
     },
     "metadata": {},
     "output_type": "display_data"
    }
   ],
   "source": [
    "%matplotlib inline\n",
    "a.draw(a.solution_path)"
   ]
  },
  {
   "cell_type": "code",
   "execution_count": 6,
   "metadata": {},
   "outputs": [
    {
     "name": "stdout",
     "output_type": "stream",
     "text": [
      "22\n"
     ]
    }
   ],
   "source": [
    "nodes = sorted(list(a.solution_path.nodes()), key=lambda node: node.residue)\n",
    "print len(nodes)"
   ]
  },
  {
   "cell_type": "code",
   "execution_count": 7,
   "metadata": {
    "collapsed": true
   },
   "outputs": [],
   "source": [
    "path = []\n",
    "residues = set()\n",
    "for node in nodes[2:]:\n",
    "    if node.residue not in residues:\n",
    "        path.append(node)\n",
    "        residues.add(node.residue)"
   ]
  },
  {
   "cell_type": "code",
   "execution_count": 8,
   "metadata": {},
   "outputs": [
    {
     "name": "stdout",
     "output_type": "stream",
     "text": [
      "35.50108097607952 35.50108097607952\n",
      "0.0 0.0\n",
      "50.52050454447451 30.278691211921053\n",
      "45.40191885065234 38.80546299680121\n",
      "45.655212129892796 39.949762624076826\n",
      "47.91942506506728 40.904157056611794\n",
      "44.57853986175121 37.88558590508394\n",
      "43.486588096281565 37.65232884665981\n",
      "38.675392547426924 33.63810343973252\n",
      "48.51620155707423 40.535337351077395\n",
      "16.667034183227727 -3.6966431378924067\n",
      "51.23189725259076 43.7265764007624\n",
      "44.412383857450685 37.405968710781764\n",
      "47.116667098989886 42.44528877400754\n",
      "39.24510893711062 37.68936012449973\n",
      "44.01325171760971 36.06999664182193\n",
      "41.6855627741066 34.825543256637175\n",
      "50.143343702098925 42.09352773216765\n",
      "46.0943459528902 38.11203479672182\n"
     ]
    }
   ],
   "source": [
    "for node1, node2 in zip(path[:-1], path[1:]):\n",
    "    print node1.edge_score(node2), node1.node_score()"
   ]
  },
  {
   "cell_type": "code",
   "execution_count": 9,
   "metadata": {},
   "outputs": [
    {
     "name": "stdout",
     "output_type": "stream",
     "text": [
      "Residue 0 \t0\n"
     ]
    },
    {
     "name": "stderr",
     "output_type": "stream",
     "text": [
      "C:\\Users\\sylen\\Anaconda2\\lib\\site-packages\\numpy\\core\\fromnumeric.py:52: RuntimeWarning: invalid value encountered in rint\n",
      "  return getattr(obj, method)(*args, **kwds)\n"
     ]
    },
    {
     "name": "stdout",
     "output_type": "stream",
     "text": [
      "Residue 1 nan nan 0.295 -3.493 nan 5.963 0.191 nan \t1\n",
      "Residue 2 -0.153 nan -0.064 0.015 0.028 0.0 0.195 -0.005 \t7\n",
      "Residue 3 0.033 -0.047 -0.001 -0.058 -0.025 -0.04 -0.083 -0.019 \t8\n",
      "Residue 4 -0.019 0.012 0.001 0.111 -0.012 0.083 -0.019 0.187 \t8\n",
      "Residue 5 -0.176 -0.016 0.007 0.0 0.003 0.059 -0.05 0.033 \t8\n",
      "Residue 6 -0.041 -0.023 0.013 -0.028 0.001 -0.003 0.128 0.074 \t8\n",
      "Residue 7 -0.002 -0.006 0.028 0.034 0.046 -0.019 0.053 -0.086 \t8\n",
      "Residue 8 -0.146 -0.002 -0.091 0.005 -0.043 -0.036 0.153 0.085 \t8\n",
      "Residue 9 nan nan nan nan nan nan nan nan \t0\n",
      "Residue 10 0.021 -0.043 0.0 0.062 -0.055 0.017 0.054 -0.045 \t8\n",
      "Residue 11 -0.042 -0.05 0.041 0.031 -0.116 0.036 -0.031 0.002 \t8\n",
      "Residue 12 -0.026 -0.087 0.109 -0.027 -0.015 0.115 0.0 -0.001 \t8\n",
      "Residue 13 -0.045 0.127 -0.023 0.05 -0.053 0.116 -0.083 0.001 \t8\n",
      "Residue 14 -0.002 0.017 0.016 -0.009 -0.04 0.024 -0.072 -0.002 \t8\n",
      "Residue 15 -0.019 0.117 0.057 0.065 0.08 -0.045 -0.017 0.003 \t8\n",
      "Residue 16 0.011 -0.073 0.043 0.125 0.131 -0.018 0.0 0.075 \t8\n",
      "Residue 17 -0.001 0.053 -0.038 2.651 0.037 0.038 -0.108 0.054 \t7\n"
     ]
    }
   ],
   "source": [
    "a.accuracy(path, e.true_x)"
   ]
  }
 ],
 "metadata": {
  "kernelspec": {
   "display_name": "Python 2",
   "language": "python",
   "name": "python2"
  },
  "language_info": {
   "codemirror_mode": {
    "name": "ipython",
    "version": 2
   },
   "file_extension": ".py",
   "mimetype": "text/x-python",
   "name": "python",
   "nbconvert_exporter": "python",
   "pygments_lexer": "ipython2",
   "version": "2.7.14"
  }
 },
 "nbformat": 4,
 "nbformat_minor": 2
}
