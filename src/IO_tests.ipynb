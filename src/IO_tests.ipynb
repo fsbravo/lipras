{
 "cells": [
  {
   "cell_type": "code",
   "execution_count": 1,
   "metadata": {},
   "outputs": [
    {
     "name": "stdout",
     "output_type": "stream",
     "text": [
      "Pretty printing has been turned OFF\n"
     ]
    }
   ],
   "source": [
    "%pprint off\n",
    "import IO"
   ]
  },
  {
   "cell_type": "code",
   "execution_count": 2,
   "metadata": {},
   "outputs": [
    {
     "data": {
      "text/plain": [
       "<module 'IO' from 'IO.pyc'>"
      ]
     },
     "execution_count": 2,
     "metadata": {},
     "output_type": "execute_result"
    }
   ],
   "source": [
    "reload(IO)"
   ]
  },
  {
   "cell_type": "code",
   "execution_count": 3,
   "metadata": {
    "collapsed": true
   },
   "outputs": [],
   "source": [
    "test = IO.NmrStarAccessor('data/NMRStar/16850.txt')"
   ]
  },
  {
   "cell_type": "code",
   "execution_count": 7,
   "metadata": {},
   "outputs": [
    {
     "data": {
      "text/plain": [
       "SaveBlock(peak_list_2):\n",
       "\tproperties: \n",
       "\t\tSf_category                         spectral_peak_list\n",
       "\t\tSample_condition_list_label         $standart\n",
       "\t\tChemical_shift_list                 .\n",
       "\t\tAssigned_chem_shift_list_ID         .\n",
       "\t\tText_data                           .\n",
       "\t\tExperiment_class                    .\n",
       "\t\tSample_condition_list_ID            1\n",
       "\t\tText_data_format                    .\n",
       "\t\tAssigned_chem_shift_list_label      .\n",
       "\t\tNumber_of_spectral_dimensions       3\n",
       "\t\tExperiment_name                     'CBCANH (h{CA|Cca}NH)'\n",
       "\t\tExperiment_type                     .\n",
       "\t\tEntry_ID                            16850\n",
       "\t\tDetails                             .\n",
       "\t\tExperiment_ID                       2\n",
       "\t\tSample_ID                           1\n",
       "\t\tSample_label                        $one\n",
       "\t\tID                                  2\n",
       "\t\tSf_framecode                        peak_list_2\n",
       "\tloops: \n",
       "\t\tPeak_char                           DataFrame(1131, 18)\n",
       "\t\tPeak_general_char                   DataFrame(754, 6)\n",
       "\t\tAssigned_peak_chem_shift            DataFrame(1131, 29)\n",
       "\t\tPeak                                DataFrame(377, 6)\n",
       "\t\tSpectral_dim                        DataFrame(3, 18)"
      ]
     },
     "execution_count": 7,
     "metadata": {},
     "output_type": "execute_result"
    }
   ],
   "source": [
    "test['Spectral_peak_list'][1]"
   ]
  },
  {
   "cell_type": "code",
   "execution_count": null,
   "metadata": {},
   "outputs": [],
   "source": [
    "test['Entity']"
   ]
  },
  {
   "cell_type": "code",
   "execution_count": null,
   "metadata": {},
   "outputs": [],
   "source": [
    "test['Spectral_peak_list'][0]"
   ]
  },
  {
   "cell_type": "code",
   "execution_count": null,
   "metadata": {
    "collapsed": true
   },
   "outputs": [],
   "source": [
    "test['Spectral_peak_list'][1]['Peak_char'].columns"
   ]
  },
  {
   "cell_type": "code",
   "execution_count": null,
   "metadata": {
    "collapsed": true
   },
   "outputs": [],
   "source": [
    "spectrum['Spectral_dim']"
   ]
  },
  {
   "cell_type": "code",
   "execution_count": null,
   "metadata": {
    "collapsed": true
   },
   "outputs": [],
   "source": [
    "spectrum = test['Spectral_peak_list'][0]\n",
    "df1 = spectrum['Peak_general_char']\n",
    "df2 = spectrum['Peak_char']\n",
    "df = df1.merge(df2, on='Peak_ID')\n",
    "intensities = df['Intensity_val'].astype('float64').as_matrix()\n",
    "c_shifts = df['Chem_shift_val'].astype('float64').as_matrix()\n",
    "dimension = df['Spectral_dim_ID'].astype('int32').as_matrix()\n",
    "print intensities\n",
    "print c_shifts\n",
    "print dimension"
   ]
  },
  {
   "cell_type": "code",
   "execution_count": null,
   "metadata": {
    "collapsed": true
   },
   "outputs": [],
   "source": [
    "import nmrstarlib"
   ]
  },
  {
   "cell_type": "code",
   "execution_count": null,
   "metadata": {
    "collapsed": true
   },
   "outputs": [],
   "source": [
    "nmrstarlib.nmrstarlib.list_spectrum_descriptions()"
   ]
  },
  {
   "cell_type": "code",
   "execution_count": null,
   "metadata": {
    "collapsed": true
   },
   "outputs": [],
   "source": [
    "from spectra import *"
   ]
  },
  {
   "cell_type": "code",
   "execution_count": null,
   "metadata": {
    "collapsed": true
   },
   "outputs": [],
   "source": [
    "SPECTRA.keys()"
   ]
  }
 ],
 "metadata": {
  "kernelspec": {
   "display_name": "Python 2",
   "language": "python",
   "name": "python2"
  },
  "language_info": {
   "codemirror_mode": {
    "name": "ipython",
    "version": 2
   },
   "file_extension": ".py",
   "mimetype": "text/x-python",
   "name": "python",
   "nbconvert_exporter": "python",
   "pygments_lexer": "ipython2",
   "version": "2.7.14"
  }
 },
 "nbformat": 4,
 "nbformat_minor": 1
}
