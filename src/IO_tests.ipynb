{
 "cells": [
  {
   "cell_type": "code",
   "execution_count": 1,
   "metadata": {},
   "outputs": [
    {
     "name": "stdout",
     "output_type": "stream",
     "text": [
      "Pretty printing has been turned OFF\n"
     ]
    }
   ],
   "source": [
    "%pprint off\n",
    "import IO"
   ]
  },
  {
   "cell_type": "code",
   "execution_count": 50,
   "metadata": {},
   "outputs": [
    {
     "data": {
      "text/plain": [
       "<module 'IO' from 'IO.py'>"
      ]
     },
     "execution_count": 50,
     "metadata": {},
     "output_type": "execute_result"
    }
   ],
   "source": [
    "reload(IO)"
   ]
  },
  {
   "cell_type": "code",
   "execution_count": 51,
   "metadata": {},
   "outputs": [],
   "source": [
    "test = IO.NmrStarAccessor('data/NMRStar/4929.txt')"
   ]
  },
  {
   "cell_type": "code",
   "execution_count": 55,
   "metadata": {},
   "outputs": [
    {
     "data": {
      "text/plain": [
       "SaveBlock(Tctex1):\n",
       "\tproperties: \n",
       "\t\tSf_category                         entity\n",
       "\t\tBMRB_code                           .\n",
       "\t\tNonpolymer_comp_ID                  .\n",
       "\t\tFormula_weight                      12668\n",
       "\t\tNstd_chirality                      .\n",
       "\t\tDB_query_date                       .\n",
       "\t\tMutation                            .\n",
       "\t\tAmbiguous_chem_comp_sites           .\n",
       "\t\tPolymer_type                        polypeptide(L)\n",
       "\t\tTarget_identifier                   .\n",
       "\t\tType                                polymer\n",
       "\t\tFragment                            .\n",
       "\t\tParamagnetic                        .\n",
       "\t\tPolymer_seq_one_letter_code         None\n",
       "\t\tNumber_of_nonpolymer_components     .\n",
       "\t\tSrc_method                          .\n",
       "\t\tPolymer_common_type                 .\n",
       "\t\tNumber_of_monomers                  114\n",
       "\t\tPolymer_author_seq_details          .\n",
       "\t\tName                                'Chlamydomonas\n",
       "\t\tPolymer_type_details                .\n",
       "\t\tDetails                             .\n",
       "\t\tNstd_linkage                        .\n",
       "\t\tEC_number                           .\n",
       "\t\tCalc_isoelectric_point              .\n",
       "\t\tNonpolymer_comp_label               .\n",
       "\t\tAmbiguous_conformational_states     .\n",
       "\t\tID                                  1\n",
       "\t\tSf_framecode                        Tctex1\n",
       "\t\tPolymer_author_defined_seq          .\n",
       "\t\tPolymer_strand_ID                   .\n",
       "\t\tPolymer_seq_one_letter_code_can     .\n",
       "\t\tFormula_weight_exptl_meth           .\n",
       "\t\tThiol_state                         'all\n",
       "\t\tParent_entity_ID                    .\n",
       "\t\tNstd_monomer                        .\n",
       "\t\tEntry_ID                            4929\n",
       "\t\tDB_query_revised_last_date          2015-01-28\n",
       "\t\tFormula_weight_exptl                .\n",
       "\tloops: \n",
       "\t\tEntity_comp_index                   DataFrame(114, 6)\n",
       "\t\tEntity_db_link                      DataFrame(4, 22)\n",
       "\t\tEntity_common_name                  DataFrame(2, 4)\n",
       "\t\tEntity_poly_seq                     DataFrame(114, 6)"
      ]
     },
     "execution_count": 55,
     "metadata": {},
     "output_type": "execute_result"
    }
   ],
   "source": [
    "test['Entity']"
   ]
  }
 ],
 "metadata": {
  "kernelspec": {
   "display_name": "Python 2",
   "language": "python",
   "name": "python2"
  },
  "language_info": {
   "codemirror_mode": {
    "name": "ipython",
    "version": 2
   },
   "file_extension": ".py",
   "mimetype": "text/x-python",
   "name": "python",
   "nbconvert_exporter": "python",
   "pygments_lexer": "ipython2",
   "version": "2.7.14"
  }
 },
 "nbformat": 4,
 "nbformat_minor": 1
}
