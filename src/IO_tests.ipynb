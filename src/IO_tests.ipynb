{
 "cells": [
  {
   "cell_type": "code",
   "execution_count": 78,
   "metadata": {},
   "outputs": [
    {
     "name": "stdout",
     "output_type": "stream",
     "text": [
      "Pretty printing has been turned OFF\n"
     ]
    }
   ],
   "source": [
    "%pprint off\n",
    "import IO"
   ]
  },
  {
   "cell_type": "code",
   "execution_count": 75,
   "metadata": {},
   "outputs": [
    {
     "data": {
      "text/plain": [
       "<module 'IO' from 'IO.py'>"
      ]
     },
     "execution_count": 75,
     "metadata": {},
     "output_type": "execute_result"
    }
   ],
   "source": [
    "reload(IO)"
   ]
  },
  {
   "cell_type": "code",
   "execution_count": 76,
   "metadata": {
    "collapsed": true
   },
   "outputs": [],
   "source": [
    "test = IO.NmrStarAccessor('data/NMRStar/16850.txt')"
   ]
  },
  {
   "cell_type": "code",
   "execution_count": 79,
   "metadata": {},
   "outputs": [
    {
     "data": {
      "text/plain": [
       "NMR-STAR file:\n",
       "\tEntry ::: SaveBlock(entry_information_1) with 27 properties and 6 loops\n",
       "\tCitation ::: SaveBlock(Msrb_Trx) with 42 properties and 1 loops\n",
       "\tAssembly ::: SaveBlock(assembly_1) with 20 properties and 1 loops\n",
       "\tEntity ::: SaveBlock(thioredoxin) with 39 properties and 2 loops\n",
       "\tEntity_natural_src_list ::: SaveBlock(natural_source_1) with 4 properties and 1 loops\n",
       "\tEntity_experimental_src_list ::: SaveBlock(experimental_source_1) with 4 properties and 1 loops\n",
       "\tSample ::: SaveBlock(one) with 31 properties and 1 loops\n",
       "\tSample_condition_list ::: SaveBlock(standart) with 5 properties and 1 loops\n",
       "\tSoftware ::: SaveBlock(CcpNmr_Analysis_2.1) with 9 properties and 2 loops\n",
       "\tNMR_spectrometer ::: SaveBlock(spectrometer_1) with 9 properties and 0 loops\n",
       "\tNMR_spectrometer_list ::: SaveBlock(NMR_spectrometer_list_1) with 4 properties and 1 loops\n",
       "\tNMR_spectrometer_probe ::: SaveBlock(cold) with 13 properties and 1 loops\n",
       "\tExperiment_list ::: SaveBlock(experiment_list_1) with 5 properties and 1 loops\n",
       "\tChem_shift_reference ::: SaveBlock(chemical_shift_reference_1) with 5 properties and 1 loops\n",
       "\tAssigned_chem_shift_list ::: SaveBlock(assigned_chem_shift_list_1) with 18 properties and 3 loops\n",
       "\tSpectral_peak_list ::: 8 save blocks\n",
       "\t\tSaveBlock(peak_list_1) with 19 properties and 5 loops\n",
       "\t\tSaveBlock(peak_list_2) with 19 properties and 5 loops\n",
       "\t\tSaveBlock(peak_list_3) with 19 properties and 1 loops\n",
       "\t\tSaveBlock(peak_list_4) with 19 properties and 5 loops\n",
       "\t\tSaveBlock(peak_list_5) with 19 properties and 1 loops\n",
       "\t\tSaveBlock(peak_list_6) with 19 properties and 1 loops\n",
       "\t\tSaveBlock(peak_list_7) with 19 properties and 5 loops\n",
       "\t\tSaveBlock(peak_list_8) with 19 properties and 5 loops"
      ]
     },
     "execution_count": 79,
     "metadata": {},
     "output_type": "execute_result"
    }
   ],
   "source": [
    "test"
   ]
  },
  {
   "cell_type": "code",
   "execution_count": 91,
   "metadata": {},
   "outputs": [
    {
     "data": {
      "text/plain": [
       "SaveBlock(thioredoxin):\n",
       "\tproperties: \n",
       "\t\tSf_category                         entity\n",
       "\t\tBMRB_code                           .\n",
       "\t\tNonpolymer_comp_ID                  .\n",
       "\t\tFormula_weight                      12787.5293\n",
       "\t\tNstd_chirality                      no\n",
       "\t\tDB_query_date                       .\n",
       "\t\tMutation                            C35S\n",
       "\t\tAmbiguous_chem_comp_sites           no\n",
       "\t\tPolymer_type                        polypeptide(L)\n",
       "\t\tTarget_identifier                   .\n",
       "\t\tType                                polymer\n",
       "\t\tFragment                            .\n",
       "\t\tParamagnetic                        no\n",
       "\t\tPolymer_seq_one_letter_code         MVKQIESKTAFQEALDAAGD KLVVVDFSATWCGPSKMIKP FFHSLSEKYSNVIFLEVDVD DCQDVASECEVKCMPTFQFF KKGQKVGEFSGANKEKLEAT INELVLEHHHHHH\n",
       "\t\tNumber_of_nonpolymer_components     .\n",
       "\t\tSrc_method                          .\n",
       "\t\tPolymer_common_type                 .\n",
       "\t\tNumber_of_monomers                  113\n",
       "\t\tPolymer_author_seq_details          .\n",
       "\t\tName                                thioredoxin\n",
       "\t\tPolymer_type_details                .\n",
       "\t\tDetails                             .\n",
       "\t\tNstd_linkage                        no\n",
       "\t\tEC_number                           .\n",
       "\t\tCalc_isoelectric_point              .\n",
       "\t\tNonpolymer_comp_label               .\n",
       "\t\tAmbiguous_conformational_states     no\n",
       "\t\tID                                  1\n",
       "\t\tSf_framecode                        thioredoxin\n",
       "\t\tPolymer_author_defined_seq          .\n",
       "\t\tPolymer_strand_ID                   A\n",
       "\t\tPolymer_seq_one_letter_code_can     .\n",
       "\t\tFormula_weight_exptl_meth           .\n",
       "\t\tThiol_state                         'all free'\n",
       "\t\tParent_entity_ID                    1\n",
       "\t\tNstd_monomer                        no\n",
       "\t\tEntry_ID                            16850\n",
       "\t\tDB_query_revised_last_date          .\n",
       "\t\tFormula_weight_exptl                .\n",
       "\tloops: \n",
       "\t\tEntity_comp_index                   DataFrame(113, 6)\n",
       "\t\tEntity_poly_seq                     DataFrame(113, 6)"
      ]
     },
     "execution_count": 91,
     "metadata": {},
     "output_type": "execute_result"
    }
   ],
   "source": [
    "test['Entity']"
   ]
  },
  {
   "cell_type": "code",
   "execution_count": 100,
   "metadata": {},
   "outputs": [
    {
     "data": {
      "text/plain": [
       "SaveBlock(peak_list_1):\n",
       "\tproperties: \n",
       "\t\tSf_category                         spectral_peak_list\n",
       "\t\tSample_condition_list_label         $standart\n",
       "\t\tChemical_shift_list                 .\n",
       "\t\tAssigned_chem_shift_list_ID         .\n",
       "\t\tText_data                           .\n",
       "\t\tExperiment_class                    .\n",
       "\t\tSample_condition_list_ID            1\n",
       "\t\tText_data_format                    .\n",
       "\t\tAssigned_chem_shift_list_label      .\n",
       "\t\tNumber_of_spectral_dimensions       2\n",
       "\t\tExperiment_name                     '2D 1H-15N HSQC/HMQC'\n",
       "\t\tExperiment_type                     .\n",
       "\t\tEntry_ID                            16850\n",
       "\t\tDetails                             .\n",
       "\t\tExperiment_ID                       1\n",
       "\t\tSample_ID                           1\n",
       "\t\tSample_label                        $one\n",
       "\t\tID                                  1\n",
       "\t\tSf_framecode                        peak_list_1\n",
       "\tloops: \n",
       "\t\tPeak_char                           DataFrame(198, 18)\n",
       "\t\tPeak_general_char                   DataFrame(198, 6)\n",
       "\t\tAssigned_peak_chem_shift            DataFrame(198, 29)\n",
       "\t\tPeak                                DataFrame(99, 6)\n",
       "\t\tSpectral_dim                        DataFrame(2, 18)"
      ]
     },
     "execution_count": 100,
     "metadata": {},
     "output_type": "execute_result"
    }
   ],
   "source": [
    "test['Spectral_peak_list'][0]"
   ]
  },
  {
   "cell_type": "code",
   "execution_count": null,
   "metadata": {},
   "outputs": [],
   "source": [
    "test['Spectral_peak_list'][1]['Peak_char'].columns"
   ]
  },
  {
   "cell_type": "code",
   "execution_count": null,
   "metadata": {},
   "outputs": [],
   "source": [
    "spectrum['Spectral_dim']"
   ]
  },
  {
   "cell_type": "code",
   "execution_count": null,
   "metadata": {},
   "outputs": [],
   "source": [
    "spectrum = test['Spectral_peak_list'][0]\n",
    "df1 = spectrum['Peak_general_char']\n",
    "df2 = spectrum['Peak_char']\n",
    "df = df1.merge(df2, on='Peak_ID')\n",
    "intensities = df['Intensity_val'].astype('float64').as_matrix()\n",
    "c_shifts = df['Chem_shift_val'].astype('float64').as_matrix()\n",
    "dimension = df['Spectral_dim_ID'].astype('int32').as_matrix()\n",
    "print intensities\n",
    "print c_shifts\n",
    "print dimension"
   ]
  },
  {
   "cell_type": "code",
   "execution_count": null,
   "metadata": {
    "collapsed": true
   },
   "outputs": [],
   "source": [
    "import nmrstarlib"
   ]
  },
  {
   "cell_type": "code",
   "execution_count": null,
   "metadata": {},
   "outputs": [],
   "source": [
    "nmrstarlib.nmrstarlib.list_spectrum_descriptions()"
   ]
  },
  {
   "cell_type": "code",
   "execution_count": null,
   "metadata": {
    "collapsed": true
   },
   "outputs": [],
   "source": [
    "from spectra import *"
   ]
  },
  {
   "cell_type": "code",
   "execution_count": null,
   "metadata": {},
   "outputs": [],
   "source": [
    "SPECTRA.keys()"
   ]
  }
 ],
 "metadata": {
  "kernelspec": {
   "display_name": "Python 2",
   "language": "python",
   "name": "python2"
  },
  "language_info": {
   "codemirror_mode": {
    "name": "ipython",
    "version": 2
   },
   "file_extension": ".py",
   "mimetype": "text/x-python",
   "name": "python",
   "nbconvert_exporter": "python",
   "pygments_lexer": "ipython2",
   "version": "2.7.14"
  }
 },
 "nbformat": 4,
 "nbformat_minor": 1
}
