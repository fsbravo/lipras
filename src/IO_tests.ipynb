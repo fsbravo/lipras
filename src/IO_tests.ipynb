{
 "cells": [
  {
   "cell_type": "code",
   "execution_count": 1,
   "metadata": {
    "collapsed": false
   },
   "outputs": [
    {
     "name": "stdout",
     "output_type": "stream",
     "text": [
      "Pretty printing has been turned OFF\n"
     ]
    }
   ],
   "source": [
    "%pprint off\n",
    "import IO"
   ]
  },
  {
   "cell_type": "code",
   "execution_count": null,
   "metadata": {
    "collapsed": false
   },
   "outputs": [],
   "source": [
    "reload(IO)"
   ]
  },
  {
   "cell_type": "code",
   "execution_count": 2,
   "metadata": {
    "collapsed": false
   },
   "outputs": [],
   "source": [
    "test = IO.NmrStarAccessor('data/NMRStar/HACS1.txt')"
   ]
  },
  {
   "cell_type": "code",
   "execution_count": 7,
   "metadata": {
    "collapsed": false
   },
   "outputs": [
    {
     "data": {
      "text/plain": [
       "SaveBlock(entity):\n",
       "\tproperties: ['Sf_category', 'BMRB_code', 'Nonpolymer_comp_ID', 'Formula_weight', 'Nstd_chirality', 'DB_query_date', 'Mutation', 'Ambiguous_chem_comp_sites', 'Polymer_type', 'Target_identifier', 'Type', 'Fragment', 'Paramagnetic', 'Polymer_seq_one_letter_code', 'Number_of_nonpolymer_components', 'Src_method', 'Polymer_common_type', 'Number_of_monomers', 'Polymer_author_seq_details', 'Name', 'Polymer_type_details', 'Details', 'Nstd_linkage', 'EC_number', 'Calc_isoelectric_point', 'Nonpolymer_comp_label', 'Ambiguous_conformational_states', 'ID', 'Sf_framecode', 'Polymer_author_defined_seq', 'Polymer_strand_ID', 'Polymer_seq_one_letter_code_can', 'Formula_weight_exptl_meth', 'Thiol_state', 'Parent_entity_ID', 'Nstd_monomer', 'Entry_ID', 'DB_query_revised_last_date', 'Formula_weight_exptl']\n",
       "\tloops: ['Entity_comp_index', 'Entity_db_link', 'Entity_poly_seq']"
      ]
     },
     "execution_count": 7,
     "metadata": {},
     "output_type": "execute_result"
    }
   ],
   "source": [
    "test['Entity']"
   ]
  }
 ],
 "metadata": {
  "kernelspec": {
   "display_name": "Python 2",
   "language": "python",
   "name": "python2"
  },
  "language_info": {
   "codemirror_mode": {
    "name": "ipython",
    "version": 2
   },
   "file_extension": ".py",
   "mimetype": "text/x-python",
   "name": "python",
   "nbconvert_exporter": "python",
   "pygments_lexer": "ipython2",
   "version": "2.7.12"
  }
 },
 "nbformat": 4,
 "nbformat_minor": 0
}
