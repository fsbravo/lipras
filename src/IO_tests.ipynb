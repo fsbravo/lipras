{
 "cells": [
  {
   "cell_type": "code",
   "execution_count": 1,
   "metadata": {
    "collapsed": false
   },
   "outputs": [
    {
     "name": "stdout",
     "output_type": "stream",
     "text": [
      "Pretty printing has been turned OFF\n"
     ]
    }
   ],
   "source": [
    "%pprint off\n",
    "import IO"
   ]
  },
  {
   "cell_type": "code",
   "execution_count": null,
   "metadata": {
    "collapsed": false
   },
   "outputs": [],
   "source": [
    "reload(IO)"
   ]
  },
  {
   "cell_type": "code",
   "execution_count": null,
   "metadata": {
    "collapsed": true
   },
   "outputs": [],
   "source": [
    "test = IO.NmrStarAccessor('data/NMRStar/TM1112.txt')"
   ]
  },
  {
   "cell_type": "code",
   "execution_count": 3,
   "metadata": {
    "collapsed": false
   },
   "outputs": [],
   "source": [
    "from common import *\n",
    "from Structures import *"
   ]
  },
  {
   "cell_type": "code",
   "execution_count": null,
   "metadata": {
    "collapsed": false
   },
   "outputs": [],
   "source": [
    "DATA['mean'].columns"
   ]
  },
  {
   "cell_type": "code",
   "execution_count": 10,
   "metadata": {
    "collapsed": false
   },
   "outputs": [],
   "source": [
    "p = Protein(nmrstar='data/NMRStar/CASKIN.txt')"
   ]
  },
  {
   "cell_type": "code",
   "execution_count": 11,
   "metadata": {
    "collapsed": false
   },
   "outputs": [
    {
     "data": {
      "text/plain": [
       "0           NaN\n",
       "1           NaN\n",
       "2      -0.52657\n",
       "3     0.0424528\n",
       "4     -0.981651\n",
       "5      -1.39789\n",
       "6      -1.66957\n",
       "7          -0.5\n",
       "8     -0.320755\n",
       "9      -1.41284\n",
       "10    -0.389163\n",
       "11     0.178295\n",
       "12    -0.771654\n",
       "13     -0.31016\n",
       "14    -0.650943\n",
       "15    -0.722944\n",
       "16          NaN\n",
       "17     0.568627\n",
       "18    -0.166023\n",
       "19    -0.592784\n",
       "20     -0.84434\n",
       "21     -0.31016\n",
       "22    -0.408451\n",
       "23     -1.66957\n",
       "24     0.371134\n",
       "25    -0.633588\n",
       "26     0.536946\n",
       "27   -0.0774648\n",
       "28    -0.652985\n",
       "29     0.397683\n",
       "        ...    \n",
       "38   -0.0391304\n",
       "39     -1.51181\n",
       "40    -0.981651\n",
       "41    0.0839695\n",
       "42     -1.12987\n",
       "43    -0.395522\n",
       "44    -0.316017\n",
       "45     -2.57005\n",
       "46          NaN\n",
       "47          NaN\n",
       "48          NaN\n",
       "49      0.48855\n",
       "50    -0.594595\n",
       "51    -0.389163\n",
       "52    -0.447826\n",
       "53    -0.798507\n",
       "54    0.0839695\n",
       "55       -0.212\n",
       "56     -1.27519\n",
       "57          NaN\n",
       "58     0.169935\n",
       "59     0.465649\n",
       "60    -0.190299\n",
       "61     -1.39789\n",
       "62     -1.83575\n",
       "63    -0.084507\n",
       "64     -2.05634\n",
       "65      1.73913\n",
       "66    -0.119266\n",
       "67   -0.0391304\n",
       "Name: CA, dtype: object"
      ]
     },
     "execution_count": 11,
     "metadata": {},
     "output_type": "execute_result"
    }
   ],
   "source": [
    "(p.residues['CA']-p.locs['CA'])/p.scales['CA']"
   ]
  },
  {
   "cell_type": "code",
   "execution_count": null,
   "metadata": {
    "collapsed": true
   },
   "outputs": [],
   "source": [
    "c_shifts = p.bmrb['Assigned_chem_shift_list']['Atom_chem_shift']"
   ]
  },
  {
   "cell_type": "code",
   "execution_count": null,
   "metadata": {
    "collapsed": false
   },
   "outputs": [],
   "source": [
    "c_shifts"
   ]
  }
 ],
 "metadata": {
  "kernelspec": {
   "display_name": "Python 2",
   "language": "python",
   "name": "python2"
  },
  "language_info": {
   "codemirror_mode": {
    "name": "ipython",
    "version": 2
   },
   "file_extension": ".py",
   "mimetype": "text/x-python",
   "name": "python",
   "nbconvert_exporter": "python",
   "pygments_lexer": "ipython2",
   "version": "2.7.12"
  }
 },
 "nbformat": 4,
 "nbformat_minor": 1
}
