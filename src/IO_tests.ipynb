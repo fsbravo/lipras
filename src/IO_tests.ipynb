{
 "cells": [
  {
   "cell_type": "code",
   "execution_count": 1,
   "metadata": {},
   "outputs": [
    {
     "name": "stdout",
     "output_type": "stream",
     "text": [
      "Pretty printing has been turned OFF\n"
     ]
    }
   ],
   "source": [
    "%pprint off\n",
    "import IO"
   ]
  },
  {
   "cell_type": "code",
   "execution_count": 17,
   "metadata": {},
   "outputs": [
    {
     "data": {
      "text/plain": [
       "<module 'IO' from 'IO.py'>"
      ]
     },
     "execution_count": 17,
     "metadata": {},
     "output_type": "execute_result"
    }
   ],
   "source": [
    "reload(IO)"
   ]
  },
  {
   "cell_type": "code",
   "execution_count": 18,
   "metadata": {
    "collapsed": true
   },
   "outputs": [],
   "source": [
    "test = IO.NmrStarAccessor('data/NMRStar/6693.txt')"
   ]
  },
  {
   "cell_type": "code",
   "execution_count": 19,
   "metadata": {},
   "outputs": [
    {
     "data": {
      "text/plain": [
       "NMR-STAR file:\n",
       "\tEntry ::: SaveBlock(entry_information) with 17 properties and 4 loops\n",
       "\tCitation ::: SaveBlock(entry_citation) with 42 properties and 1 loops\n",
       "\tAssembly ::: SaveBlock(assembly) with 20 properties and 2 loops\n",
       "\tEntity ::: SaveBlock(BoR11) with 39 properties and 3 loops\n",
       "\tEntity_natural_src_list ::: SaveBlock(natural_source) with 4 properties and 1 loops\n",
       "\tEntity_experimental_src_list ::: SaveBlock(experimental_source) with 4 properties and 1 loops\n",
       "\tSample ::: SaveBlock(sample_BoR11.BoR11-21.3-NC-GF-6.5_BoR11.004) with 31 properties and 1 loops\n",
       "\tSample_condition_list ::: 2 save blocks\n",
       "\t\tSaveBlock(conditions_1) with 5 properties and 1 loops\n",
       "\t\tSaveBlock(conditions_2) with 5 properties and 1 loops\n",
       "\tSoftware ::: 7 save blocks\n",
       "\t\tSaveBlock(vnmr) with 7 properties and 1 loops\n",
       "\t\tSaveBlock(xwin-nmr) with 7 properties and 1 loops\n",
       "\t\tSaveBlock(NmrPipe) with 7 properties and 1 loops\n",
       "\t\tSaveBlock(Sparky) with 7 properties and 1 loops\n",
       "\t\tSaveBlock(AutoAssign) with 7 properties and 1 loops\n",
       "\t\tSaveBlock(AutoStructure) with 7 properties and 1 loops\n",
       "\t\tSaveBlock(SPINS) with 7 properties and 1 loops\n",
       "\tNMR_spectrometer ::: 4 save blocks\n",
       "\t\tSaveBlock(NMR_spectrometer_1) with 9 properties and 0 loops\n",
       "\t\tSaveBlock(NMR_spectrometer_2) with 9 properties and 0 loops\n",
       "\t\tSaveBlock(NMR_spectrometer_3) with 9 properties and 0 loops\n",
       "\t\tSaveBlock(NMR_spectrometer_4) with 9 properties and 0 loops\n",
       "\tExperiment_list ::: SaveBlock(NMR_experiment_list) with 5 properties and 1 loops\n",
       "\tNMR_spec_expt ::: 33 save blocks\n",
       "\t\tSaveBlock(NMR_spectrometer_expt_1) with 22 properties and 0 loops\n",
       "\t\tSaveBlock(NMR_spectrometer_expt_2) with 22 properties and 0 loops\n",
       "\t\tSaveBlock(NMR_spectrometer_expt_3) with 22 properties and 0 loops\n",
       "\t\tSaveBlock(NMR_spectrometer_expt_4) with 22 properties and 0 loops\n",
       "\t\tSaveBlock(NMR_spectrometer_expt_5) with 22 properties and 0 loops\n",
       "\t\tSaveBlock(NMR_spectrometer_expt_6) with 22 properties and 0 loops\n",
       "\t\tSaveBlock(NMR_spectrometer_expt_7) with 22 properties and 0 loops\n",
       "\t\tSaveBlock(NMR_spectrometer_expt_8) with 22 properties and 0 loops\n",
       "\t\tSaveBlock(NMR_spectrometer_expt_9) with 22 properties and 0 loops\n",
       "\t\tSaveBlock(NMR_spectrometer_expt_10) with 22 properties and 0 loops\n",
       "\t\tSaveBlock(NMR_spectrometer_expt_11) with 22 properties and 0 loops\n",
       "\t\tSaveBlock(NMR_spectrometer_expt_12) with 22 properties and 0 loops\n",
       "\t\tSaveBlock(NMR_spectrometer_expt_13) with 22 properties and 0 loops\n",
       "\t\tSaveBlock(NMR_spectrometer_expt_14) with 22 properties and 0 loops\n",
       "\t\tSaveBlock(NMR_spectrometer_expt_15) with 22 properties and 0 loops\n",
       "\t\tSaveBlock(NMR_spectrometer_expt_16) with 22 properties and 0 loops\n",
       "\t\tSaveBlock(NMR_spectrometer_expt_17) with 22 properties and 0 loops\n",
       "\t\tSaveBlock(NMR_spectrometer_expt_18) with 22 properties and 0 loops\n",
       "\t\tSaveBlock(NMR_spectrometer_expt_19) with 22 properties and 0 loops\n",
       "\t\tSaveBlock(NMR_spectrometer_expt_20) with 22 properties and 0 loops\n",
       "\t\tSaveBlock(NMR_spectrometer_expt_21) with 22 properties and 0 loops\n",
       "\t\tSaveBlock(NMR_spectrometer_expt_22) with 22 properties and 0 loops\n",
       "\t\tSaveBlock(NMR_spectrometer_expt_23) with 22 properties and 0 loops\n",
       "\t\tSaveBlock(NMR_spectrometer_expt_24) with 22 properties and 0 loops\n",
       "\t\tSaveBlock(NMR_spectrometer_expt_25) with 22 properties and 0 loops\n",
       "\t\tSaveBlock(NMR_spectrometer_expt_26) with 22 properties and 0 loops\n",
       "\t\tSaveBlock(NMR_spectrometer_expt_27) with 22 properties and 0 loops\n",
       "\t\tSaveBlock(NMR_spectrometer_expt_28) with 22 properties and 0 loops\n",
       "\t\tSaveBlock(NMR_spectrometer_expt_29) with 22 properties and 0 loops\n",
       "\t\tSaveBlock(NMR_spectrometer_expt_30) with 22 properties and 0 loops\n",
       "\t\tSaveBlock(NMR_spectrometer_expt_31) with 22 properties and 0 loops\n",
       "\t\tSaveBlock(NMR_spectrometer_expt_32) with 22 properties and 0 loops\n",
       "\t\tSaveBlock(NMR_spectrometer_expt_33) with 22 properties and 0 loops\n",
       "\tChem_shift_reference ::: SaveBlock(chemical_shift_referencing) with 5 properties and 1 loops\n",
       "\tAssigned_chem_shift_list ::: SaveBlock(chem_shift_list_1) with 18 properties and 2 loops\n",
       "\tSpectral_peak_list ::: 7 save blocks\n",
       "\t\tSaveBlock(spectral_peak_list_1) with 14 properties and 5 loops\n",
       "\t\tSaveBlock(spectral_peak_list_4) with 14 properties and 5 loops\n",
       "\t\tSaveBlock(spectral_peak_list_5) with 14 properties and 5 loops\n",
       "\t\tSaveBlock(spectral_peak_list_6) with 14 properties and 5 loops\n",
       "\t\tSaveBlock(spectral_peak_list_7) with 14 properties and 5 loops\n",
       "\t\tSaveBlock(spectral_peak_list_8) with 14 properties and 5 loops\n",
       "\t\tSaveBlock(spectral_peak_list_11) with 14 properties and 5 loops"
      ]
     },
     "execution_count": 19,
     "metadata": {},
     "output_type": "execute_result"
    }
   ],
   "source": [
    "test"
   ]
  },
  {
   "cell_type": "code",
   "execution_count": 61,
   "metadata": {},
   "outputs": [
    {
     "data": {
      "text/plain": [
       "SaveBlock(spectral_peak_list_4):\n",
       "\tproperties: \n",
       "\t\tSf_category                         spectral_peak_list\n",
       "\t\tSample_condition_list_label         $conditions_1\n",
       "\t\tText_data                           .\n",
       "\t\tSample_condition_list_ID            1\n",
       "\t\tText_data_format                    .\n",
       "\t\tNumber_of_spectral_dimensions       3\n",
       "\t\tExperiment_name                     hCBCAcoNH\n",
       "\t\tEntry_ID                            6693\n",
       "\t\tDetails                             .\n",
       "\t\tExperiment_ID                       1\n",
       "\t\tSample_ID                           1\n",
       "\t\tSample_label                        $sample_BoR11.BoR11-21.3-NC-GF-6.5_BoR11.004\n",
       "\t\tID                                  2\n",
       "\t\tSf_framecode                        spectral_peak_list_4\n",
       "\tloops: \n",
       "\t\tPeak_char                           DataFrame(2907, 18)\n",
       "\t\tPeak_general_char                   DataFrame(969, 6)\n",
       "\t\tSpectral_peak_software              DataFrame(3, 6)\n",
       "\t\tPeak                                DataFrame(969, 5)\n",
       "\t\tSpectral_dim                        DataFrame(3, 13)"
      ]
     },
     "execution_count": 61,
     "metadata": {},
     "output_type": "execute_result"
    }
   ],
   "source": [
    "test['Spectral_peak_list'][1]"
   ]
  },
  {
   "cell_type": "code",
   "execution_count": 68,
   "metadata": {},
   "outputs": [
    {
     "data": {
      "text/plain": [
       "Index([u'Peak_ID', u'Spectral_dim_ID', u'Chem_shift_val',\n",
       "       u'Chem_shift_val_err', u'Line_width_val', u'Line_width_val_err',\n",
       "       u'Phase_val', u'Phase_val_err', u'Decay_rate_val',\n",
       "       u'Decay_rate_val_err', u'Coupling_pattern', u'Bounding_box_upper_val',\n",
       "       u'Bounding_box_lower_val', u'Bounding_box_range_val', u'Details',\n",
       "       u'Derivation_method_ID', u'Entry_ID', u'Spectral_peak_list_ID'],\n",
       "      dtype='object')"
      ]
     },
     "execution_count": 68,
     "metadata": {},
     "output_type": "execute_result"
    }
   ],
   "source": [
    "test['Spectral_peak_list'][1]['Peak_char'].columns"
   ]
  },
  {
   "cell_type": "code",
   "execution_count": 73,
   "metadata": {},
   "outputs": [
    {
     "data": {
      "text/html": [
       "<div>\n",
       "<style>\n",
       "    .dataframe thead tr:only-child th {\n",
       "        text-align: right;\n",
       "    }\n",
       "\n",
       "    .dataframe thead th {\n",
       "        text-align: left;\n",
       "    }\n",
       "\n",
       "    .dataframe tbody tr th {\n",
       "        vertical-align: top;\n",
       "    }\n",
       "</style>\n",
       "<table border=\"1\" class=\"dataframe\">\n",
       "  <thead>\n",
       "    <tr style=\"text-align: right;\">\n",
       "      <th></th>\n",
       "      <th>ID</th>\n",
       "      <th>Atom_type</th>\n",
       "      <th>Atom_isotope_number</th>\n",
       "      <th>Spectral_region</th>\n",
       "      <th>Magnetization_linkage_ID</th>\n",
       "      <th>Under_sampling_type</th>\n",
       "      <th>Sweep_width</th>\n",
       "      <th>Sweep_width_units</th>\n",
       "      <th>Center_frequency_offset</th>\n",
       "      <th>Encoding_code</th>\n",
       "      <th>Encoded_reduced_dimension_ID</th>\n",
       "      <th>Entry_ID</th>\n",
       "      <th>Spectral_peak_list_ID</th>\n",
       "    </tr>\n",
       "  </thead>\n",
       "  <tbody>\n",
       "    <tr>\n",
       "      <th>0</th>\n",
       "      <td>1</td>\n",
       "      <td>C</td>\n",
       "      <td>13</td>\n",
       "      <td>C</td>\n",
       "      <td>.</td>\n",
       "      <td>.</td>\n",
       "      <td>11499.21</td>\n",
       "      <td>.</td>\n",
       "      <td>.</td>\n",
       "      <td>.</td>\n",
       "      <td>.</td>\n",
       "      <td>6693</td>\n",
       "      <td>1</td>\n",
       "    </tr>\n",
       "    <tr>\n",
       "      <th>1</th>\n",
       "      <td>2</td>\n",
       "      <td>N</td>\n",
       "      <td>15</td>\n",
       "      <td>N</td>\n",
       "      <td>.</td>\n",
       "      <td>.</td>\n",
       "      <td>9342.97</td>\n",
       "      <td>.</td>\n",
       "      <td>.</td>\n",
       "      <td>.</td>\n",
       "      <td>.</td>\n",
       "      <td>6693</td>\n",
       "      <td>1</td>\n",
       "    </tr>\n",
       "    <tr>\n",
       "      <th>2</th>\n",
       "      <td>3</td>\n",
       "      <td>H</td>\n",
       "      <td>1</td>\n",
       "      <td>H-C</td>\n",
       "      <td>.</td>\n",
       "      <td>.</td>\n",
       "      <td>1800.00</td>\n",
       "      <td>.</td>\n",
       "      <td>.</td>\n",
       "      <td>.</td>\n",
       "      <td>.</td>\n",
       "      <td>6693</td>\n",
       "      <td>1</td>\n",
       "    </tr>\n",
       "  </tbody>\n",
       "</table>\n",
       "</div>"
      ],
      "text/plain": [
       "  ID Atom_type Atom_isotope_number Spectral_region Magnetization_linkage_ID  \\\n",
       "0  1         C                  13               C                        .   \n",
       "1  2         N                  15               N                        .   \n",
       "2  3         H                   1             H-C                        .   \n",
       "\n",
       "  Under_sampling_type Sweep_width Sweep_width_units Center_frequency_offset  \\\n",
       "0                   .    11499.21                 .                       .   \n",
       "1                   .     9342.97                 .                       .   \n",
       "2                   .     1800.00                 .                       .   \n",
       "\n",
       "  Encoding_code Encoded_reduced_dimension_ID Entry_ID Spectral_peak_list_ID  \n",
       "0             .                            .     6693                     1  \n",
       "1             .                            .     6693                     1  \n",
       "2             .                            .     6693                     1  "
      ]
     },
     "execution_count": 73,
     "metadata": {},
     "output_type": "execute_result"
    }
   ],
   "source": [
    "spectrum['Spectral_dim']"
   ]
  },
  {
   "cell_type": "code",
   "execution_count": 72,
   "metadata": {},
   "outputs": [
    {
     "name": "stdout",
     "output_type": "stream",
     "text": [
      "[1.14767660e+07 7.35456050e+06 3.34882500e+06 7.23881750e+06\n",
      " 2.70533775e+06 1.09694920e+07 4.00487725e+06 4.45808350e+06\n",
      " 1.06999250e+07 4.29499800e+06 8.25552800e+06 3.25617100e+06\n",
      " 4.01576200e+06 6.43125450e+06 9.44619700e+06 6.84703050e+06\n",
      " 9.84096200e+06 4.59008450e+06 1.83584440e+07 9.42732500e+06\n",
      " 1.20690780e+07 3.50477825e+06 1.88235920e+07 9.85421200e+06\n",
      " 1.40642660e+07 8.50174400e+06 9.15286400e+06 4.31820600e+06\n",
      " 9.64202600e+06 3.54927100e+06 8.39006300e+06 3.35693400e+06\n",
      " 9.56590800e+06 3.09466250e+06 9.17148600e+06 3.04566350e+06\n",
      " 3.05625640e+07 9.60166900e+06 2.34420960e+07 4.84854080e+07\n",
      " 2.01651872e+08 1.21199112e+08 4.55109960e+07 1.41718430e+07\n",
      " 4.61788400e+07 1.51359440e+07 3.81299520e+07 3.91291760e+07\n",
      " 1.46671980e+07 4.00464750e+06 1.19507900e+07 6.21277450e+06\n",
      " 2.11490280e+07 8.27097100e+06 8.39513800e+06 2.49027560e+07\n",
      " 1.38833920e+07 9.20582200e+06 1.41173160e+07 1.78206560e+07\n",
      " 4.69056080e+07 2.87901040e+07 1.92382580e+07 1.45733380e+07\n",
      " 4.69378600e+06 1.27050600e+07 1.47733320e+07 8.03794100e+06\n",
      " 1.18515540e+07 7.80873000e+06 3.03833350e+06 6.77961500e+06\n",
      " 5.27410100e+06 8.12806000e+06 1.65049890e+07 1.32076830e+07\n",
      " 3.59811800e+06 2.11865040e+07 1.67879000e+07 8.24687600e+06\n",
      " 1.77846800e+07 9.73653800e+06 1.02124620e+07 4.56139000e+06\n",
      " 1.58243180e+07 9.07811200e+06 1.21175120e+07 6.27149500e+06\n",
      " 8.66432200e+06 3.97669925e+06 1.27372960e+07 7.10095750e+06\n",
      " 2.23557560e+07 2.03989560e+07 1.90112920e+07 1.27467660e+07\n",
      " 1.55139330e+07 5.11098550e+06 5.83316150e+06 1.60554780e+07\n",
      " 8.81420400e+06 2.49897840e+07 2.25627220e+07 1.73877260e+07\n",
      " 7.31173800e+06 2.52328920e+07 1.91870480e+07 1.46737350e+07\n",
      " 5.37399750e+06 1.91380180e+07 8.34216650e+06 3.01834640e+07\n",
      " 2.52103880e+07 8.36834240e+07 4.46271640e+07 1.11522840e+07\n",
      " 4.17476160e+07 4.01042080e+07 3.10237625e+06 4.07514160e+07\n",
      " 2.42406280e+07 1.69170460e+07 1.26628420e+07 6.99443500e+06\n",
      " 1.61489040e+07 1.28921060e+07 5.70961700e+06 5.39257600e+06\n",
      " 2.05300020e+07 3.46653525e+06 6.99012050e+06 1.37974340e+07\n",
      " 2.47707040e+07 1.10689630e+07 1.49947440e+07 1.44623720e+07\n",
      " 1.05106560e+07 8.38249050e+06 1.16034770e+07 5.09487450e+06\n",
      " 8.99271600e+06 2.73247600e+06 7.23986200e+06 6.08795600e+06\n",
      " 1.51248330e+07 1.33772350e+07 1.02835810e+07 7.05646550e+06\n",
      " 8.06544850e+06 1.63775890e+07 7.97565450e+06 1.70670940e+07\n",
      " 1.09502700e+07 3.98127520e+07 3.80062440e+07 1.19162900e+07\n",
      " 3.18874900e+07 3.71045640e+07 1.21151910e+07 1.33823520e+07\n",
      " 1.11552310e+07 4.46423850e+06 2.29117000e+07 8.09474500e+06\n",
      " 2.23824120e+07 1.61160770e+07 4.69070250e+06 1.71976120e+07\n",
      " 1.57266940e+07 3.37739600e+07 3.29299880e+07 2.25416240e+07\n",
      " 1.53777180e+07 2.21800080e+07 9.10597600e+06 1.40498150e+07\n",
      " 5.40634600e+06 2.46530560e+07 1.61954720e+07 5.94437920e+07\n",
      " 3.93677960e+07 1.74877840e+07 1.34622620e+07 1.64710480e+07\n",
      " 1.22934460e+07 2.40939825e+06 6.26854100e+06 4.59274360e+07\n",
      " 8.37601440e+07 1.99450860e+07 1.39081420e+07 9.77812700e+06\n",
      " 5.02736950e+06 1.16274120e+07 4.35070400e+06 8.84929200e+06\n",
      " 4.35243450e+06 1.79036820e+07 9.65446800e+06 1.12933680e+07\n",
      " 4.33469100e+06 2.60499720e+07 2.30184880e+07 1.18417700e+07\n",
      " 5.50776750e+06 1.39005420e+07 6.56867650e+06 1.54524510e+07\n",
      " 1.14355180e+07 4.74851100e+06 6.71383500e+06 2.66294725e+06\n",
      " 8.13686300e+06 5.20610400e+06 1.02955030e+07 3.90218625e+06\n",
      " 2.31172200e+07 1.04494100e+07 3.24968400e+07 7.77400000e+00\n",
      " 7.77500000e+00 1.16601200e+06 9.16381625e+05 6.95307500e+05\n",
      " 4.40889800e+06 3.49790400e+06 1.72663475e+06 1.08426470e+07\n",
      " 1.22724700e+07 1.00392930e+07 9.06588500e+06 1.30005260e+07\n",
      " 2.58121920e+07 7.27270750e+06 6.26854100e+06 2.21387950e+06\n",
      " 1.99640088e+06 1.47826470e+07 1.68969560e+07 1.09047140e+07\n",
      " 2.37701260e+07 4.51766450e+06 6.94839550e+06 1.81476740e+07\n",
      " 9.03023400e+06 3.05579475e+06 1.51189760e+07 1.12227150e+07\n",
      " 1.67519720e+07 9.41001200e+06 1.14322550e+07 4.30821000e+06\n",
      " 1.09293160e+07 4.38543450e+06 7.01586900e+06 6.76023500e+06\n",
      " 1.11522840e+07 7.29514100e+06 5.20610400e+06 8.10981900e+06\n",
      " 2.93485150e+06]\n",
      "[  8.97  129.777  57.314   9.227 132.545  58.726   9.225 132.55   37.796\n",
      "   8.85  132.011  64.127   8.847 131.966  31.98    9.162 130.262  61.72\n",
      "   9.163 130.299  33.134   8.972 129.78   28.868   8.84  129.241  62.291\n",
      "   8.838 129.266  32.866   9.061 128.558  57.898   9.063 128.53   29.048\n",
      "   9.555 129.462  68.938   9.553 129.498  63.525   9.482 126.099  52.527\n",
      "   9.483 126.107  41.961   9.539 124.363  53.023   9.539 124.368  44.641\n",
      "   9.284 124.847  54.855   9.284 124.855  34.364   9.172 125.473  62.429\n",
      "   9.17  125.427  31.859   9.064 125.679  54.294   9.064 125.681  29.71\n",
      "   9.026 126.702  54.292   9.024 126.72   43.285   9.163 127.884  54.916\n",
      "   9.165 127.862  36.519   9.032 127.835  60.648   9.033 127.815  35.291\n",
      "   9.234 127.509  61.508   9.229 127.507  38.777   8.602 127.897  60.898\n",
      "   8.6   127.922  33.35    7.875 128.578  61.289   7.874 128.608  35.051\n",
      "   8.293 127.238  54.855   8.294 127.215  31.651   7.955 127.046  69.961\n",
      "   7.955 127.055  63.089   8.146 125.515  56.132   8.146 125.513  30.362\n",
      "   8.37  125.847  61.8     8.37  125.852  33.884   8.469 125.939  61.166\n",
      "   8.469 125.952  38.742   8.576 125.746  63.982   8.576 125.739  58.238\n",
      "   7.987 125.551  62.837   7.986 125.528  32.399   7.914 125.426  53.763\n",
      "   7.91  125.431  42.838   7.57  125.675  54.33    7.569 125.679  28.376\n",
      "   7.898 122.534  62.978   8.023 122.746  56.076   8.023 122.74   30.294\n",
      "   8.315 122.811  63.911   8.315 122.807  59.964   8.414 123.215  59.296\n",
      "   8.455 122.978  56.711   8.453 123.     30.273   8.525 123.075  55.062\n",
      "   8.546 123.286  53.557   8.546 123.279  34.414   8.525 123.097  18.791\n",
      "   8.622 123.294  58.711   8.62  123.298  41.177   8.582 124.165  54.508\n",
      "   8.584 124.175  43.323   8.447 123.99   56.998   8.455 124.237  55.654\n",
      "   8.455 124.221  43.743   8.448 124.778  69.023   8.453 124.779  61.155\n",
      "   8.52  124.902  59.081   8.518 124.903  29.783   8.791 125.357  47.273\n",
      "   8.97  123.332  57.128   8.97  123.333  30.839   9.127 124.258  55.346\n",
      "   9.13  124.241  33.24    9.232 123.773  58.031   9.231 123.787  41.746\n",
      "   9.134 123.258  54.981   9.133 123.276  42.813   9.517 123.042  63.393]\n",
      "[1 2 3 1 2 3 1 2 3 1 2 3 1 2 3 1 2 3 1 2 3 1 2 3 1 2 3 1 2 3 1 2 3 1 2 3 1\n",
      " 2 3 1 2 3 1 2 3 1 2 3 1 2 3 1 2 3 1 2 3 1 2 3 1 2 3 1 2 3 1 2 3 1 2 3 1 2\n",
      " 3 1 2 3 1 2 3 1 2 3 1 2 3 1 2 3 1 2 3 1 2 3 1 2 3 1 2 3 1 2 3 1 2 3 1 2 3\n",
      " 1 2 3 1 2 3 1 2 3 1 2 3 1 2 3 1 2 3 1 2 3 1 2 3 1 2 3 1 2 3 1 2 3 1 2 3 1\n",
      " 2 3 1 2 3 1 2 3 1 2 3 1 2 3 1 2 3 1 2 3 1 2 3 1 2 3 1 2 3 1 2 3 1 2 3 1 2\n",
      " 3 1 2 3 1 2 3 1 2 3 1 2 3 1 2 3 1 2 3 1 2 3 1 2 3 1 2 3 1 2 3 1 2 3 1 2 3\n",
      " 1 2 3 1 2 3 1 2 3 1 2 3 1 2 3 1 2 3 1 2 3 1 2 3 1 2 3 1 2 3 1 2 3 1 2 3 1\n",
      " 2 3]\n"
     ]
    }
   ],
   "source": [
    "spectrum = test['Spectral_peak_list'][0]\n",
    "df1 = spectrum['Peak_general_char']\n",
    "df2 = spectrum['Peak_char']\n",
    "df = df1.merge(df2, on='Peak_ID')\n",
    "intensities = df['Intensity_val'].astype('float64').as_matrix()\n",
    "c_shifts = df['Chem_shift_val'].astype('float64').as_matrix()\n",
    "dimension = df['Spectral_dim_ID'].astype('int32').as_matrix()\n",
    "print intensities\n",
    "print c_shifts\n",
    "print dimension"
   ]
  },
  {
   "cell_type": "code",
   "execution_count": 48,
   "metadata": {
    "collapsed": true
   },
   "outputs": [],
   "source": [
    "import nmrstarlib"
   ]
  },
  {
   "cell_type": "code",
   "execution_count": 62,
   "metadata": {},
   "outputs": [
    {
     "name": "stdout",
     "output_type": "stream",
     "text": [
      "{u'CANCO': {u'Labels': [u'CA', u'N', u'CO-1'],\n",
      "            u'MinNumberPeaksPerSpinSystem': 1,\n",
      "            u'PeakDescriptions': [{u'dimensions': [u'CA', u'N', u'CO-1'], u'fraction': 1}]},\n",
      " u'CANCOCX': {u'Labels': [u'CA', u'N', u'CO-1', u'CX-1'],\n",
      "              u'MinNumberPeaksPerSpinSystem': 2,\n",
      "              u'PeakDescriptions': [{u'dimensions': [u'CA', u'N', u'CO-1', u'CO-1'], u'fraction': 1},\n",
      "                                    {u'dimensions': [u'CA', u'N', u'CO-1', u'CA-1'], u'fraction': 1},\n",
      "                                    {u'dimensions': [u'CA', u'N', u'CO-1', u'CB-1'], u'fraction': 1},\n",
      "                                    {u'dimensions': [u'CA', u'N', u'CO-1', u'CG-1'], u'fraction': 1},\n",
      "                                    {u'dimensions': [u'CA', u'N', u'CO-1', u'CD-1'], u'fraction': 1},\n",
      "                                    {u'dimensions': [u'CA', u'N', u'CO-1', u'CE-1'], u'fraction': 1},\n",
      "                                    {u'dimensions': [u'CA', u'N', u'CO-1', u'CZ-1'], u'fraction': 1}]},\n",
      " u'CBCANH': {u'Labels': [u'CA/CB', u'H', u'N'],\n",
      "             u'MinNumberPeaksPerSpinSystem': 2,\n",
      "             u'PeakDescriptions': [{u'dimensions': [u'CA', u'H', u'N'], u'fraction': 1},\n",
      "                                   {u'dimensions': [u'CB', u'H', u'N'], u'fraction': 0.95},\n",
      "                                   {u'dimensions': [u'CA', u'H+1', u'N+1'], u'fraction': 1},\n",
      "                                   {u'dimensions': [u'CB', u'H+1', u'N+1'], u'fraction': 0.95}]},\n",
      " u'CBCAcoNH': {u'Labels': [u'CA/CB', u'H+1', u'N+1'],\n",
      "               u'MinNumberPeaksPerSpinSystem': 2,\n",
      "               u'PeakDescriptions': [{u'dimensions': [u'CA', u'H+1', u'N+1'], u'fraction': 1},\n",
      "                                     {u'dimensions': [u'CB', u'H+1', u'N+1'], u'fraction': 0.95}]},\n",
      " u'CCcoNH': {u'Labels': [u'CX-1', u'N', u'H'],\n",
      "             u'MinNumberPeaksPerSpinSystem': 2,\n",
      "             u'PeakDescriptions': [{u'dimensions': [u'CA-1', u'N', u'H'], u'fraction': 1},\n",
      "                                   {u'dimensions': [u'CB-1', u'N', u'H'], u'fraction': 1},\n",
      "                                   {u'dimensions': [u'CG-1', u'N', u'H'], u'fraction': 1},\n",
      "                                   {u'dimensions': [u'CD-1', u'N', u'H'], u'fraction': 1},\n",
      "                                   {u'dimensions': [u'CE-1', u'N', u'H'], u'fraction': 1},\n",
      "                                   {u'dimensions': [u'CZ-1', u'N', u'H'], u'fraction': 1}],\n",
      "             u'ResonanceLimit': {u'ALA': [u'H', u'N', u'CA', u'CB'],\n",
      "                                 u'ARG': [u'H', u'N', u'CA', u'CB', u'CG', u'CD', u'CZ'],\n",
      "                                 u'ASN': [u'H', u'N', u'CA', u'CB', u'CG'],\n",
      "                                 u'ASP': [u'H', u'N', u'CA', u'CB', u'CG'],\n",
      "                                 u'CYS': [u'H', u'N', u'CA', u'CB'],\n",
      "                                 u'GLN': [u'H', u'N', u'CA', u'CB', u'CG', u'CD'],\n",
      "                                 u'GLU': [u'H', u'N', u'CA', u'CB', u'CG', u'CD'],\n",
      "                                 u'GLY': [u'H', u'N', u'CA'],\n",
      "                                 u'HIS': [u'H', u'N', u'CA', u'CB'],\n",
      "                                 u'ILE': [u'H', u'N', u'CA', u'CB', u'CG1', u'CG2', u'CD1'],\n",
      "                                 u'LEU': [u'H', u'N', u'CA', u'CB', u'CG', u'CD1', u'CD2'],\n",
      "                                 u'LYS': [u'H', u'N', u'CA', u'CB', u'CG', u'CD', u'CE'],\n",
      "                                 u'MET': [u'H', u'N', u'CA', u'CB', u'CG', u'CE'],\n",
      "                                 u'PHE': [u'H', u'N', u'CA', u'CB'],\n",
      "                                 u'SER': [u'H', u'N', u'CA', u'CB'],\n",
      "                                 u'THR': [u'H', u'N', u'CA', u'CB', u'CG2'],\n",
      "                                 u'TRP': [u'H', u'N', u'CA', u'CB'],\n",
      "                                 u'TYR': [u'H', u'N', u'CA', u'CB'],\n",
      "                                 u'VAL': [u'H', u'N', u'CA', u'CB', u'CG1', u'CG2']}},\n",
      " u'HBHAcoNH': {u'Labels': [u'HA/HB-1', u'N', u'H'],\n",
      "               u'MinNumberPeaksPerSpinSystem': 2,\n",
      "               u'PeakDescriptions': [{u'dimensions': [u'HA-1', u'N', u'H'], u'fraction': 1},\n",
      "                                     {u'dimensions': [u'HB-1', u'N', u'H'], u'fraction': 1}]},\n",
      " u'HNCA': {u'Labels': [u'H', u'N', u'CA'],\n",
      "           u'MinNumberPeaksPerSpinSystem': 1,\n",
      "           u'PeakDescriptions': [{u'dimensions': [u'H', u'N', u'CA'], u'fraction': 1},\n",
      "                                 {u'dimensions': [u'H', u'N', u'CA-1'], u'fraction': 1}]},\n",
      " u'HNCACB': {u'Labels': [u'H', u'N', u'CA/CB'],\n",
      "             u'MinNumberPeaksPerSpinSystem': 2,\n",
      "             u'PeakDescriptions': [{u'dimensions': [u'H', u'N', u'CA'], u'fraction': 1},\n",
      "                                   {u'dimensions': [u'H', u'N', u'CB'], u'fraction': 0.95},\n",
      "                                   {u'dimensions': [u'H', u'N', u'CA-1'], u'fraction': 1},\n",
      "                                   {u'dimensions': [u'H', u'N', u'CB-1'], u'fraction': 0.95}]},\n",
      " u'HNCO': {u'Labels': [u'H', u'N', u'CO-1'],\n",
      "           u'MinNumberPeaksPerSpinSystem': 1,\n",
      "           u'PeakDescriptions': [{u'dimensions': [u'H', u'N', u'CO-1'], u'fraction': 1}]},\n",
      " u'HNcaCO': {u'Labels': [u'H', u'N', u'CO'],\n",
      "             u'MinNumberPeaksPerSpinSystem': 1,\n",
      "             u'PeakDescriptions': [{u'dimensions': [u'H', u'N', u'CO'], u'fraction': 1},\n",
      "                                   {u'dimensions': [u'H', u'N', u'CO-1'], u'fraction': 1}]},\n",
      " u'HNcoCA': {u'Labels': [u'H', u'N', u'CA'],\n",
      "             u'MinNumberPeaksPerSpinSystem': 1,\n",
      "             u'PeakDescriptions': [{u'dimensions': [u'H', u'N', u'CA-1'], u'fraction': 1}]},\n",
      " u'HNcoCACB': {u'Labels': [u'H', u'N', u'CA/CB-1'],\n",
      "               u'MinNumberPeaksPerSpinSystem': 2,\n",
      "               u'PeakDescriptions': [{u'dimensions': [u'H', u'N', u'CA-1'], u'fraction': 1},\n",
      "                                     {u'dimensions': [u'H', u'N', u'CB-1'], u'fraction': 0.95}]},\n",
      " u'HSQC': {u'Labels': [u'H', u'N'],\n",
      "           u'MinNumberPeaksPerSpinSystem': 1,\n",
      "           u'PeakDescriptions': [{u'dimensions': [u'H', u'N'], u'fraction': 1}]},\n",
      " u'HccoNH': {u'Labels': [u'HX-1', u'N', u'H'],\n",
      "             u'MinNumberPeaksPerSpinSystem': 2,\n",
      "             u'PeakDescriptions': [{u'dimensions': [u'HA-1', u'N', u'H'], u'fraction': 1},\n",
      "                                   {u'dimensions': [u'HB-1', u'N', u'H'], u'fraction': 1},\n",
      "                                   {u'dimensions': [u'HG-1', u'N', u'H'], u'fraction': 1},\n",
      "                                   {u'dimensions': [u'HD-1', u'N', u'H'], u'fraction': 1},\n",
      "                                   {u'dimensions': [u'HE-1', u'N', u'H'], u'fraction': 1},\n",
      "                                   {u'dimensions': [u'HH-1', u'N', u'H'], u'fraction': 1},\n",
      "                                   {u'dimensions': [u'HZ-1', u'N', u'H'], u'fraction': 1}],\n",
      "             u'ResonanceLimit': {u'ALA': [u'H', u'N', u'HA', u'HB'],\n",
      "                                 u'ARG': [u'H', u'N', u'HA', u'HB2', u'HB3', u'HG2', u'HG3', u'HD2', u'HD3'],\n",
      "                                 u'ASN': [u'H', u'N', u'HA', u'HB2', u'HB3'],\n",
      "                                 u'ASP': [u'H', u'N', u'HA', u'HB2', u'HB3'],\n",
      "                                 u'CYS': [u'H', u'N', u'HA', u'HB2', u'HB3'],\n",
      "                                 u'GLN': [u'H', u'N', u'HA', u'HB2', u'HB3', u'HG2', u'HG3'],\n",
      "                                 u'GLU': [u'H', u'N', u'HA', u'HB2', u'HB3', u'HG2', u'HG3'],\n",
      "                                 u'GLY': [u'H', u'N', u'HA2', u'HA3'],\n",
      "                                 u'HIS': [u'H', u'N', u'HA', u'HB2', u'HB3'],\n",
      "                                 u'ILE': [u'H', u'N', u'HA', u'HB', u'HG12', u'HG13', u'HG2', u'HD1'],\n",
      "                                 u'LEU': [u'H', u'N', u'HA', u'HB2', u'HB3', u'HD1', u'HD2'],\n",
      "                                 u'LYS': [u'H',\n",
      "                                          u'N',\n",
      "                                          u'HA',\n",
      "                                          u'HB2',\n",
      "                                          u'HB3',\n",
      "                                          u'HG2',\n",
      "                                          u'HG3',\n",
      "                                          u'HD2',\n",
      "                                          u'HD3',\n",
      "                                          u'HE2',\n",
      "                                          u'HE3'],\n",
      "                                 u'MET': [u'H', u'N', u'HA', u'HB2', u'HB3', u'HG2', u'HG3', u'HE'],\n",
      "                                 u'PHE': [u'H', u'N', u'HA', u'HB2', u'HB3'],\n",
      "                                 u'SER': [u'H', u'N', u'HA', u'HB2', u'HB3'],\n",
      "                                 u'THR': [u'H', u'N', u'HA', u'HB', u'HG2'],\n",
      "                                 u'TRP': [u'H', u'N', u'HA', u'HB2', u'HB3'],\n",
      "                                 u'TYR': [u'H', u'N', u'HA', u'HB2', u'HB3'],\n",
      "                                 u'VAL': [u'H', u'N', u'HA', u'HB', u'HG1', u'HG2']}},\n",
      " u'NCA': {u'Labels': [u'N', u'CA'],\n",
      "          u'MinNumberPeaksPerSpinSystem': 1,\n",
      "          u'PeakDescriptions': [{u'dimensions': [u'N', u'CA'], u'fraction': 1}]},\n",
      " u'NCACX': {u'Labels': [u'N', u'CA', u'CX'],\n",
      "            u'MinNumberPeaksPerSpinSystem': 2,\n",
      "            u'PeakDescriptions': [{u'dimensions': [u'N', u'CA', u'CO'], u'fraction': 1},\n",
      "                                  {u'dimensions': [u'N', u'CA', u'CA'], u'fraction': 1},\n",
      "                                  {u'dimensions': [u'N', u'CA', u'CB'], u'fraction': 1},\n",
      "                                  {u'dimensions': [u'N', u'CA', u'CG'], u'fraction': 1},\n",
      "                                  {u'dimensions': [u'N', u'CA', u'CD'], u'fraction': 1},\n",
      "                                  {u'dimensions': [u'N', u'CA', u'CE'], u'fraction': 1},\n",
      "                                  {u'dimensions': [u'N', u'CA', u'CZ'], u'fraction': 1}]},\n",
      " u'NCO': {u'Labels': [u'N', u'CO-1'],\n",
      "          u'MinNumberPeaksPerSpinSystem': 1,\n",
      "          u'PeakDescriptions': [{u'dimensions': [u'N', u'CO-1'], u'fraction': 1}]},\n",
      " u'NCOCX': {u'Labels': [u'N', u'CO-1', u'CX-1'],\n",
      "            u'MinNumberPeaksPerSpinSystem': 2,\n",
      "            u'PeakDescriptions': [{u'dimensions': [u'N', u'CO-1', u'CA-1'], u'fraction': 1},\n",
      "                                  {u'dimensions': [u'N', u'CO-1', u'CB-1'], u'fraction': 1},\n",
      "                                  {u'dimensions': [u'N', u'CO-1', u'CG-1'], u'fraction': 1},\n",
      "                                  {u'dimensions': [u'N', u'CO-1', u'CD-1'], u'fraction': 1},\n",
      "                                  {u'dimensions': [u'N', u'CO-1', u'CE-1'], u'fraction': 1},\n",
      "                                  {u'dimensions': [u'N', u'CO-1', u'CZ-1'], u'fraction': 1}]}}\n",
      "None\n"
     ]
    }
   ],
   "source": [
    "nmrstarlib.nmrstarlib.list_spectrum_descriptions()"
   ]
  },
  {
   "cell_type": "code",
   "execution_count": 63,
   "metadata": {
    "collapsed": true
   },
   "outputs": [],
   "source": [
    "from spectra import *"
   ]
  },
  {
   "cell_type": "code",
   "execution_count": 64,
   "metadata": {},
   "outputs": [
    {
     "data": {
      "text/plain": [
       "[u'NCOCX', u'HccoNH', u'HNcaCO', u'HNCA', u'HBHAcoNH', u'HNCO', u'CANCO', u'CANCOCX', u'HNCACB', u'HNcoCA', u'NCO', u'HNcoCACB', u'NCA', u'NCACX', u'CBCAcoNH', u'CCcoNH', u'HSQC', u'CBCANH']"
      ]
     },
     "execution_count": 64,
     "metadata": {},
     "output_type": "execute_result"
    }
   ],
   "source": [
    "SPECTRA.keys()"
   ]
  }
 ],
 "metadata": {
  "kernelspec": {
   "display_name": "Python 2",
   "language": "python",
   "name": "python2"
  },
  "language_info": {
   "codemirror_mode": {
    "name": "ipython",
    "version": 2
   },
   "file_extension": ".py",
   "mimetype": "text/x-python",
   "name": "python",
   "nbconvert_exporter": "python",
   "pygments_lexer": "ipython2",
   "version": "2.7.14"
  }
 },
 "nbformat": 4,
 "nbformat_minor": 1
}
