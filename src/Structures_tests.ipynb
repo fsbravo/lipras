{
 "cells": [
  {
   "cell_type": "code",
   "execution_count": 1,
   "metadata": {},
   "outputs": [
    {
     "name": "stdout",
     "output_type": "stream",
     "text": [
      "Pretty printing has been turned OFF\n"
     ]
    }
   ],
   "source": [
    "import Structures\n",
    "%pprint off"
   ]
  },
  {
   "cell_type": "code",
   "execution_count": 9,
   "metadata": {},
   "outputs": [
    {
     "data": {
      "text/plain": [
       "<module 'Structures' from 'Structures.py'>"
      ]
     },
     "execution_count": 9,
     "metadata": {},
     "output_type": "execute_result"
    }
   ],
   "source": [
    "reload(Structures)"
   ]
  },
  {
   "cell_type": "code",
   "execution_count": 10,
   "metadata": {},
   "outputs": [
    {
     "name": "stdout",
     "output_type": "stream",
     "text": [
      "no Auth_seq_ID, using regular ID\n"
     ]
    }
   ],
   "source": [
    "p = Structures.Protein('data/NMRStar/16850.txt')"
   ]
  },
  {
   "cell_type": "code",
   "execution_count": 11,
   "metadata": {},
   "outputs": [],
   "source": [
    "e = Structures.Experiment(p)"
   ]
  },
  {
   "cell_type": "code",
   "execution_count": 12,
   "metadata": {},
   "outputs": [
    {
     "data": {
      "text/plain": [
       "Experiment on Protein (ID: 16850, Thioredoxin) with 113 residues.\n",
       "ExpectedPeaks(\n",
       "\tSpectrum(HN(CA)CO: 225 peaks)\n",
       "\tSpectrum(HNCA: 225 peaks)\n",
       "\tSpectrum(HNCO: 112 peaks)\n",
       "\tSpectrum(HN(CO)CA: 112 peaks)\n",
       "\tSpectrum(HNCACB: 450 peaks)\n",
       "\tSpectrum(HN(CO)CACB: 224 peaks)\n",
       "\tSpectrum(HSQC: 113 peaks)\n",
       "\t)\n",
       "MeasuredPeaks(\n",
       "\tMeasuredSpectrum(HN(CA)CO: 0 peaks)\n",
       "\tMeasuredSpectrum(HNCA: 193 peaks)\n",
       "\tMeasuredSpectrum(HNCO: 0 peaks)\n",
       "\tMeasuredSpectrum(HN(CO)CA: 94 peaks)\n",
       "\tMeasuredSpectrum(HNCACB: 377 peaks)\n",
       "\tMeasuredSpectrum(HN(CO)CACB: 184 peaks)\n",
       "\tMeasuredSpectrum(HSQC: 99 peaks)\n",
       "\t)\n",
       "[SpinSystem(<SpinSystems.SpinSystem object at 0x000000001551C860>, id=0), SpinSystem(<SpinSystems.SpinSystem object at 0x000000001551C898>, id=1), SpinSystem(<SpinSystems.SpinSystem object at 0x000000001551C8D0>, id=2), SpinSystem(<SpinSystems.SpinSystem object at 0x000000001551C908>, id=3), SpinSystem(<SpinSystems.SpinSystem object at 0x000000001551C940>, id=4), SpinSystem(<SpinSystems.SpinSystem object at 0x000000001551C978>, id=5), SpinSystem(<SpinSystems.SpinSystem object at 0x000000001551C9B0>, id=6), SpinSystem(<SpinSystems.SpinSystem object at 0x000000001551C9E8>, id=7), SpinSystem(<SpinSystems.SpinSystem object at 0x000000001551CA20>, id=8), SpinSystem(<SpinSystems.SpinSystem object at 0x000000001551CA58>, id=9), SpinSystem(<SpinSystems.SpinSystem object at 0x000000001551CA90>, id=10), SpinSystem(<SpinSystems.SpinSystem object at 0x000000001551CAC8>, id=11), SpinSystem(<SpinSystems.SpinSystem object at 0x000000001551CB00>, id=12), SpinSystem(<SpinSystems.SpinSystem object at 0x000000001551CB38>, id=13), SpinSystem(<SpinSystems.SpinSystem object at 0x000000001551CB70>, id=14), SpinSystem(<SpinSystems.SpinSystem object at 0x000000001551CBA8>, id=15), SpinSystem(<SpinSystems.SpinSystem object at 0x000000001551CBE0>, id=16), SpinSystem(<SpinSystems.SpinSystem object at 0x000000001551CC18>, id=17), SpinSystem(<SpinSystems.SpinSystem object at 0x000000001551CC50>, id=18), SpinSystem(<SpinSystems.SpinSystem object at 0x000000001551CC88>, id=19), SpinSystem(<SpinSystems.SpinSystem object at 0x000000001551CCC0>, id=20), SpinSystem(<SpinSystems.SpinSystem object at 0x000000001551CCF8>, id=21), SpinSystem(<SpinSystems.SpinSystem object at 0x000000001551CD30>, id=22), SpinSystem(<SpinSystems.SpinSystem object at 0x000000001551CD68>, id=23), SpinSystem(<SpinSystems.SpinSystem object at 0x000000001551CDA0>, id=24), SpinSystem(<SpinSystems.SpinSystem object at 0x000000001551CDD8>, id=25), SpinSystem(<SpinSystems.SpinSystem object at 0x000000001551CE10>, id=26), SpinSystem(<SpinSystems.SpinSystem object at 0x000000001551CE48>, id=27), SpinSystem(<SpinSystems.SpinSystem object at 0x000000001551CE80>, id=28), SpinSystem(<SpinSystems.SpinSystem object at 0x000000001551CEB8>, id=29), SpinSystem(<SpinSystems.SpinSystem object at 0x000000001551CEF0>, id=30), SpinSystem(<SpinSystems.SpinSystem object at 0x000000001551CF28>, id=31), SpinSystem(<SpinSystems.SpinSystem object at 0x000000001551CF60>, id=32), SpinSystem(<SpinSystems.SpinSystem object at 0x000000001551CF98>, id=33), SpinSystem(<SpinSystems.SpinSystem object at 0x000000001551CFD0>, id=34), SpinSystem(<SpinSystems.SpinSystem object at 0x0000000015EFD048>, id=35), SpinSystem(<SpinSystems.SpinSystem object at 0x0000000015EFD080>, id=36), SpinSystem(<SpinSystems.SpinSystem object at 0x0000000015EFD0B8>, id=37), SpinSystem(<SpinSystems.SpinSystem object at 0x0000000015EFD0F0>, id=38), SpinSystem(<SpinSystems.SpinSystem object at 0x0000000015EFD128>, id=39), SpinSystem(<SpinSystems.SpinSystem object at 0x0000000015EFD160>, id=40), SpinSystem(<SpinSystems.SpinSystem object at 0x0000000015EFD198>, id=41), SpinSystem(<SpinSystems.SpinSystem object at 0x0000000015EFD1D0>, id=42), SpinSystem(<SpinSystems.SpinSystem object at 0x0000000015EFD208>, id=43), SpinSystem(<SpinSystems.SpinSystem object at 0x0000000015EFD240>, id=44), SpinSystem(<SpinSystems.SpinSystem object at 0x0000000015EFD278>, id=45), SpinSystem(<SpinSystems.SpinSystem object at 0x0000000015EFD2B0>, id=46), SpinSystem(<SpinSystems.SpinSystem object at 0x0000000015EFD2E8>, id=47), SpinSystem(<SpinSystems.SpinSystem object at 0x0000000015EFD320>, id=48), SpinSystem(<SpinSystems.SpinSystem object at 0x0000000015EFD358>, id=49), SpinSystem(<SpinSystems.SpinSystem object at 0x0000000015EFD390>, id=50), SpinSystem(<SpinSystems.SpinSystem object at 0x0000000015EFD3C8>, id=51), SpinSystem(<SpinSystems.SpinSystem object at 0x0000000015EFD400>, id=52), SpinSystem(<SpinSystems.SpinSystem object at 0x0000000015EFD438>, id=53), SpinSystem(<SpinSystems.SpinSystem object at 0x0000000015EFD470>, id=54), SpinSystem(<SpinSystems.SpinSystem object at 0x0000000015EFD4A8>, id=55), SpinSystem(<SpinSystems.SpinSystem object at 0x0000000015EFD4E0>, id=56), SpinSystem(<SpinSystems.SpinSystem object at 0x0000000015EFD518>, id=57), SpinSystem(<SpinSystems.SpinSystem object at 0x0000000015EFD550>, id=58), SpinSystem(<SpinSystems.SpinSystem object at 0x0000000015EFD588>, id=59), SpinSystem(<SpinSystems.SpinSystem object at 0x0000000015EFD5C0>, id=60), SpinSystem(<SpinSystems.SpinSystem object at 0x0000000015EFD5F8>, id=61), SpinSystem(<SpinSystems.SpinSystem object at 0x0000000015EFD630>, id=62), SpinSystem(<SpinSystems.SpinSystem object at 0x0000000015EFD668>, id=63), SpinSystem(<SpinSystems.SpinSystem object at 0x0000000015EFD6A0>, id=64), SpinSystem(<SpinSystems.SpinSystem object at 0x0000000015EFD6D8>, id=65), SpinSystem(<SpinSystems.SpinSystem object at 0x0000000015EFD710>, id=66), SpinSystem(<SpinSystems.SpinSystem object at 0x0000000015EFD748>, id=67), SpinSystem(<SpinSystems.SpinSystem object at 0x0000000015EFD780>, id=68), SpinSystem(<SpinSystems.SpinSystem object at 0x0000000015EFD7B8>, id=69), SpinSystem(<SpinSystems.SpinSystem object at 0x0000000015EFD7F0>, id=70), SpinSystem(<SpinSystems.SpinSystem object at 0x0000000015EFD828>, id=71), SpinSystem(<SpinSystems.SpinSystem object at 0x0000000015EFD860>, id=72), SpinSystem(<SpinSystems.SpinSystem object at 0x0000000015EFD898>, id=73), SpinSystem(<SpinSystems.SpinSystem object at 0x0000000015EFD8D0>, id=74), SpinSystem(<SpinSystems.SpinSystem object at 0x0000000015EFD908>, id=75), SpinSystem(<SpinSystems.SpinSystem object at 0x0000000015EFD940>, id=76), SpinSystem(<SpinSystems.SpinSystem object at 0x0000000015EFD978>, id=77), SpinSystem(<SpinSystems.SpinSystem object at 0x0000000015EFD9B0>, id=78), SpinSystem(<SpinSystems.SpinSystem object at 0x0000000015EFD9E8>, id=79), SpinSystem(<SpinSystems.SpinSystem object at 0x0000000015EFDA20>, id=80), SpinSystem(<SpinSystems.SpinSystem object at 0x0000000015EFDA58>, id=81), SpinSystem(<SpinSystems.SpinSystem object at 0x0000000015EFDA90>, id=82), SpinSystem(<SpinSystems.SpinSystem object at 0x0000000015EFDAC8>, id=83), SpinSystem(<SpinSystems.SpinSystem object at 0x0000000015EFDB00>, id=84), SpinSystem(<SpinSystems.SpinSystem object at 0x0000000015EFDB38>, id=85), SpinSystem(<SpinSystems.SpinSystem object at 0x0000000015EFDB70>, id=86), SpinSystem(<SpinSystems.SpinSystem object at 0x0000000015EFDBA8>, id=87), SpinSystem(<SpinSystems.SpinSystem object at 0x0000000015EFDBE0>, id=88), SpinSystem(<SpinSystems.SpinSystem object at 0x0000000015EFDC18>, id=89), SpinSystem(<SpinSystems.SpinSystem object at 0x0000000015EFDC50>, id=90), SpinSystem(<SpinSystems.SpinSystem object at 0x0000000015EFDC88>, id=91), SpinSystem(<SpinSystems.SpinSystem object at 0x0000000015EFDCC0>, id=92), SpinSystem(<SpinSystems.SpinSystem object at 0x0000000015EFDCF8>, id=93), SpinSystem(<SpinSystems.SpinSystem object at 0x0000000015EFDD30>, id=94), SpinSystem(<SpinSystems.SpinSystem object at 0x0000000015EFDD68>, id=95), SpinSystem(<SpinSystems.SpinSystem object at 0x0000000015EFDDA0>, id=96), SpinSystem(<SpinSystems.SpinSystem object at 0x0000000015EFDDD8>, id=97), SpinSystem(<SpinSystems.SpinSystem object at 0x0000000015EFDE10>, id=98), SpinSystem(<SpinSystems.SpinSystem object at 0x000000001551C828>, id=99)]"
      ]
     },
     "execution_count": 12,
     "metadata": {},
     "output_type": "execute_result"
    }
   ],
   "source": [
    "e"
   ]
  },
  {
   "cell_type": "code",
   "execution_count": null,
   "metadata": {},
   "outputs": [],
   "source": [
    "e.true_spin_systems.value - e.spin_systems.value"
   ]
  },
  {
   "cell_type": "code",
   "execution_count": null,
   "metadata": {},
   "outputs": [],
   "source": [
    "spins = e.generate_spin_systems()"
   ]
  },
  {
   "cell_type": "code",
   "execution_count": null,
   "metadata": {
    "collapsed": true
   },
   "outputs": [],
   "source": [
    "spins = e.read_spin_systems('data/SpinSystems/VRAR_SS.txt')"
   ]
  },
  {
   "cell_type": "code",
   "execution_count": null,
   "metadata": {},
   "outputs": [],
   "source": [
    "spins.value"
   ]
  },
  {
   "cell_type": "code",
   "execution_count": null,
   "metadata": {},
   "outputs": [],
   "source": [
    "spins.value"
   ]
  },
  {
   "cell_type": "code",
   "execution_count": null,
   "metadata": {},
   "outputs": [],
   "source": [
    "e.measured"
   ]
  },
  {
   "cell_type": "code",
   "execution_count": null,
   "metadata": {},
   "outputs": [],
   "source": [
    "len(e.atoms)"
   ]
  },
  {
   "cell_type": "code",
   "execution_count": null,
   "metadata": {},
   "outputs": [],
   "source": [
    "e.expected"
   ]
  },
  {
   "cell_type": "code",
   "execution_count": null,
   "metadata": {},
   "outputs": [],
   "source": [
    "e.expected['HNCA'].peaks[0].value"
   ]
  }
 ],
 "metadata": {
  "kernelspec": {
   "display_name": "Python 2",
   "language": "python",
   "name": "python2"
  },
  "language_info": {
   "codemirror_mode": {
    "name": "ipython",
    "version": 2
   },
   "file_extension": ".py",
   "mimetype": "text/x-python",
   "name": "python",
   "nbconvert_exporter": "python",
   "pygments_lexer": "ipython2",
   "version": "2.7.14"
  }
 },
 "nbformat": 4,
 "nbformat_minor": 2
}
