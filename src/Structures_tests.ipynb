{
 "cells": [
  {
   "cell_type": "code",
   "execution_count": 1,
   "metadata": {},
   "outputs": [
    {
     "name": "stdout",
     "output_type": "stream",
     "text": [
      "Pretty printing has been turned OFF\n"
     ]
    }
   ],
   "source": [
    "import Structures\n",
    "%pprint off\n",
    "\n",
    "import common as C"
   ]
  },
  {
   "cell_type": "code",
   "execution_count": null,
   "metadata": {},
   "outputs": [],
   "source": [
    "reload(Structures)"
   ]
  },
  {
   "cell_type": "code",
   "execution_count": 2,
   "metadata": {},
   "outputs": [
    {
     "name": "stdout",
     "output_type": "stream",
     "text": [
      "no Auth_seq_ID, using regular ID\n"
     ]
    }
   ],
   "source": [
    "p = Structures.Protein(C.TESTS['16850']['bmrb'], ppm_file=None)"
   ]
  },
  {
   "cell_type": "code",
   "execution_count": null,
   "metadata": {
    "collapsed": true
   },
   "outputs": [],
   "source": [
    "p.bmrb['Spectral_peak_list'][2]"
   ]
  },
  {
   "cell_type": "code",
   "execution_count": 3,
   "metadata": {
    "collapsed": true
   },
   "outputs": [],
   "source": [
    "e = Structures.Experiment(p, spectra=['HSQC', 'HNCA', 'HNCACB'], peaks_from_file=C.TESTS['16850']['peaks_from_file'])"
   ]
  },
  {
   "cell_type": "code",
   "execution_count": 4,
   "metadata": {},
   "outputs": [
    {
     "data": {
      "text/plain": [
       "[0, 1, 2, 3, 4, 5, 6, 7, 8, 9, 10, 11, 12, 13, 14, 15, 16, 17, 18, 19, 20, 21, 22, 23, 24, 25, 26, 27, 28, 29, 30, 31, 32, 33, 34, 35, 36, 37, 38, 39, 40, 41, 42, 43, 44, 45, 46, 47, 48, 49, 50, 51, 52, 53, 54, 55, 56, 57, 58, 59, 60, 61, 62, 63, 64, 65, 66, 67, 68, 69, 70, 71, 72, 73, 74, 75, 76, 77, 78, 79, 80, 81, 82, 83, 84, 85, 86, 87, 88, 89, 90, 91, 92, 93, 94, 95, 96, 97, 98, 99, 100, 101, 102, 103, 104, 105, 106, 107, 108, 109, 110, 111, 112, 113, 114, 115, 116, 117, 118, 119, 120, 121, 122, 123, 124, 125, 126, 127, 128, 129, 130, 131, 132, 133, 134, 135, 136, 137, 138, 139, 140, 141, 142, 143, 144, 145, 146, 147, 148, 149, 150, 151, 152, 153, 154, 155, 156, 157, 158, 159, 160, 161, 162, 163, 164, 165, 166, 167, 168, 169, 170, 171, 172, 173, 174, 175, 176, 177, 178, 179, 180, 181, 182, 183, 184, 185, 186, 187, 188, 189, 190, 191, 192, 193, 194, 195, 196, 197, 198, 199, 200, 201, 202, 203, 204, 205, 206, 207, 208, 209, 210, 211, 212, 213, 214, 215, 216, 217, 218, 219, 220, 221, 222, 223, 224, 225, 226, 227, 228, 229, 230, 231, 232, 233, 234, 235, 236, 237, 238, 239, 240, 241, 242, 243, 244, 245, 246, 247, 248, 249, 250, 251, 252, 253, 254, 255, 256, 257, 258, 259, 260, 261, 262, 263, 264, 265, 266, 267, 268, 269, 270, 271, 272, 273, 274, 275, 276, 277, 278, 279, 280, 281, 282, 283, 284, 285, 286, 287, 288, 289, 290, 291, 292, 293, 294, 295, 296, 297, 298, 299, 300, 301, 302, 303, 304, 305, 306, 307, 308, 309, 310, 311, 312, 313, 314, 315, 316, 317, 318, 319, 320, 321, 322, 323, 324, 325, 326, 327, 328, 329, 330, 331, 332, 333, 334, 335, 336, 337, 338, 339, 340, 341, 342, 343, 344, 345, 346, 347, 348, 349, 350, 351, 352, 353, 354, 355, 356, 357, 358, 359, 360, 361, 362, 363, 364, 365, 366, 367, 368, 369, 370, 371, 372, 373, 374, 375, 376, 377, 378, 379, 380, 381, 382, 383, 384, 385, 386, 387, 388, 389, 390, 391, 392, 393, 394, 395, 396, 397, 398, 399, 400, 401, 402, 403, 404, 405, 406, 407, 408, 409, 410, 411, 412, 413, 414, 415, 416, 417, 418, 419, 420, 421, 422, 423, 424, 425, 426, 427, 428, 429, 430, 431, 432, 433, 434, 435, 436, 437, 438, 439, 440, 441, 442, 443, 444, 445, 446, 447, 448, 449, 450, 451, 452, 453, 454, 455, 456, 457, 458, 459, 460, 461, 462, 463, 464, 465, 466, 467, 468, 469, 470, 471, 472, 473, 474, 475, 476, 477, 478, 479, 480, 481, 482, 483, 484, 485, 486, 487, 488, 489, 490, 491, 492, 493, 494, 495, 496, 497, 498, 499, 500, 501, 502, 503, 504, 505, 506, 507, 508, 509, 510, 511, 512, 513, 514, 515, 516, 517, 518, 519, 520, 521, 522, 523, 524, 525, 526, 527, 528, 529, 530, 531, 532, 533, 534, 535, 536, 537, 538, 539, 540, 541, 542, 543, 544, 545, 546, 547, 548, 549, 550, 551, 552, 553, 554, 555, 556, 557, 558, 559, 560, 561, 562, 563, 564, 565, 566, 567, 568, 569, 570, 571, 572, 573, 574, 575, 576, 577, 578, 579, 580, 581, 582, 583, 584, 585, 586, 587, 588, 589, 590, 591, 592, 593, 594, 595, 596, 597, 598, 599, 600, 601, 602, 603, 604, 605, 606, 607, 608, 609, 610, 611, 612, 613, 614, 615, 616, 617, 618, 619, 620, 621, 622, 623, 624, 625, 626, 627, 628, 629, 630, 631, 632, 633, 634, 635, 636, 637, 638, 639, 640, 641, 642, 643, 644, 645, 646, 647, 648, 649, 650, 651, 652, 653, 654, 655, 656, 657, 658, 659, 660, 661, 662, 663, 664, 665, 666, 667, 668]"
      ]
     },
     "execution_count": 4,
     "metadata": {},
     "output_type": "execute_result"
    }
   ],
   "source": [
    "e.measured.u"
   ]
  },
  {
   "cell_type": "code",
   "execution_count": null,
   "metadata": {
    "collapsed": true
   },
   "outputs": [],
   "source": [
    "p.residues.loc[:, ['N', 'H', 'CA', 'CB']]"
   ]
  },
  {
   "cell_type": "code",
   "execution_count": 5,
   "metadata": {},
   "outputs": [
    {
     "name": "stderr",
     "output_type": "stream",
     "text": [
      "FreeAssigner.py:43: RuntimeWarning: invalid value encountered in double_scalars\n",
      "  0.5 * (np.sum(values ** 2)/q + mu ** 2/sigma - mubar**2/sigmabar)\n"
     ]
    }
   ],
   "source": [
    "import FreeAssigner as fa"
   ]
  },
  {
   "cell_type": "code",
   "execution_count": null,
   "metadata": {},
   "outputs": [],
   "source": [
    "reload(fa)"
   ]
  },
  {
   "cell_type": "code",
   "execution_count": 6,
   "metadata": {
    "collapsed": true
   },
   "outputs": [],
   "source": [
    "import cProfile"
   ]
  },
  {
   "cell_type": "code",
   "execution_count": 7,
   "metadata": {},
   "outputs": [
    {
     "name": "stdout",
     "output_type": "stream",
     "text": [
      "creating nodes ...\n"
     ]
    },
    {
     "name": "stderr",
     "output_type": "stream",
     "text": [
      "100%|████████████████████████████████████████████████████████████████████████████████| 100/100 [00:21<00:00,  4.76it/s]\n"
     ]
    },
    {
     "name": "stdout",
     "output_type": "stream",
     "text": [
      "no layer! AtomGroupFA()\n",
      "no layer! AtomGroupFA()\n",
      "... created 7724 nodes\n",
      "creating edges ...\n"
     ]
    },
    {
     "name": "stderr",
     "output_type": "stream",
     "text": [
      "100%|████████████████████████████████████████████████████████████████████████████████| 112/112 [02:16<00:00,  1.22s/it]\n"
     ]
    },
    {
     "name": "stdout",
     "output_type": "stream",
     "text": [
      "... created 30966 edges\n",
      "         179047794 function calls (179039867 primitive calls) in 160.280 seconds\n",
      "\n",
      "   Ordered by: standard name\n",
      "\n",
      "   ncalls  tottime  percall  cumtime  percall filename:lineno(function)\n",
      "      200    0.000    0.000    0.001    0.000 <decorator-gen-217>:1(find_cliques)\n",
      "        1    0.000    0.000  160.280  160.280 <string>:1(<module>)\n",
      "  5057580    0.691    0.000    0.691    0.000 BaseStructures.py:103(qvar)\n",
      "   202800    0.032    0.000    0.032    0.000 BaseStructures.py:108(qstd)\n",
      "    66538    0.012    0.000    0.012    0.000 BaseStructures.py:113(tolerance)\n",
      "   202800    0.025    0.000    0.025    0.000 BaseStructures.py:118(node_threshold)\n",
      "   202800    0.023    0.000    0.023    0.000 BaseStructures.py:123(edge_threshold)\n",
      "    33902    0.108    0.000    0.486    0.000 BaseStructures.py:222(__init__)\n",
      "   649490    0.195    0.000    0.284    0.000 BaseStructures.py:232(__hash__)\n",
      "  7572068    5.689    0.000    7.901    0.000 BaseStructures.py:236(__getitem__)\n",
      "   649490    0.089    0.000    0.089    0.000 BaseStructures.py:243(id)\n",
      "    30840    0.008    0.000    0.008    0.000 BaseStructures.py:248(u)\n",
      "    23639    0.005    0.000    0.005    0.000 BaseStructures.py:288(node_threshold)\n",
      "   797634    0.143    0.000    0.143    0.000 BaseStructures.py:293(edge_threshold)\n",
      "   828474    2.288    0.000    7.025    0.000 BaseStructures.py:307(intersection)\n",
      "   202800    0.335    0.000    0.335    0.000 BaseStructures.py:35(__init__)\n",
      "        1    0.000    0.000  160.280  160.280 BaseStructures.py:361(__init__)\n",
      "     7724    0.012    0.000    0.059    0.000 BaseStructures.py:376(add)\n",
      "        4    0.000    0.000    0.000    0.000 BaseStructures.py:384(n)\n",
      "   405600    0.051    0.000    0.051    0.000 BaseStructures.py:78(atom_type)\n",
      "   405600    0.047    0.000    0.047    0.000 BaseStructures.py:83(residue_type)\n",
      "  5057580    0.982    0.000    0.982    0.000 BaseStructures.py:88(mu)\n",
      "   202800    0.032    0.000    0.032    0.000 BaseStructures.py:93(std)\n",
      "  5057580    0.672    0.000    0.672    0.000 BaseStructures.py:98(var)\n",
      "     4056    0.004    0.000    0.034    0.000 Expected.py:118(find)\n",
      "      678    0.011    0.000    0.017    0.000 Expected.py:126(subset_to)\n",
      "      226    0.003    0.000    0.041    0.000 Expected.py:138(__init__)\n",
      "      226    0.001    0.000    0.037    0.000 Expected.py:156(<dictcomp>)\n",
      "      226    0.001    0.000    0.059    0.000 Expected.py:179(subset_to)\n",
      "     1352    0.002    0.000    0.036    0.000 Expected.py:196(find)\n",
      "     1576    0.000    0.000    0.000    0.000 Expected.py:29(value)\n",
      "     9440    0.030    0.000    0.030    0.000 Expected.py:46(contains)\n",
      "      678    0.003    0.000    0.006    0.000 Expected.py:65(__init__)\n",
      "      678    0.000    0.000    0.000    0.000 Expected.py:82(value)\n",
      "    10422    0.002    0.000    0.002    0.000 FreeAssigner.py:119(value)\n",
      "  5305515    1.617    0.000    1.948    0.000 FreeAssigner.py:129(assigned)\n",
      "   166773    0.097    0.000    0.164    0.000 FreeAssigner.py:134(validly_assigned)\n",
      "   195821    0.455    0.000    3.473    0.000 FreeAssigner.py:139(assign)\n",
      "  3454730    6.624    0.000   63.946    0.000 FreeAssigner.py:159(node_score)\n",
      "  4969858    6.114    0.000   97.995    0.000 FreeAssigner.py:174(edge_score)\n",
      "    33902    0.691    0.000   11.305    0.000 FreeAssigner.py:205(__init__)\n",
      "    23639    0.121    0.000    3.490    0.000 FreeAssigner.py:227(node_score)\n",
      "   828474    9.705    0.000  133.741    0.000 FreeAssigner.py:231(edge_score)\n",
      "    33789    0.281    0.000    4.022    0.000 FreeAssigner.py:241(assign_configuration)\n",
      "  5057580   44.374    0.000   82.752    0.000 FreeAssigner.py:25(score)\n",
      "    33674    0.083    0.000    0.584    0.000 FreeAssigner.py:256(validly_assigned)\n",
      "      113    0.000    0.000    0.069    0.001 FreeAssigner.py:271(__init__)\n",
      "    44974    0.097    0.000   15.322    0.000 FreeAssigner.py:281(samples)\n",
      "      113    0.000    0.000    0.066    0.001 FreeAssigner.py:290(empty_sample)\n",
      "        1    0.000    0.000  160.280  160.280 FreeAssigner.py:303(__init__)\n",
      "        1    0.001    0.001    0.099    0.099 FreeAssigner.py:307(_setup)\n",
      "        1    0.194    0.194   23.423   23.423 FreeAssigner.py:323(_create_nodes)\n",
      "        1    1.576    1.576  136.759  136.759 FreeAssigner.py:358(_create_edges)\n",
      "   202800    2.209    0.000    8.463    0.000 FreeAssigner.py:62(__init__)\n",
      "      298    0.002    0.000    0.004    0.000 Measured.py:100(__init__)\n",
      "      298    0.000    0.000    0.000    0.000 Measured.py:121(u)\n",
      "     2164    0.000    0.000    0.000    0.000 Measured.py:143(__getitem__)\n",
      "      100    0.000    0.000    0.000    0.000 Measured.py:230(__init__)\n",
      "      102    0.000    0.000    0.000    0.000 Measured.py:250(ushape)\n",
      "        1    0.000    0.000    0.000    0.000 Measured.py:265(__getitem__)\n",
      "      100    0.001    0.000    0.187    0.002 Measured.py:327(__init__)\n",
      "    13310    0.001    0.000    0.001    0.000 Measured.py:33(dim)\n",
      "        1    0.000    0.000    0.000    0.000 Measured.py:341(u)\n",
      "      100    0.001    0.000    0.007    0.000 Measured.py:346(_create_nodes)\n",
      "     1082    0.001    0.000    0.001    0.000 Measured.py:349(<genexpr>)\n",
      "     1082    0.000    0.000    0.001    0.000 Measured.py:350(<genexpr>)\n",
      "      100    0.003    0.000    0.177    0.002 Measured.py:352(_create_edges)\n",
      "     7960    0.004    0.000    0.094    0.000 Measured.py:356(<genexpr>)\n",
      "     2126    0.002    0.000    0.016    0.000 Measured.py:359(<genexpr>)\n",
      "      100    0.001    0.000    0.192    0.002 Measured.py:362(_clique)\n",
      "  2154922    0.199    0.000    0.199    0.000 Measured.py:38(id)\n",
      "        1    0.001    0.001    2.275    2.275 Measured.py:389(all_cliques)\n",
      "     1457    0.001    0.000    0.001    0.000 Measured.py:429(__init__)\n",
      "  2154922    0.480    0.000    0.679    0.000 Measured.py:43(__hash__)\n",
      "   376291    0.104    0.000    0.348    0.000 Measured.py:436(__hash__)\n",
      "    14798    0.342    0.000    0.439    0.000 Measured.py:443(__init__)\n",
      "    33789    0.008    0.000    0.008    0.000 Measured.py:459(u)\n",
      "   158317    0.014    0.000    0.014    0.000 Measured.py:47(value)\n",
      "      101    0.050    0.000    1.215    0.012 Measured.py:484(__init__)\n",
      "     2164    0.002    0.000    0.002    0.000 Measured.py:497(<genexpr>)\n",
      "    14797    0.002    0.000    0.002    0.000 Measured.py:518(<lambda>)\n",
      "   110581    0.010    0.000    0.010    0.000 Measured.py:52(u)\n",
      "    11300    0.003    0.000    0.003    0.000 Measured.py:523(configurations)\n",
      "     7176    0.042    0.000    0.090    0.000 Measured.py:67(is_consistent_with)\n",
      "     7176    0.011    0.000    0.014    0.000 Measured.py:80(is_C_consistent_with)\n",
      "        2    0.000    0.000    0.000    0.000 __init__.py:23(find_module)\n",
      "        1    0.000    0.000    0.000    0.000 __init__.py:376(__getattr__)\n",
      "        1    0.000    0.000    0.000    0.000 __init__.py:383(__getitem__)\n",
      "        2    0.000    0.000    0.000    0.000 __init__.py:49(create_string_buffer)\n",
      "     4610    0.006    0.000    0.010    0.000 _abcoll.py:386(__contains__)\n",
      "    34003    0.042    0.000    0.049    0.000 _abcoll.py:548(update)\n",
      "        2    0.000    0.000    0.000    0.000 _abcoll.py:98(__subclasshook__)\n",
      " 11863551    2.945    0.000   25.778    0.000 _methods.py:31(_sum)\n",
      "    14352    0.003    0.000    0.023    0.000 _methods.py:37(_any)\n",
      "   252385    0.677    0.000    0.785    0.000 _methods.py:43(_count_reduce_items)\n",
      "   252385    1.060    0.000    3.306    0.000 _methods.py:53(_mean)\n",
      "        2    0.000    0.000    0.001    0.000 _monitor.py:31(__init__)\n",
      "        2    0.000    0.000    0.094    0.047 _monitor.py:48(exit)\n",
      "        2    0.000    0.000    0.000    0.000 _monitor.py:95(report)\n",
      "      185    0.001    0.000    0.002    0.000 _tqdm.py:101(release)\n",
      "      185    0.000    0.000    0.002    0.000 _tqdm.py:105(__enter__)\n",
      "        4    0.000    0.000    0.098    0.025 _tqdm.py:1075(close)\n",
      "      185    0.000    0.000    0.002    0.000 _tqdm.py:108(__exit__)\n",
      "        4    0.000    0.000    0.004    0.001 _tqdm.py:1094(fp_write)\n",
      "      352    0.001    0.000    0.002    0.000 _tqdm.py:153(format_interval)\n",
      "        2    0.000    0.000    0.000    0.000 _tqdm.py:174(status_printer)\n",
      "      177    0.001    0.000    0.267    0.002 _tqdm.py:184(fp_write)\n"
     ]
    },
    {
     "name": "stdout",
     "output_type": "stream",
     "text": [
      "      177    0.001    0.000    0.268    0.002 _tqdm.py:190(print_status)\n",
      "      177    0.004    0.000    0.007    0.000 _tqdm.py:197(format_meter)\n",
      "        2    0.000    0.000    0.001    0.000 _tqdm.py:401(__new__)\n",
      "        2    0.000    0.000    0.000    0.000 _tqdm.py:424(_get_free_pos)\n",
      "        2    0.000    0.000    0.000    0.000 _tqdm.py:427(<genexpr>)\n",
      "        2    0.000    0.000    0.094    0.047 _tqdm.py:431(_decr_instances)\n",
      "        2    0.000    0.000    0.004    0.002 _tqdm.py:641(__init__)\n",
      "        2    0.000    0.000    0.000    0.000 _tqdm.py:881(__del__)\n",
      "      177    0.001    0.000    0.008    0.000 _tqdm.py:884(__repr__)\n",
      "        4    0.000    0.000    0.000    0.000 _tqdm.py:893(_comparable)\n",
      "        4    0.000    0.000    0.000    0.000 _tqdm.py:897(__hash__)\n",
      "      214    0.003    0.000    0.378    0.002 _tqdm.py:900(__iter__)\n",
      "      185    0.001    0.000    0.002    0.000 _tqdm.py:97(acquire)\n",
      "        2    0.000    0.000    0.000    0.000 _utils.py:129(__eq__)\n",
      "        2    0.000    0.000    0.000    0.000 _utils.py:142(_is_utf)\n",
      "        2    0.000    0.000    0.000    0.000 _utils.py:156(_supports_unicode)\n",
      "        2    0.000    0.000    0.000    0.000 _utils.py:163(_environ_cols_wrapper)\n",
      "        2    0.000    0.000    0.000    0.000 _utils.py:178(_environ_cols_windows)\n",
      "        2    0.000    0.000    0.000    0.000 _weakrefset.py:108(remove)\n",
      "        8    0.000    0.000    0.000    0.000 _weakrefset.py:16(__init__)\n",
      "        8    0.000    0.000    0.000    0.000 _weakrefset.py:20(__enter__)\n",
      "        8    0.000    0.000    0.000    0.000 _weakrefset.py:26(__exit__)\n",
      "        2    0.000    0.000    0.000    0.000 _weakrefset.py:36(__init__)\n",
      "        8    0.000    0.000    0.000    0.000 _weakrefset.py:52(_commit_removals)\n",
      "       16    0.000    0.000    0.000    0.000 _weakrefset.py:58(__iter__)\n",
      "        2    0.000    0.000    0.000    0.000 _weakrefset.py:67(__len__)\n",
      "    34004    0.033    0.000    0.033    0.000 _weakrefset.py:70(__contains__)\n",
      "        4    0.000    0.000    0.000    0.000 _weakrefset.py:83(add)\n",
      "    34003    0.035    0.000    0.069    0.000 abc.py:148(__subclasscheck__)\n",
      "      193    0.000    0.000    0.185    0.001 ansitowin32.py:139(write)\n",
      "      193    0.001    0.000    0.185    0.001 ansitowin32.py:156(write_and_convert)\n",
      "      193    0.001    0.000    0.182    0.001 ansitowin32.py:172(write_plain_text)\n",
      "      193    0.001    0.000    0.002    0.000 ansitowin32.py:224(convert_osc)\n",
      "        4    0.000    0.000    0.000    0.000 ansitowin32.py:36(__getattr__)\n",
      "      193    0.000    0.000    0.185    0.001 ansitowin32.py:39(write)\n",
      "    24303    0.487    0.000    2.543    0.000 clique.py:102(find_cliques)\n",
      "      200    0.085    0.000    0.641    0.003 clique.py:175(<dictcomp>)\n",
      "    67688    0.186    0.000    0.346    0.000 clique.py:175(<setcomp>)\n",
      "    67688    0.065    0.000    0.090    0.000 clique.py:180(<lambda>)\n",
      "   654683    0.467    0.000    0.773    0.000 clique.py:201(<lambda>)\n",
      "       99    0.013    0.000    2.081    0.021 clique.py:533(cliques_containing_node)\n",
      "  2485422    2.765    0.000    5.822    0.000 collections.py:117(keys)\n",
      "   125117    0.454    0.000    1.229    0.000 collections.py:121(values)\n",
      "      808    0.000    0.000    0.001    0.000 collections.py:138(iteritems)\n",
      "        2    0.000    0.000    0.000    0.000 collections.py:181(__repr__)\n",
      "    34003    0.252    0.000    0.373    0.000 collections.py:50(__init__)\n",
      "   203507    0.246    0.000    0.246    0.000 collections.py:71(__setitem__)\n",
      " 18270775    3.208    0.000    3.208    0.000 collections.py:90(__iter__)\n",
      "   811200    0.190    0.000    0.245    0.000 common.py:435(_apply_if_callable)\n",
      "   515464    0.092    0.000    0.092    0.000 coreviews.py:45(__init__)\n",
      "    67688    0.015    0.000    0.020    0.000 coreviews.py:51(__iter__)\n",
      "   190043    0.084    0.000    0.165    0.000 coreviews.py:54(__getitem__)\n",
      "   257731    0.218    0.000    0.359    0.000 coreviews.py:81(__getitem__)\n",
      "      200    0.001    0.000    0.001    0.000 decorators.py:55(_not_implemented_for)\n",
      "        1    0.000    0.000    0.000    0.000 digraph.py:265(__init__)\n",
      "   185433    0.118    0.000    0.165    0.000 digraph.py:319(adj)\n",
      "        2    0.000    0.000    0.000    0.000 digraph.py:338(succ)\n",
      "     7724    0.026    0.000    0.040    0.000 digraph.py:375(add_node)\n",
      "    30966    0.180    0.000    0.322    0.000 digraph.py:568(add_edge)\n",
      "        2    0.000    0.000    0.000    0.000 digraph.py:795(edges)\n",
      "   405600    0.529    0.000    1.662    0.000 frame.py:1800(get_value)\n",
      "   811200    0.349    0.000    0.349    0.000 frame.py:485(axes)\n",
      " 11863551   15.589    0.000   43.953    0.000 fromnumeric.py:1778(sum)\n",
      "    14352    0.011    0.000    0.045    0.000 fromnumeric.py:1934(any)\n",
      "   252385    0.651    0.000    3.957    0.000 fromnumeric.py:2854(mean)\n",
      "   405600    0.147    0.000    0.209    0.000 generic.py:1607(_indexer)\n",
      "   405600    0.166    0.000    0.215    0.000 generic.py:1640(_get_item_cache)\n",
      "      400    0.000    0.000    0.000    0.000 graph.py:1316(is_multigraph)\n",
      "      400    0.000    0.000    0.000    0.000 graph.py:1320(is_directed)\n",
      "      301    0.001    0.000    0.001    0.000 graph.py:270(__init__)\n",
      "    72298    0.031    0.000    0.041    0.000 graph.py:318(adj)\n",
      "      600    0.000    0.000    0.000    0.000 graph.py:367(__iter__)\n",
      "      200    0.000    0.000    0.000    0.000 graph.py:399(__len__)\n",
      "   257731    0.230    0.000    0.795    0.000 graph.py:416(__getitem__)\n",
      "     1457    0.004    0.000    0.008    0.000 graph.py:442(add_node)\n",
      "      596    0.003    0.000    0.006    0.000 graph.py:487(add_nodes_from)\n",
      "     3934    0.004    0.000    0.006    0.000 graph.py:628(nodes)\n",
      "    18424    0.056    0.000    0.199    0.000 graph.py:823(add_edge)\n",
      "     1568    0.031    0.000    0.171    0.000 graph.py:887(add_edges_from)\n",
      "   405600    1.203    0.000    5.517    0.000 indexing.py:1317(__getitem__)\n",
      "  1216800    0.409    0.000    0.654    0.000 indexing.py:1319(<genexpr>)\n",
      "   405600    1.097    0.000    1.768    0.000 indexing.py:1446(_is_scalar_access)\n",
      "   405600    0.229    0.000    1.892    0.000 indexing.py:1470(_getitem_scalar)\n",
      "   405600    0.058    0.000    0.058    0.000 internals.py:154(internal_values)\n",
      "   405600    0.077    0.000    0.077    0.000 internals.py:4124(_block)\n",
      "   405600    0.258    0.000    0.393    0.000 internals.py:4221(internal_values)\n",
      "     1118    0.048    0.000    0.056    0.000 iostream.py:180(schedule)\n",
      "      191    0.000    0.000    0.000    0.000 iostream.py:284(_is_master_process)\n",
      "      191    0.000    0.000    0.004    0.000 iostream.py:297(_schedule_flush)\n",
      "      368    0.005    0.000    0.259    0.001 iostream.py:311(flush)\n",
      "      191    0.001    0.000    0.019    0.000 iostream.py:342(write)\n",
      "     1118    0.002    0.000    0.002    0.000 iostream.py:87(_event_pipe)\n",
      "   266737    0.151    0.000    0.593    0.000 numeric.py:495(asanyarray)\n",
      "     3934    0.001    0.000    0.001    0.000 reportviews.py:167(__init__)\n",
      "        1    0.000    0.000    0.000    0.000 reportviews.py:171(__len__)\n",
      "     3933    0.001    0.000    0.002    0.000 reportviews.py:174(__iter__)\n",
      "     3934    0.001    0.000    0.001    0.000 reportviews.py:189(__call__)\n",
      "        2    0.000    0.000    0.000    0.000 reportviews.py:906(__init__)\n",
      "        1    0.000    0.000    0.004    0.004 reportviews.py:912(__len__)\n",
      "     7725    0.002    0.000    0.002    0.000 reportviews.py:913(<genexpr>)\n",
      "    30967    0.009    0.000    0.010    0.000 reportviews.py:915(__iter__)\n",
      "        2    0.000    0.000    0.000    0.000 reportviews.py:933(__call__)\n",
      "   405600    0.164    0.000    0.557    0.000 series.py:384(_values)\n",
      "        4    0.000    0.000    0.000    0.000 six.py:184(find_module)\n",
      "        2    0.000    0.000    0.000    0.000 threading.py:1015(daemon)\n",
      "        4    0.000    0.000    0.000    0.000 threading.py:1143(currentThread)\n",
      "      185    0.001    0.000    0.001    0.000 threading.py:147(acquire)\n",
      "      185    0.001    0.000    0.001    0.000 threading.py:187(release)\n",
      "      374    0.002    0.000    0.010    0.000 threading.py:242(Condition)\n",
      "      374    0.008    0.000    0.008    0.000 threading.py:260(__init__)\n",
      "      372    0.001    0.000    0.017    0.000 threading.py:285(__enter__)\n"
     ]
    },
    {
     "name": "stdout",
     "output_type": "stream",
     "text": [
      "      372    0.000    0.000    0.000    0.000 threading.py:288(__exit__)\n",
      "      370    0.001    0.000    0.001    0.000 threading.py:294(_release_save)\n",
      "      370    0.000    0.000    0.003    0.000 threading.py:297(_acquire_restore)\n",
      "      372    0.001    0.000    0.014    0.000 threading.py:300(_is_owned)\n",
      "      370    0.004    0.000    0.272    0.001 threading.py:309(wait)\n",
      "        2    0.000    0.000    0.000    0.000 threading.py:373(notify)\n",
      "        2    0.000    0.000    0.000    0.000 threading.py:400(notifyAll)\n",
      "      372    0.001    0.000    0.015    0.000 threading.py:542(Event)\n",
      "      372    0.003    0.000    0.014    0.000 threading.py:561(__init__)\n",
      "     1494    0.001    0.000    0.001    0.000 threading.py:570(isSet)\n",
      "        2    0.000    0.000    0.000    0.000 threading.py:576(set)\n",
      "      748    0.001    0.000    0.001    0.000 threading.py:59(__init__)\n",
      "      370    0.003    0.000    0.199    0.001 threading.py:597(wait)\n",
      "        2    0.000    0.000    0.000    0.000 threading.py:620(_newname)\n",
      "      748    0.000    0.000    0.000    0.000 threading.py:64(_note)\n",
      "        2    0.000    0.000    0.000    0.000 threading.py:647(__init__)\n",
      "        2    0.000    0.000    0.000    0.000 threading.py:700(_set_daemon)\n",
      "        2    0.000    0.000    0.001    0.000 threading.py:717(start)\n",
      "        2    0.000    0.000    0.094    0.047 threading.py:902(join)\n",
      "     1486    0.004    0.000    0.005    0.000 threading.py:986(isAlive)\n",
      "        2    0.000    0.000    0.000    0.000 threading.py:999(daemon)\n",
      "       12    0.000    0.000    0.000    0.000 utf_8.py:15(decode)\n",
      "       12    0.000    0.000    0.000    0.000 {_codecs.utf_8_decode}\n",
      "        2    0.000    0.000    0.000    0.000 {_struct.unpack}\n",
      "        6    0.000    0.000    0.000    0.000 {abs}\n",
      "        2    0.000    0.000    0.000    0.000 {built-in method __new__ of type object at 0x00000000655F61C0}\n",
      "   811200    0.055    0.000    0.055    0.000 {callable}\n",
      "      881    0.000    0.000    0.000    0.000 {divmod}\n",
      "  7571496    0.794    0.000    0.794    0.000 {function __getitem__ at 0x00000000146F6588}\n",
      "405612/405610    0.062    0.000    0.062    0.000 {getattr}\n",
      "   657989    0.133    0.000    0.133    0.000 {hasattr}\n",
      "   376291    0.122    0.000    0.244    0.000 {hash}\n",
      "        6    0.000    0.000    0.000    0.000 {id}\n",
      " 20947706    4.317    0.000    4.317    0.000 {isinstance}\n",
      "   504776    0.106    0.000    0.106    0.000 {issubclass}\n",
      "    72221    0.006    0.000    0.006    0.000 {iter}\n",
      "17314520/17306595    0.935    0.000    0.939    0.000 {len}\n",
      "   124347    0.185    0.000    1.048    0.000 {max}\n",
      "      372    0.016    0.000    0.016    0.000 {method '__enter__' of 'thread.lock' objects}\n",
      "      372    0.000    0.000    0.000    0.000 {method '__exit__' of 'thread.lock' objects}\n",
      "      185    0.000    0.000    0.000    0.000 {method 'acquire' of '_multiprocessing.SemLock' objects}\n",
      "     1669    0.264    0.000    0.264    0.000 {method 'acquire' of 'thread.lock' objects}\n",
      "       12    0.000    0.000    0.000    0.000 {method 'add' of 'set' objects}\n",
      "    14352    0.004    0.000    0.028    0.000 {method 'any' of 'numpy.ndarray' objects}\n",
      "   592214    0.054    0.000    0.054    0.000 {method 'append' of 'list' objects}\n",
      "     1568    0.000    0.000    0.000    0.000 {method 'copy' of 'dict' objects}\n",
      "       12    0.000    0.000    0.000    0.000 {method 'decode' of 'str' objects}\n",
      "        2    0.000    0.000    0.000    0.000 {method 'difference' of 'set' objects}\n",
      "        1    0.000    0.000    0.000    0.000 {method 'disable' of '_lsprof.Profiler' objects}\n",
      "        2    0.000    0.000    0.000    0.000 {method 'encode' of 'unicode' objects}\n",
      "      386    0.001    0.000    0.001    0.000 {method 'finditer' of '_sre.SRE_Pattern' objects}\n",
      "     1058    0.002    0.000    0.002    0.000 {method 'format' of 'str' objects}\n",
      "   463508    0.075    0.000    0.106    0.000 {method 'get' of 'dict' objects}\n",
      "   405600    0.361    0.000    0.361    0.000 {method 'get_value' of 'pandas._libs.index.IndexEngine' objects}\n",
      "   828474    0.324    0.000    0.324    0.000 {method 'intersection' of 'set' objects}\n",
      "    34005    0.008    0.000    0.008    0.000 {method 'items' of 'dict' objects}\n",
      "    33889    0.005    0.000    0.005    0.000 {method 'iteritems' of 'dict' objects}\n",
      "      101    0.000    0.000    0.000    0.000 {method 'keys' of 'dict' objects}\n",
      "        2    0.000    0.000    0.000    0.000 {method 'partition' of 'str' objects}\n",
      "   247628    0.037    0.000    0.037    0.000 {method 'pop' of 'list' objects}\n",
      "   159819    0.011    0.000    0.011    0.000 {method 'pop' of 'set' objects}\n",
      " 12130288   23.449    0.000   23.449    0.000 {method 'reduce' of 'numpy.ufunc' objects}\n",
      "      185    0.000    0.000    0.000    0.000 {method 'release' of '_multiprocessing.SemLock' objects}\n",
      "      559    0.000    0.000    0.000    0.000 {method 'release' of 'thread.lock' objects}\n",
      "        2    0.000    0.000    0.000    0.000 {method 'remove' of 'list' objects}\n",
      "   159829    0.053    0.000    0.130    0.000 {method 'remove' of 'set' objects}\n",
      "      678    0.001    0.000    0.001    0.000 {method 'reshape' of 'numpy.ndarray' objects}\n",
      "        1    0.000    0.000    0.000    0.000 {method 'startswith' of 'str' objects}\n",
      "    66728    0.024    0.000    0.024    0.000 {method 'update' of 'dict' objects}\n",
      "     2004    0.000    0.000    0.000    0.000 {method 'values' of 'dict' objects}\n",
      "        2    0.000    0.000    0.000    0.000 {min}\n",
      "    34002    0.007    0.000    0.007    0.000 {next}\n",
      "      191    0.000    0.000    0.000    0.000 {nt.getpid}\n",
      "     1118    0.002    0.000    0.002    0.000 {nt.urandom}\n",
      "  5326947    6.075    0.000    6.075    0.000 {numpy.core.multiarray.array}\n",
      "      226    0.000    0.000    0.000    0.000 {numpy.core.multiarray.concatenate}\n",
      "   811200    0.076    0.000    0.076    0.000 {pandas._libs.lib.isscalar}\n",
      "   318929    0.110    0.000    0.110    0.000 {range}\n",
      "        1    0.000    0.000    0.000    0.000 {setattr}\n",
      "      101    0.004    0.000    0.007    0.000 {sorted}\n",
      "        1    0.000    0.000    0.002    0.002 {sum}\n",
      "      744    0.002    0.000    0.002    0.000 {thread.allocate_lock}\n",
      "      376    0.000    0.000    0.000    0.000 {thread.get_ident}\n",
      "        2    0.000    0.000    0.000    0.000 {thread.start_new_thread}\n",
      "      555    0.000    0.000    0.000    0.000 {time.time}\n",
      "      331    0.000    0.000    0.000    0.000 {unichr}\n",
      "   109797    0.049    0.000    0.049    0.000 {zip}\n",
      "\n",
      "\n"
     ]
    }
   ],
   "source": [
    "cProfile.run('a = fa.AssignerFA(e)')"
   ]
  },
  {
   "cell_type": "code",
   "execution_count": 10,
   "metadata": {},
   "outputs": [
    {
     "name": "stdout",
     "output_type": "stream",
     "text": [
      "...fixing edge order...\n",
      "...creating variable...\n"
     ]
    },
    {
     "ename": "GurobiError",
     "evalue": "Element 0 of a double array is Nan.",
     "output_type": "error",
     "traceback": [
      "\u001b[1;31m---------------------------------------------------------------------------\u001b[0m",
      "\u001b[1;31mGurobiError\u001b[0m                               Traceback (most recent call last)",
      "\u001b[1;32m<ipython-input-10-21f0de593923>\u001b[0m in \u001b[0;36m<module>\u001b[1;34m()\u001b[0m\n\u001b[1;32m----> 1\u001b[1;33m \u001b[0ma\u001b[0m\u001b[1;33m.\u001b[0m\u001b[0moptimize\u001b[0m\u001b[1;33m(\u001b[0m\u001b[1;33m)\u001b[0m\u001b[1;33m\u001b[0m\u001b[0m\n\u001b[0m",
      "\u001b[1;32mC:\\devel\\lipras\\src\\BaseStructures.py\u001b[0m in \u001b[0;36moptimize\u001b[1;34m(self, G, max_utilization, max_variable)\u001b[0m\n\u001b[0;32m    494\u001b[0m         \u001b[0mn_edges\u001b[0m \u001b[1;33m=\u001b[0m \u001b[0mlen\u001b[0m\u001b[1;33m(\u001b[0m\u001b[0mG\u001b[0m\u001b[1;33m.\u001b[0m\u001b[0medges\u001b[0m\u001b[1;33m(\u001b[0m\u001b[1;33m)\u001b[0m\u001b[1;33m)\u001b[0m\u001b[1;33m\u001b[0m\u001b[0m\n\u001b[0;32m    495\u001b[0m         x = [model.addVar(obj=self[t[0]][t[1]]['score'], lb=0, ub=max_variable)\n\u001b[1;32m--> 496\u001b[1;33m              for t in edge_order]\n\u001b[0m\u001b[0;32m    497\u001b[0m \u001b[1;33m\u001b[0m\u001b[0m\n\u001b[0;32m    498\u001b[0m         \u001b[1;32mprint\u001b[0m \u001b[1;34m'...created binary variable of size {}!'\u001b[0m\u001b[1;33m.\u001b[0m\u001b[0mformat\u001b[0m\u001b[1;33m(\u001b[0m\u001b[0mn_edges\u001b[0m\u001b[1;33m)\u001b[0m\u001b[1;33m\u001b[0m\u001b[0m\n",
      "\u001b[1;32mmodel.pxi\u001b[0m in \u001b[0;36mgurobipy.Model.addVar (../../src/python/gurobipy.c:79157)\u001b[1;34m()\u001b[0m\n",
      "\u001b[1;31mGurobiError\u001b[0m: Element 0 of a double array is Nan."
     ]
    }
   ],
   "source": [
    "a.optimize()"
   ]
  },
  {
   "cell_type": "code",
   "execution_count": null,
   "metadata": {},
   "outputs": [],
   "source": [
    "import Measured\n"
   ]
  },
  {
   "cell_type": "code",
   "execution_count": null,
   "metadata": {
    "collapsed": true
   },
   "outputs": [],
   "source": [
    "cliques = e.measured.all_cliques('HSQC')"
   ]
  },
  {
   "cell_type": "code",
   "execution_count": null,
   "metadata": {},
   "outputs": [],
   "source": [
    "configurator = Measured.MeasuredConfigurator(e.measured.keys(), cliques[0])"
   ]
  },
  {
   "cell_type": "code",
   "execution_count": null,
   "metadata": {},
   "outputs": [],
   "source": [
    "us = [node.u for node in a.nodes()]"
   ]
  },
  {
   "cell_type": "code",
   "execution_count": null,
   "metadata": {},
   "outputs": [],
   "source": [
    "us = [tuple(u) for u in us]"
   ]
  },
  {
   "cell_type": "code",
   "execution_count": null,
   "metadata": {},
   "outputs": [],
   "source": [
    "e.measured['HSQC'].u"
   ]
  },
  {
   "cell_type": "code",
   "execution_count": null,
   "metadata": {},
   "outputs": [],
   "source": [
    "len(set(us))"
   ]
  }
 ],
 "metadata": {
  "kernelspec": {
   "display_name": "Python 2",
   "language": "python",
   "name": "python2"
  },
  "language_info": {
   "codemirror_mode": {
    "name": "ipython",
    "version": 2
   },
   "file_extension": ".py",
   "mimetype": "text/x-python",
   "name": "python",
   "nbconvert_exporter": "python",
   "pygments_lexer": "ipython2",
   "version": "2.7.14"
  }
 },
 "nbformat": 4,
 "nbformat_minor": 2
}
