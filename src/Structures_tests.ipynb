{
 "cells": [
  {
   "cell_type": "code",
   "execution_count": 1,
   "metadata": {
    "collapsed": false
   },
   "outputs": [],
   "source": [
    "import Structures"
   ]
  },
  {
   "cell_type": "code",
   "execution_count": 24,
   "metadata": {
    "collapsed": false
   },
   "outputs": [
    {
     "data": {
      "text/plain": [
       "<module 'Structures' from 'Structures.py'>"
      ]
     },
     "execution_count": 24,
     "metadata": {},
     "output_type": "execute_result"
    }
   ],
   "source": [
    "reload(Structures)"
   ]
  },
  {
   "cell_type": "code",
   "execution_count": 25,
   "metadata": {
    "collapsed": false
   },
   "outputs": [
    {
     "name": "stdout",
     "output_type": "stream",
     "text": [
      "no Auth_seq_ID, using regular ID\n"
     ]
    }
   ],
   "source": [
    "p = Structures.Protein('data/NMRStar/16850.txt')"
   ]
  },
  {
   "cell_type": "code",
   "execution_count": 27,
   "metadata": {
    "collapsed": false
   },
   "outputs": [],
   "source": [
    "e = Structures.Experiment(p, noise_model='IPASS')"
   ]
  },
  {
   "cell_type": "code",
   "execution_count": 28,
   "metadata": {
    "collapsed": false
   },
   "outputs": [
    {
     "data": {
      "text/plain": [
       "MeasuredPeaks(\n",
       "\tMeasuredSpectrum(HN(CA)CO: 0 peaks)\n",
       "\tMeasuredSpectrum(HNCA: 193 peaks)\n",
       "\tMeasuredSpectrum(HNCO: 0 peaks)\n",
       "\tMeasuredSpectrum(HN(CO)CA: 94 peaks)\n",
       "\tMeasuredSpectrum(HNCACB: 377 peaks)\n",
       "\tMeasuredSpectrum(HN(CO)CACB: 184 peaks)\n",
       "\tMeasuredSpectrum(HSQC: 99 peaks)\n",
       "\t)"
      ]
     },
     "execution_count": 28,
     "metadata": {},
     "output_type": "execute_result"
    }
   ],
   "source": [
    "e.measured"
   ]
  },
  {
   "cell_type": "code",
   "execution_count": 22,
   "metadata": {
    "collapsed": false
   },
   "outputs": [
    {
     "data": {
      "text/plain": [
       "565"
      ]
     },
     "execution_count": 22,
     "metadata": {},
     "output_type": "execute_result"
    }
   ],
   "source": [
    "len(e.atoms)"
   ]
  },
  {
   "cell_type": "code",
   "execution_count": 23,
   "metadata": {
    "collapsed": false
   },
   "outputs": [
    {
     "data": {
      "text/plain": [
       "ExpectedPeaks(\n",
       "\tSpectrum(HN(CA)CO: 225 peaks)\n",
       "\tSpectrum(HNCA: 225 peaks)\n",
       "\tSpectrum(HNCO: 112 peaks)\n",
       "\tSpectrum(HN(CO)CA: 112 peaks)\n",
       "\tSpectrum(HNCACB: 450 peaks)\n",
       "\tSpectrum(HN(CO)CACB: 224 peaks)\n",
       "\tSpectrum(HSQC: 113 peaks)\n",
       "\t)"
      ]
     },
     "execution_count": 23,
     "metadata": {},
     "output_type": "execute_result"
    }
   ],
   "source": [
    "e.expected"
   ]
  },
  {
   "cell_type": "code",
   "execution_count": null,
   "metadata": {
    "collapsed": false
   },
   "outputs": [],
   "source": [
    "e.expected['HNCA'].peaks[0].value"
   ]
  }
 ],
 "metadata": {
  "kernelspec": {
   "display_name": "Python 2",
   "language": "python",
   "name": "python2"
  },
  "language_info": {
   "codemirror_mode": {
    "name": "ipython",
    "version": 2
   },
   "file_extension": ".py",
   "mimetype": "text/x-python",
   "name": "python",
   "nbconvert_exporter": "python",
   "pygments_lexer": "ipython2",
   "version": "2.7.12"
  }
 },
 "nbformat": 4,
 "nbformat_minor": 2
}
