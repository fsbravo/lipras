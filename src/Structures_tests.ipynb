{
 "cells": [
  {
   "cell_type": "code",
   "execution_count": 1,
   "metadata": {},
   "outputs": [
    {
     "name": "stdout",
     "output_type": "stream",
     "text": [
      "Pretty printing has been turned OFF\n"
     ]
    }
   ],
   "source": [
    "import Structures\n",
    "%pprint off\n",
    "\n",
    "import common as C"
   ]
  },
  {
   "cell_type": "code",
   "execution_count": null,
   "metadata": {},
   "outputs": [],
   "source": [
    "reload(Structures)"
   ]
  },
  {
   "cell_type": "code",
   "execution_count": 2,
   "metadata": {},
   "outputs": [
    {
     "name": "stdout",
     "output_type": "stream",
     "text": [
      "no Auth_seq_ID, using regular ID\n"
     ]
    }
   ],
   "source": [
    "p = Structures.Protein(C.TESTS['16850']['bmrb'], ppm_file=None)"
   ]
  },
  {
   "cell_type": "code",
   "execution_count": null,
   "metadata": {
    "collapsed": true
   },
   "outputs": [],
   "source": [
    "p.bmrb['Spectral_peak_list'][2]"
   ]
  },
  {
   "cell_type": "code",
   "execution_count": 3,
   "metadata": {
    "collapsed": true
   },
   "outputs": [],
   "source": [
    "e = Structures.Experiment(p, spectra=['HSQC', 'HNCA', 'HNCACB'], peaks_from_file=C.TESTS['16850']['peaks_from_file'])"
   ]
  },
  {
   "cell_type": "code",
   "execution_count": null,
   "metadata": {
    "collapsed": true
   },
   "outputs": [],
   "source": [
    "e"
   ]
  },
  {
   "cell_type": "code",
   "execution_count": null,
   "metadata": {
    "collapsed": true
   },
   "outputs": [],
   "source": [
    "p.residues.loc[:, ['N', 'H', 'CA', 'CB']]"
   ]
  },
  {
   "cell_type": "code",
   "execution_count": 4,
   "metadata": {},
   "outputs": [
    {
     "name": "stderr",
     "output_type": "stream",
     "text": [
      "FreeAssigner.py:43: RuntimeWarning: invalid value encountered in double_scalars\n",
      "  0.5 * (np.sum(values ** 2)/q + mu ** 2/sigma - mubar**2/sigmabar)\n"
     ]
    }
   ],
   "source": [
    "import FreeAssigner as fa"
   ]
  },
  {
   "cell_type": "code",
   "execution_count": 5,
   "metadata": {},
   "outputs": [
    {
     "data": {
      "text/plain": [
       "<module 'FreeAssigner' from 'FreeAssigner.pyc'>"
      ]
     },
     "execution_count": 5,
     "metadata": {},
     "output_type": "execute_result"
    }
   ],
   "source": [
    "reload(fa)"
   ]
  },
  {
   "cell_type": "code",
   "execution_count": 6,
   "metadata": {
    "collapsed": true
   },
   "outputs": [],
   "source": [
    "import cProfile"
   ]
  },
  {
   "cell_type": "code",
   "execution_count": 7,
   "metadata": {},
   "outputs": [
    {
     "name": "stdout",
     "output_type": "stream",
     "text": [
      "creating nodes ...\n"
     ]
    },
    {
     "name": "stderr",
     "output_type": "stream",
     "text": [
      "100%|████████████████████████████████████████████████████████████████████████████████| 100/100 [00:20<00:00,  4.92it/s]\n"
     ]
    },
    {
     "name": "stdout",
     "output_type": "stream",
     "text": [
      "no layer! AtomGroupFA()\n",
      "no layer! AtomGroupFA()\n",
      "... created 7724 nodes\n",
      "creating edges ...\n"
     ]
    },
    {
     "name": "stderr",
     "output_type": "stream",
     "text": [
      "100%|████████████████████████████████████████████████████████████████████████████████| 112/112 [02:17<00:00,  1.23s/it]\n"
     ]
    },
    {
     "name": "stdout",
     "output_type": "stream",
     "text": [
      "... created 30966 edges\n",
      "         179047383 function calls (179039456 primitive calls) in 160.410 seconds\n",
      "\n",
      "   Ordered by: standard name\n",
      "\n",
      "   ncalls  tottime  percall  cumtime  percall filename:lineno(function)\n",
      "      200    0.000    0.000    0.002    0.000 <decorator-gen-217>:1(find_cliques)\n",
      "        1    0.000    0.000  160.410  160.410 <string>:1(<module>)\n",
      "  5057580    0.735    0.000    0.735    0.000 BaseStructures.py:103(qvar)\n",
      "   202800    0.032    0.000    0.032    0.000 BaseStructures.py:108(qstd)\n",
      "    66538    0.013    0.000    0.013    0.000 BaseStructures.py:113(tolerance)\n",
      "   202800    0.025    0.000    0.025    0.000 BaseStructures.py:118(node_threshold)\n",
      "   202800    0.023    0.000    0.023    0.000 BaseStructures.py:123(edge_threshold)\n",
      "    33902    0.105    0.000    0.389    0.000 BaseStructures.py:222(__init__)\n",
      "   649490    0.198    0.000    0.304    0.000 BaseStructures.py:232(__hash__)\n",
      "  7572068    5.706    0.000    7.965    0.000 BaseStructures.py:236(__getitem__)\n",
      "   649490    0.107    0.000    0.107    0.000 BaseStructures.py:243(id)\n",
      "    30840    0.009    0.000    0.009    0.000 BaseStructures.py:248(u)\n",
      "    23639    0.004    0.000    0.004    0.000 BaseStructures.py:288(node_threshold)\n",
      "   797634    0.145    0.000    0.145    0.000 BaseStructures.py:293(edge_threshold)\n",
      "   828474    2.267    0.000    6.883    0.000 BaseStructures.py:307(intersection)\n",
      "   202800    0.324    0.000    0.324    0.000 BaseStructures.py:35(__init__)\n",
      "        1    0.000    0.000  160.410  160.410 BaseStructures.py:361(__init__)\n",
      "     7724    0.012    0.000    0.056    0.000 BaseStructures.py:375(add)\n",
      "        4    0.000    0.000    0.000    0.000 BaseStructures.py:383(n)\n",
      "   405600    0.048    0.000    0.048    0.000 BaseStructures.py:78(atom_type)\n",
      "   405600    0.046    0.000    0.046    0.000 BaseStructures.py:83(residue_type)\n",
      "  5057580    1.003    0.000    1.003    0.000 BaseStructures.py:88(mu)\n",
      "   202800    0.031    0.000    0.031    0.000 BaseStructures.py:93(std)\n",
      "  5057580    0.657    0.000    0.657    0.000 BaseStructures.py:98(var)\n",
      "     4056    0.004    0.000    0.034    0.000 Expected.py:118(find)\n",
      "      678    0.010    0.000    0.016    0.000 Expected.py:126(subset_to)\n",
      "      226    0.003    0.000    0.041    0.000 Expected.py:138(__init__)\n",
      "      226    0.001    0.000    0.037    0.000 Expected.py:156(<dictcomp>)\n",
      "      226    0.001    0.000    0.058    0.000 Expected.py:179(subset_to)\n",
      "     1352    0.002    0.000    0.037    0.000 Expected.py:196(find)\n",
      "     1576    0.000    0.000    0.000    0.000 Expected.py:29(value)\n",
      "     9440    0.030    0.000    0.030    0.000 Expected.py:46(contains)\n",
      "      678    0.003    0.000    0.006    0.000 Expected.py:65(__init__)\n",
      "      678    0.000    0.000    0.000    0.000 Expected.py:82(value)\n",
      "    10422    0.002    0.000    0.002    0.000 FreeAssigner.py:119(value)\n",
      "  5305515    1.592    0.000    1.923    0.000 FreeAssigner.py:129(assigned)\n",
      "   166773    0.090    0.000    0.153    0.000 FreeAssigner.py:134(validly_assigned)\n",
      "   195821    0.425    0.000    3.235    0.000 FreeAssigner.py:139(assign)\n",
      "  3454730    6.742    0.000   64.575    0.000 FreeAssigner.py:159(node_score)\n",
      "  4969858    6.195    0.000   98.945    0.000 FreeAssigner.py:174(edge_score)\n",
      "    33902    0.667    0.000   10.856    0.000 FreeAssigner.py:205(__init__)\n",
      "    23639    0.116    0.000    3.391    0.000 FreeAssigner.py:227(node_score)\n",
      "   828474    9.680    0.000  134.604    0.000 FreeAssigner.py:231(edge_score)\n",
      "    33789    0.266    0.000    3.759    0.000 FreeAssigner.py:241(assign_configuration)\n",
      "  5057580   44.284    0.000   83.390    0.000 FreeAssigner.py:25(score)\n",
      "    33674    0.077    0.000    0.559    0.000 FreeAssigner.py:256(validly_assigned)\n",
      "      113    0.000    0.000    0.067    0.001 FreeAssigner.py:271(__init__)\n",
      "    44974    0.088    0.000   14.630    0.000 FreeAssigner.py:281(samples)\n",
      "      113    0.000    0.000    0.038    0.000 FreeAssigner.py:290(empty_sample)\n",
      "        1    0.000    0.000  160.410  160.410 FreeAssigner.py:303(__init__)\n",
      "        1    0.002    0.002    0.097    0.097 FreeAssigner.py:307(_setup)\n",
      "        1    0.195    0.195   22.638   22.638 FreeAssigner.py:321(_create_nodes)\n",
      "        1    1.593    1.593  137.675  137.675 FreeAssigner.py:356(_create_edges)\n",
      "   202800    2.096    0.000    8.194    0.000 FreeAssigner.py:62(__init__)\n",
      "      298    0.002    0.000    0.004    0.000 Measured.py:100(__init__)\n",
      "     2164    0.000    0.000    0.000    0.000 Measured.py:143(__getitem__)\n",
      "      100    0.000    0.000    0.000    0.000 Measured.py:230(__init__)\n",
      "      102    0.000    0.000    0.000    0.000 Measured.py:250(ushape)\n",
      "        1    0.000    0.000    0.000    0.000 Measured.py:265(__getitem__)\n",
      "      100    0.001    0.000    0.180    0.002 Measured.py:327(__init__)\n",
      "    13310    0.001    0.000    0.001    0.000 Measured.py:33(dim)\n",
      "      100    0.001    0.000    0.006    0.000 Measured.py:337(_create_nodes)\n",
      "     1082    0.001    0.000    0.001    0.000 Measured.py:340(<genexpr>)\n",
      "     1082    0.000    0.000    0.001    0.000 Measured.py:341(<genexpr>)\n",
      "      100    0.003    0.000    0.171    0.002 Measured.py:343(_create_edges)\n",
      "     7960    0.004    0.000    0.091    0.000 Measured.py:347(<genexpr>)\n",
      "     2126    0.002    0.000    0.016    0.000 Measured.py:350(<genexpr>)\n",
      "      100    0.001    0.000    0.185    0.002 Measured.py:353(_clique)\n",
      "  2154922    0.190    0.000    0.190    0.000 Measured.py:38(id)\n",
      "        1    0.001    0.001    2.229    2.229 Measured.py:380(all_cliques)\n",
      "     1457    0.001    0.000    0.001    0.000 Measured.py:420(__init__)\n",
      "   376291    0.105    0.000    0.346    0.000 Measured.py:427(__hash__)\n",
      "  2154922    0.461    0.000    0.651    0.000 Measured.py:43(__hash__)\n",
      "    14798    0.457    0.000    0.548    0.000 Measured.py:434(__init__)\n",
      "    33789    0.008    0.000    0.008    0.000 Measured.py:450(u)\n",
      "   158317    0.014    0.000    0.014    0.000 Measured.py:47(value)\n",
      "      101    0.048    0.000    1.325    0.013 Measured.py:475(__init__)\n",
      "     2164    0.002    0.000    0.002    0.000 Measured.py:488(<genexpr>)\n",
      "    14797    0.002    0.000    0.002    0.000 Measured.py:509(<lambda>)\n",
      "    11300    0.003    0.000    0.003    0.000 Measured.py:514(configurations)\n",
      "   110581    0.009    0.000    0.009    0.000 Measured.py:52(u)\n",
      "     7176    0.041    0.000    0.087    0.000 Measured.py:67(is_consistent_with)\n",
      "     7176    0.011    0.000    0.014    0.000 Measured.py:80(is_C_consistent_with)\n",
      "        2    0.000    0.000    0.000    0.000 __init__.py:23(find_module)\n",
      "        1    0.000    0.000    0.000    0.000 __init__.py:376(__getattr__)\n",
      "        1    0.000    0.000    0.000    0.000 __init__.py:383(__getitem__)\n",
      "        2    0.000    0.000    0.000    0.000 __init__.py:49(create_string_buffer)\n",
      "     4610    0.006    0.000    0.010    0.000 _abcoll.py:386(__contains__)\n",
      "    34003    0.038    0.000    0.045    0.000 _abcoll.py:548(update)\n",
      "        2    0.000    0.000    0.000    0.000 _abcoll.py:98(__subclasshook__)\n",
      " 11863551    3.102    0.000   26.340    0.000 _methods.py:31(_sum)\n",
      "    14352    0.003    0.000    0.022    0.000 _methods.py:37(_any)\n",
      "   252385    0.579    0.000    0.678    0.000 _methods.py:43(_count_reduce_items)\n",
      "   252385    1.032    0.000    3.132    0.000 _methods.py:53(_mean)\n",
      "        2    0.000    0.000    0.001    0.001 _monitor.py:31(__init__)\n",
      "        2    0.000    0.000    0.082    0.041 _monitor.py:48(exit)\n",
      "        2    0.000    0.000    0.000    0.000 _monitor.py:95(report)\n",
      "      185    0.001    0.000    0.002    0.000 _tqdm.py:101(release)\n",
      "      185    0.000    0.000    0.002    0.000 _tqdm.py:105(__enter__)\n",
      "        4    0.000    0.000    0.085    0.021 _tqdm.py:1075(close)\n",
      "      185    0.000    0.000    0.002    0.000 _tqdm.py:108(__exit__)\n",
      "        4    0.000    0.000    0.003    0.001 _tqdm.py:1094(fp_write)\n",
      "      352    0.001    0.000    0.002    0.000 _tqdm.py:153(format_interval)\n",
      "        2    0.000    0.000    0.000    0.000 _tqdm.py:174(status_printer)\n",
      "      177    0.001    0.000    0.270    0.002 _tqdm.py:184(fp_write)\n",
      "      177    0.001    0.000    0.271    0.002 _tqdm.py:190(print_status)\n",
      "      177    0.004    0.000    0.007    0.000 _tqdm.py:197(format_meter)\n"
     ]
    },
    {
     "name": "stdout",
     "output_type": "stream",
     "text": [
      "        2    0.000    0.000    0.001    0.001 _tqdm.py:401(__new__)\n",
      "        2    0.000    0.000    0.000    0.000 _tqdm.py:424(_get_free_pos)\n",
      "        2    0.000    0.000    0.000    0.000 _tqdm.py:427(<genexpr>)\n",
      "        2    0.000    0.000    0.082    0.041 _tqdm.py:431(_decr_instances)\n",
      "        2    0.000    0.000    0.004    0.002 _tqdm.py:641(__init__)\n",
      "        2    0.000    0.000    0.000    0.000 _tqdm.py:881(__del__)\n",
      "      177    0.001    0.000    0.008    0.000 _tqdm.py:884(__repr__)\n",
      "        4    0.000    0.000    0.000    0.000 _tqdm.py:893(_comparable)\n",
      "        4    0.000    0.000    0.000    0.000 _tqdm.py:897(__hash__)\n",
      "      214    0.003    0.000    0.369    0.002 _tqdm.py:900(__iter__)\n",
      "      185    0.001    0.000    0.002    0.000 _tqdm.py:97(acquire)\n",
      "        2    0.000    0.000    0.000    0.000 _utils.py:129(__eq__)\n",
      "        2    0.000    0.000    0.000    0.000 _utils.py:142(_is_utf)\n",
      "        2    0.000    0.000    0.000    0.000 _utils.py:156(_supports_unicode)\n",
      "        2    0.000    0.000    0.000    0.000 _utils.py:163(_environ_cols_wrapper)\n",
      "        2    0.000    0.000    0.000    0.000 _utils.py:178(_environ_cols_windows)\n",
      "        2    0.000    0.000    0.000    0.000 _weakrefset.py:108(remove)\n",
      "        8    0.000    0.000    0.000    0.000 _weakrefset.py:16(__init__)\n",
      "        8    0.000    0.000    0.000    0.000 _weakrefset.py:20(__enter__)\n",
      "        8    0.000    0.000    0.000    0.000 _weakrefset.py:26(__exit__)\n",
      "        2    0.000    0.000    0.000    0.000 _weakrefset.py:36(__init__)\n",
      "        8    0.000    0.000    0.000    0.000 _weakrefset.py:52(_commit_removals)\n",
      "       16    0.000    0.000    0.000    0.000 _weakrefset.py:58(__iter__)\n",
      "        2    0.000    0.000    0.000    0.000 _weakrefset.py:67(__len__)\n",
      "    34004    0.036    0.000    0.036    0.000 _weakrefset.py:70(__contains__)\n",
      "        4    0.000    0.000    0.000    0.000 _weakrefset.py:83(add)\n",
      "    34003    0.029    0.000    0.065    0.000 abc.py:148(__subclasscheck__)\n",
      "      193    0.000    0.000    0.190    0.001 ansitowin32.py:139(write)\n",
      "      193    0.001    0.000    0.190    0.001 ansitowin32.py:156(write_and_convert)\n",
      "      193    0.001    0.000    0.187    0.001 ansitowin32.py:172(write_plain_text)\n",
      "      193    0.001    0.000    0.002    0.000 ansitowin32.py:224(convert_osc)\n",
      "        4    0.000    0.000    0.000    0.000 ansitowin32.py:36(__getattr__)\n",
      "      193    0.000    0.000    0.190    0.001 ansitowin32.py:39(write)\n",
      "    24303    0.506    0.000    2.496    0.000 clique.py:102(find_cliques)\n",
      "      200    0.082    0.000    0.620    0.003 clique.py:175(<dictcomp>)\n",
      "    67688    0.180    0.000    0.332    0.000 clique.py:175(<setcomp>)\n",
      "    67688    0.067    0.000    0.091    0.000 clique.py:180(<lambda>)\n",
      "   654683    0.453    0.000    0.747    0.000 clique.py:201(<lambda>)\n",
      "       99    0.012    0.000    2.043    0.021 clique.py:533(cliques_containing_node)\n",
      "  2485422    2.760    0.000    5.715    0.000 collections.py:117(keys)\n",
      "   125117    0.448    0.000    1.206    0.000 collections.py:121(values)\n",
      "      808    0.000    0.000    0.001    0.000 collections.py:138(iteritems)\n",
      "        2    0.000    0.000    0.000    0.000 collections.py:181(__repr__)\n",
      "    34003    0.167    0.000    0.280    0.000 collections.py:50(__init__)\n",
      "   203507    0.237    0.000    0.237    0.000 collections.py:71(__setitem__)\n",
      " 18270775    3.102    0.000    3.102    0.000 collections.py:90(__iter__)\n",
      "   811200    0.185    0.000    0.238    0.000 common.py:435(_apply_if_callable)\n",
      "   515464    0.094    0.000    0.094    0.000 coreviews.py:45(__init__)\n",
      "    67688    0.014    0.000    0.020    0.000 coreviews.py:51(__iter__)\n",
      "   190043    0.087    0.000    0.168    0.000 coreviews.py:54(__getitem__)\n",
      "   257731    0.225    0.000    0.366    0.000 coreviews.py:81(__getitem__)\n",
      "      200    0.001    0.000    0.001    0.000 decorators.py:55(_not_implemented_for)\n",
      "        1    0.000    0.000    0.000    0.000 digraph.py:265(__init__)\n",
      "   185433    0.118    0.000    0.167    0.000 digraph.py:319(adj)\n",
      "        2    0.000    0.000    0.000    0.000 digraph.py:338(succ)\n",
      "     7724    0.025    0.000    0.039    0.000 digraph.py:375(add_node)\n",
      "    30966    0.181    0.000    0.344    0.000 digraph.py:568(add_edge)\n",
      "        2    0.000    0.000    0.000    0.000 digraph.py:795(edges)\n",
      "   405600    0.506    0.000    1.613    0.000 frame.py:1800(get_value)\n",
      "   811200    0.337    0.000    0.337    0.000 frame.py:485(axes)\n",
      " 11863551   15.715    0.000   44.671    0.000 fromnumeric.py:1778(sum)\n",
      "    14352    0.010    0.000    0.044    0.000 fromnumeric.py:1934(any)\n",
      "   252385    0.624    0.000    3.756    0.000 fromnumeric.py:2854(mean)\n",
      "   405600    0.142    0.000    0.202    0.000 generic.py:1607(_indexer)\n",
      "   405600    0.159    0.000    0.206    0.000 generic.py:1640(_get_item_cache)\n",
      "      400    0.000    0.000    0.000    0.000 graph.py:1316(is_multigraph)\n",
      "      400    0.000    0.000    0.000    0.000 graph.py:1320(is_directed)\n",
      "      301    0.001    0.000    0.001    0.000 graph.py:270(__init__)\n",
      "    72298    0.031    0.000    0.040    0.000 graph.py:318(adj)\n",
      "      600    0.000    0.000    0.000    0.000 graph.py:367(__iter__)\n",
      "      200    0.000    0.000    0.000    0.000 graph.py:399(__len__)\n",
      "   257731    0.243    0.000    0.816    0.000 graph.py:416(__getitem__)\n",
      "     1457    0.002    0.000    0.007    0.000 graph.py:442(add_node)\n",
      "      596    0.003    0.000    0.006    0.000 graph.py:487(add_nodes_from)\n",
      "     3934    0.004    0.000    0.005    0.000 graph.py:628(nodes)\n",
      "    18424    0.059    0.000    0.205    0.000 graph.py:823(add_edge)\n",
      "     1568    0.029    0.000    0.165    0.000 graph.py:887(add_edges_from)\n",
      "   405600    1.051    0.000    5.384    0.000 indexing.py:1317(__getitem__)\n",
      "  1216800    0.537    0.000    0.775    0.000 indexing.py:1319(<genexpr>)\n",
      "   405600    1.064    0.000    1.719    0.000 indexing.py:1446(_is_scalar_access)\n",
      "   405600    0.226    0.000    1.839    0.000 indexing.py:1470(_getitem_scalar)\n",
      "   405600    0.056    0.000    0.056    0.000 internals.py:154(internal_values)\n",
      "   405600    0.078    0.000    0.078    0.000 internals.py:4124(_block)\n",
      "   405600    0.251    0.000    0.385    0.000 internals.py:4221(internal_values)\n",
      "     1118    0.049    0.000    0.057    0.000 iostream.py:180(schedule)\n",
      "      191    0.000    0.000    0.000    0.000 iostream.py:284(_is_master_process)\n",
      "      191    0.001    0.000    0.004    0.000 iostream.py:297(_schedule_flush)\n",
      "      368    0.004    0.000    0.260    0.001 iostream.py:311(flush)\n",
      "      191    0.001    0.000    0.019    0.000 iostream.py:342(write)\n",
      "     1118    0.002    0.000    0.002    0.000 iostream.py:87(_event_pipe)\n",
      "   266737    0.144    0.000    0.565    0.000 numeric.py:495(asanyarray)\n",
      "     3934    0.001    0.000    0.001    0.000 reportviews.py:167(__init__)\n",
      "        1    0.000    0.000    0.000    0.000 reportviews.py:171(__len__)\n",
      "     3933    0.001    0.000    0.002    0.000 reportviews.py:174(__iter__)\n",
      "     3934    0.001    0.000    0.001    0.000 reportviews.py:189(__call__)\n",
      "        2    0.000    0.000    0.000    0.000 reportviews.py:906(__init__)\n",
      "        1    0.000    0.000    0.003    0.003 reportviews.py:912(__len__)\n",
      "     7725    0.001    0.000    0.002    0.000 reportviews.py:913(<genexpr>)\n",
      "    30967    0.009    0.000    0.013    0.000 reportviews.py:915(__iter__)\n",
      "        2    0.000    0.000    0.000    0.000 reportviews.py:933(__call__)\n",
      "   405600    0.159    0.000    0.544    0.000 series.py:384(_values)\n",
      "        4    0.000    0.000    0.000    0.000 six.py:184(find_module)\n",
      "        2    0.000    0.000    0.000    0.000 threading.py:1015(daemon)\n",
      "        4    0.000    0.000    0.000    0.000 threading.py:1143(currentThread)\n",
      "      185    0.001    0.000    0.001    0.000 threading.py:147(acquire)\n",
      "      185    0.001    0.000    0.001    0.000 threading.py:187(release)\n",
      "      374    0.001    0.000    0.009    0.000 threading.py:242(Condition)\n",
      "      374    0.007    0.000    0.008    0.000 threading.py:260(__init__)\n",
      "      372    0.001    0.000    0.016    0.000 threading.py:285(__enter__)\n",
      "      372    0.000    0.000    0.000    0.000 threading.py:288(__exit__)\n",
      "      369    0.001    0.000    0.001    0.000 threading.py:294(_release_save)\n"
     ]
    },
    {
     "name": "stdout",
     "output_type": "stream",
     "text": [
      "      369    0.001    0.000    0.003    0.000 threading.py:297(_acquire_restore)\n",
      "      371    0.001    0.000    0.015    0.000 threading.py:300(_is_owned)\n",
      "      369    0.005    0.000    0.263    0.001 threading.py:309(wait)\n",
      "        2    0.000    0.000    0.000    0.000 threading.py:373(notify)\n",
      "        2    0.000    0.000    0.000    0.000 threading.py:400(notifyAll)\n",
      "      372    0.001    0.000    0.015    0.000 threading.py:542(Event)\n",
      "      372    0.003    0.000    0.014    0.000 threading.py:561(__init__)\n",
      "     1494    0.001    0.000    0.001    0.000 threading.py:570(isSet)\n",
      "        2    0.000    0.000    0.000    0.000 threading.py:576(set)\n",
      "      748    0.001    0.000    0.001    0.000 threading.py:59(__init__)\n",
      "      370    0.004    0.000    0.201    0.001 threading.py:597(wait)\n",
      "        2    0.000    0.000    0.000    0.000 threading.py:620(_newname)\n",
      "      747    0.000    0.000    0.000    0.000 threading.py:64(_note)\n",
      "        2    0.000    0.000    0.000    0.000 threading.py:647(__init__)\n",
      "        2    0.000    0.000    0.000    0.000 threading.py:700(_set_daemon)\n",
      "        2    0.000    0.000    0.001    0.001 threading.py:717(start)\n",
      "        2    0.000    0.000    0.082    0.041 threading.py:902(join)\n",
      "     1486    0.004    0.000    0.005    0.000 threading.py:986(isAlive)\n",
      "        2    0.000    0.000    0.000    0.000 threading.py:999(daemon)\n",
      "       12    0.000    0.000    0.000    0.000 utf_8.py:15(decode)\n",
      "       12    0.000    0.000    0.000    0.000 {_codecs.utf_8_decode}\n",
      "        2    0.000    0.000    0.000    0.000 {_struct.unpack}\n",
      "        6    0.000    0.000    0.000    0.000 {abs}\n",
      "        2    0.000    0.000    0.000    0.000 {built-in method __new__ of type object at 0x00000000655F61C0}\n",
      "   811200    0.053    0.000    0.053    0.000 {callable}\n",
      "      881    0.000    0.000    0.000    0.000 {divmod}\n",
      "  7571496    0.812    0.000    0.812    0.000 {function __getitem__ at 0x00000000142EB518}\n",
      "405612/405610    0.060    0.000    0.060    0.000 {getattr}\n",
      "   657989    0.134    0.000    0.134    0.000 {hasattr}\n",
      "   376291    0.120    0.000    0.242    0.000 {hash}\n",
      "        6    0.000    0.000    0.000    0.000 {id}\n",
      " 20947706    4.370    0.000    4.370    0.000 {isinstance}\n",
      "   504776    0.103    0.000    0.103    0.000 {issubclass}\n",
      "    72221    0.006    0.000    0.006    0.000 {iter}\n",
      "17314520/17306595    0.926    0.000    0.928    0.000 {len}\n",
      "   124347    0.177    0.000    1.015    0.000 {max}\n",
      "      372    0.015    0.000    0.015    0.000 {method '__enter__' of 'thread.lock' objects}\n",
      "      372    0.000    0.000    0.000    0.000 {method '__exit__' of 'thread.lock' objects}\n",
      "      185    0.000    0.000    0.000    0.000 {method 'acquire' of '_multiprocessing.SemLock' objects}\n",
      "     1665    0.254    0.000    0.254    0.000 {method 'acquire' of 'thread.lock' objects}\n",
      "       12    0.000    0.000    0.000    0.000 {method 'add' of 'set' objects}\n",
      "    14352    0.005    0.000    0.027    0.000 {method 'any' of 'numpy.ndarray' objects}\n",
      "   592213    0.051    0.000    0.051    0.000 {method 'append' of 'list' objects}\n",
      "     1568    0.000    0.000    0.000    0.000 {method 'copy' of 'dict' objects}\n",
      "       12    0.000    0.000    0.000    0.000 {method 'decode' of 'str' objects}\n",
      "        2    0.000    0.000    0.000    0.000 {method 'difference' of 'set' objects}\n",
      "        1    0.000    0.000    0.000    0.000 {method 'disable' of '_lsprof.Profiler' objects}\n",
      "        2    0.000    0.000    0.000    0.000 {method 'encode' of 'unicode' objects}\n",
      "      386    0.001    0.000    0.001    0.000 {method 'finditer' of '_sre.SRE_Pattern' objects}\n",
      "     1058    0.002    0.000    0.002    0.000 {method 'format' of 'str' objects}\n",
      "   463508    0.073    0.000    0.105    0.000 {method 'get' of 'dict' objects}\n",
      "   405600    0.357    0.000    0.357    0.000 {method 'get_value' of 'pandas._libs.index.IndexEngine' objects}\n",
      "   828474    0.292    0.000    0.292    0.000 {method 'intersection' of 'set' objects}\n",
      "    34005    0.009    0.000    0.009    0.000 {method 'items' of 'dict' objects}\n",
      "    33889    0.005    0.000    0.005    0.000 {method 'iteritems' of 'dict' objects}\n",
      "      101    0.000    0.000    0.000    0.000 {method 'keys' of 'dict' objects}\n",
      "        2    0.000    0.000    0.000    0.000 {method 'partition' of 'str' objects}\n",
      "   247628    0.037    0.000    0.037    0.000 {method 'pop' of 'list' objects}\n",
      "   159819    0.011    0.000    0.011    0.000 {method 'pop' of 'set' objects}\n",
      " 12130288   23.847    0.000   23.847    0.000 {method 'reduce' of 'numpy.ufunc' objects}\n",
      "      185    0.000    0.000    0.000    0.000 {method 'release' of '_multiprocessing.SemLock' objects}\n",
      "      558    0.000    0.000    0.000    0.000 {method 'release' of 'thread.lock' objects}\n",
      "        2    0.000    0.000    0.000    0.000 {method 'remove' of 'list' objects}\n",
      "   159829    0.051    0.000    0.124    0.000 {method 'remove' of 'set' objects}\n",
      "      678    0.001    0.000    0.001    0.000 {method 'reshape' of 'numpy.ndarray' objects}\n",
      "        1    0.000    0.000    0.000    0.000 {method 'startswith' of 'str' objects}\n",
      "    66728    0.024    0.000    0.024    0.000 {method 'update' of 'dict' objects}\n",
      "     1904    0.000    0.000    0.000    0.000 {method 'values' of 'dict' objects}\n",
      "        2    0.000    0.000    0.000    0.000 {min}\n",
      "    34002    0.006    0.000    0.006    0.000 {next}\n",
      "      191    0.000    0.000    0.000    0.000 {nt.getpid}\n",
      "     1118    0.002    0.000    0.002    0.000 {nt.urandom}\n",
      "  5326947    6.031    0.000    6.031    0.000 {numpy.core.multiarray.array}\n",
      "      226    0.000    0.000    0.000    0.000 {numpy.core.multiarray.concatenate}\n",
      "   811200    0.075    0.000    0.075    0.000 {pandas._libs.lib.isscalar}\n",
      "   318929    0.101    0.000    0.101    0.000 {range}\n",
      "        1    0.000    0.000    0.000    0.000 {setattr}\n",
      "      101    0.004    0.000    0.007    0.000 {sorted}\n",
      "        1    0.000    0.000    0.002    0.002 {sum}\n",
      "      743    0.002    0.000    0.002    0.000 {thread.allocate_lock}\n",
      "      376    0.000    0.000    0.000    0.000 {thread.get_ident}\n",
      "        2    0.000    0.000    0.000    0.000 {thread.start_new_thread}\n",
      "      555    0.000    0.000    0.000    0.000 {time.time}\n",
      "      331    0.000    0.000    0.000    0.000 {unichr}\n",
      "   109797    0.046    0.000    0.046    0.000 {zip}\n",
      "\n",
      "\n"
     ]
    }
   ],
   "source": [
    "cProfile.run('a = fa.AssignerFA(e)')"
   ]
  },
  {
   "cell_type": "code",
   "execution_count": null,
   "metadata": {},
   "outputs": [],
   "source": [
    "for i, edge in enumerate(a.edges()):\n",
    "    print edge[1].u\n",
    "    if i > 10:\n",
    "        break"
   ]
  },
  {
   "cell_type": "code",
   "execution_count": null,
   "metadata": {},
   "outputs": [],
   "source": [
    "import Measured\n"
   ]
  },
  {
   "cell_type": "code",
   "execution_count": null,
   "metadata": {
    "collapsed": true
   },
   "outputs": [],
   "source": [
    "cliques = e.measured.all_cliques('HSQC')"
   ]
  },
  {
   "cell_type": "code",
   "execution_count": null,
   "metadata": {},
   "outputs": [],
   "source": [
    "configurator = Measured.MeasuredConfigurator(e.measured.keys(), cliques[0])"
   ]
  },
  {
   "cell_type": "code",
   "execution_count": 8,
   "metadata": {},
   "outputs": [],
   "source": [
    "us = [node.u for node in a.nodes()]"
   ]
  },
  {
   "cell_type": "code",
   "execution_count": 9,
   "metadata": {},
   "outputs": [],
   "source": [
    "us = [tuple(u) for u in us]"
   ]
  },
  {
   "cell_type": "code",
   "execution_count": 11,
   "metadata": {},
   "outputs": [
    {
     "data": {
      "text/plain": [
       "169"
      ]
     },
     "execution_count": 11,
     "metadata": {},
     "output_type": "execute_result"
    }
   ],
   "source": [
    "len(set(us))"
   ]
  }
 ],
 "metadata": {
  "kernelspec": {
   "display_name": "Python 2",
   "language": "python",
   "name": "python2"
  },
  "language_info": {
   "codemirror_mode": {
    "name": "ipython",
    "version": 2
   },
   "file_extension": ".py",
   "mimetype": "text/x-python",
   "name": "python",
   "nbconvert_exporter": "python",
   "pygments_lexer": "ipython2",
   "version": "2.7.14"
  }
 },
 "nbformat": 4,
 "nbformat_minor": 2
}
