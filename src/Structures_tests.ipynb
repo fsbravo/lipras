{
 "cells": [
  {
   "cell_type": "code",
   "execution_count": 1,
   "metadata": {},
   "outputs": [
    {
     "name": "stdout",
     "output_type": "stream",
     "text": [
      "Pretty printing has been turned OFF\n"
     ]
    }
   ],
   "source": [
    "import Structures\n",
    "%pprint off\n",
    "\n",
    "import common as C"
   ]
  },
  {
   "cell_type": "code",
   "execution_count": 2,
   "metadata": {
    "collapsed": true
   },
   "outputs": [],
   "source": [
    "from matplotlib import pyplot as plt\n",
    "%matplotlib inline"
   ]
  },
  {
   "cell_type": "code",
<<<<<<< HEAD
   "execution_count": null,
   "metadata": {
    "collapsed": false
   },
   "outputs": [],
=======
   "execution_count": 3,
   "metadata": {},
   "outputs": [
    {
     "data": {
      "text/plain": [
       "<module 'Structures' from 'Structures.pyc'>"
      ]
     },
     "execution_count": 3,
     "metadata": {},
     "output_type": "execute_result"
    }
   ],
>>>>>>> b8ce6b433ff5fda15c4fdaa6ce15336ffff6898d
   "source": [
    "reload(Structures)"
   ]
  },
  {
   "cell_type": "markdown",
   "metadata": {},
   "source": [
    "## spin system"
   ]
  },
  {
   "cell_type": "code",
   "execution_count": 3,
   "metadata": {
    "collapsed": true
   },
   "outputs": [],
   "source": [
    "import SpinSystemAssigner as ssa"
   ]
  },
  {
   "cell_type": "code",
<<<<<<< HEAD
   "execution_count": null,
   "metadata": {
    "collapsed": false
   },
=======
   "execution_count": 5,
   "metadata": {},
>>>>>>> b8ce6b433ff5fda15c4fdaa6ce15336ffff6898d
   "outputs": [],
   "source": [
    "p = Structures.Protein(C.SPIN_SYSTEM_TESTS['TM1112']['protein'], ppm_file=C.SPIN_SYSTEM_TESTS['TM1112']['ppm'])\n",
    "e = Structures.Experiment(p, spectra=['HSQC', 'HN(CO)CACB', 'HNCACB'], spin_file=C.SPIN_SYSTEM_TESTS['TM1112']['ss'])"
   ]
  },
  {
   "cell_type": "code",
<<<<<<< HEAD
   "execution_count": 4,
   "metadata": {
    "collapsed": false
   },
   "outputs": [
    {
     "name": "stdout",
     "output_type": "stream",
     "text": [
      "no Auth_seq_ID, using regular ID\n"
     ]
    }
   ],
=======
   "execution_count": null,
   "metadata": {},
   "outputs": [],
>>>>>>> b8ce6b433ff5fda15c4fdaa6ce15336ffff6898d
   "source": [
    "p = Structures.Protein(C.TESTS['bmr4391'])\n",
    "e = Structures.Experiment(p, spectra=['HSQC', 'HN(CO)CACB', 'HNCACB'])"
   ]
  },
  {
   "cell_type": "code",
<<<<<<< HEAD
   "execution_count": null,
   "metadata": {
    "collapsed": false
   },
   "outputs": [],
=======
   "execution_count": 6,
   "metadata": {},
   "outputs": [
    {
     "data": {
      "text/plain": [
       "<module 'SpinSystemAssigner' from 'SpinSystemAssigner.pyc'>"
      ]
     },
     "execution_count": 6,
     "metadata": {},
     "output_type": "execute_result"
    }
   ],
>>>>>>> b8ce6b433ff5fda15c4fdaa6ce15336ffff6898d
   "source": [
    "reload(ssa)"
   ]
  },
  {
   "cell_type": "code",
<<<<<<< HEAD
   "execution_count": 5,
   "metadata": {
    "collapsed": false
   },
=======
   "execution_count": 7,
   "metadata": {},
>>>>>>> b8ce6b433ff5fda15c4fdaa6ce15336ffff6898d
   "outputs": [
    {
     "name": "stderr",
     "output_type": "stream",
     "text": [
      "100%|██████████████████████████████████████████| 66/66 [00:15<00:00,  4.27it/s]"
     ]
    },
    {
     "name": "stdout",
     "output_type": "stream",
     "text": [
      "::: Creating nodes\n",
      "no layer! AtomGroupSS([(-1, Atom(0C (MET)))])"
     ]
    },
    {
     "name": "stderr",
     "output_type": "stream",
     "text": [
      "\n",
      "100%|██████████████████████████████████████████| 65/65 [00:12<00:00,  5.08it/s]"
     ]
    },
    {
     "name": "stdout",
     "output_type": "stream",
     "text": [
      "\n",
      "no layer! AtomGroupSS([(-2, Atom(65C (ASN)))])\n",
      "... created 1880 nodes\n",
      "::: Creating edges\n",
      "... created 6488 edges\n"
     ]
    },
    {
     "name": "stderr",
     "output_type": "stream",
     "text": [
      "\n"
     ]
    }
   ],
   "source": [
    "a = ssa.AssignerSS(e)"
   ]
  },
  {
   "cell_type": "code",
<<<<<<< HEAD
   "execution_count": 6,
   "metadata": {
    "collapsed": false
   },
=======
   "execution_count": 8,
   "metadata": {},
>>>>>>> b8ce6b433ff5fda15c4fdaa6ce15336ffff6898d
   "outputs": [
    {
     "name": "stdout",
     "output_type": "stream",
     "text": [
      "...fixing edge order...\n",
      "...creating variable...\n",
      "...created binary variable of size 6488!\n",
      "...assembling constraints\n",
      "   ...path constraints...\n",
      "   ...utilization constraints...\n",
      "...assembling objective\n",
      "... solving ...\n",
      "Optimize a model with 1939 rows, 6488 columns and 13094 nonzeros\n",
      "Coefficient statistics:\n",
      "  Matrix range    [1e+00, 1e+00]\n",
      "  Objective range [7e+00, 9e+01]\n",
      "  Bounds range    [1e+00, 1e+00]\n",
      "  RHS range       [1e+00, 1e+00]\n",
      "Presolve removed 193 rows and 164 columns\n",
      "Presolve time: 0.04s\n",
      "Presolved: 1746 rows, 6324 columns, 12648 nonzeros\n",
      "Variable types: 0 continuous, 6324 integer (6324 binary)\n",
      "Found heuristic solution: objective -1762.758516\n",
      "\n",
      "Root relaxation: objective -1.410910e+03, 1495 iterations, 0.06 seconds\n",
      "\n",
      "    Nodes    |    Current Node    |     Objective Bounds      |     Work\n",
      " Expl Unexpl |  Obj  Depth IntInf | Incumbent    BestBd   Gap | It/Node Time\n",
      "\n",
      "*    0     0               0    -1410.909788 -1410.9098  0.00%     -    0s\n",
      "\n",
      "Explored 0 nodes (1495 simplex iterations) in 0.13 seconds\n",
      "Thread count was 4 (of 4 available processors)\n",
      "\n",
      "Optimal solution found (tolerance 1.00e-04)\n",
      "Best objective -1.410909787802e+03, best bound -1.410909787802e+03, gap 0.0%\n",
      "... done!\n",
      "... building solution path ...\n",
      "... done!\n"
     ]
    }
   ],
   "source": [
    "# a.optimize_lagrangian(a)\n",
    "a.optimize_ilp(a)"
   ]
  },
  {
   "cell_type": "code",
   "execution_count": null,
   "metadata": {
    "collapsed": false
   },
   "outputs": [],
   "source": [
    "layer = a.layers[1]\n",
    "a.layers[4][3].print_atom_values()\n",
    "print ''\n",
    "a.layers[5][1].print_atom_values()"
   ]
  },
  {
   "cell_type": "code",
   "execution_count": 19,
   "metadata": {
    "collapsed": false
   },
   "outputs": [
    {
     "name": "stdout",
     "output_type": "stream",
     "text": [
      "Atom(2CA (CYS)) 49.61 66.71 0.08\n",
      "Atom(3N (LYS)) 111.78 130.28 0.16\n",
      "Atom(3H (LYS)) 6.68 9.68 0.016\n",
      "Atom(3CB (LYS)) 28.345 37.195 0.16\n",
      "Atom(3CA (LYS)) 51.53 62.43 0.08\n",
      "Atom(2CB (CYS)) 17.155 49.005 0.16\n"
     ]
    }
   ],
   "source": [
    "for atom in a.layers[3][1].values():\n",
    "    print atom, atom.mu-atom.std*2.5, atom.mu+atom.std*2.5, atom.qstd"
   ]
  },
  {
   "cell_type": "code",
   "execution_count": 8,
   "metadata": {
    "collapsed": false
   },
   "outputs": [],
   "source": [
    "a.spin_systems[1]\n",
    "a.layers[3][0].apply_spin_system(a.spin_systems[1], 3)"
   ]
  },
  {
   "cell_type": "code",
   "execution_count": 11,
   "metadata": {
    "collapsed": false
   },
   "outputs": [
    {
     "data": {
      "text/plain": [
       "-23.843626574629145"
      ]
     },
     "execution_count": 11,
     "metadata": {},
     "output_type": "execute_result"
    }
   ],
   "source": [
    "a.layers[3][0].print_atom_values"
   ]
  },
  {
   "cell_type": "code",
   "execution_count": 15,
   "metadata": {
    "collapsed": false
   },
   "outputs": [
    {
     "name": "stdout",
     "output_type": "stream",
     "text": [
      "Atom(4N (ILE)) = 128.21\n",
      "Atom(4CA (ILE)) = 57.8770567931\n",
      "Atom(3CB (LYS)) = 42.35\n",
      "Atom(4H (ILE)) = 9.2\n",
      "Atom(4CB (ILE)) = 34.6242599503\n",
      "Atom(3CA (LYS)) = 52.13\n",
      "\n",
      "Atom(5CB (CYS)) = nan\n",
      "Atom(4CA (ILE)) = 57.8\n",
      "Atom(5CA (CYS)) = 56.8583826919\n",
      "Atom(5N (CYS)) = 123.42\n",
      "Atom(4CB (ILE)) = 34.71\n",
      "Atom(5H (CYS)) = 8.06\n",
      "\n",
      "-30.252151488057166\n"
     ]
    }
   ],
   "source": [
    "a.layers[4][2].print_atom_values()\n",
    "print ''\n",
    "a.layers[5][3].print_atom_values()\n",
    "print ''\n",
    "print a.layers[4][2].edge_score(a.layers[5][3])"
   ]
  },
  {
   "cell_type": "code",
   "execution_count": null,
   "metadata": {
    "collapsed": false
   },
   "outputs": [],
   "source": [
    "a.layers[3][0].node_score()"
   ]
  },
  {
   "cell_type": "code",
   "execution_count": 12,
   "metadata": {
    "collapsed": false
   },
   "outputs": [
    {
     "data": {
      "text/html": [
       "<div>\n",
       "<table border=\"1\" class=\"dataframe\">\n",
       "  <thead>\n",
       "    <tr style=\"text-align: right;\">\n",
       "      <th></th>\n",
       "      <th>N</th>\n",
       "      <th>H</th>\n",
       "      <th>CA</th>\n",
       "      <th>CB</th>\n",
       "    </tr>\n",
       "  </thead>\n",
       "  <tbody>\n",
       "    <tr>\n",
       "      <th>0</th>\n",
       "      <td>NaN</td>\n",
       "      <td>NaN</td>\n",
       "      <td>NaN</td>\n",
       "      <td>NaN</td>\n",
       "    </tr>\n",
       "    <tr>\n",
       "      <th>1</th>\n",
       "      <td>NaN</td>\n",
       "      <td>NaN</td>\n",
       "      <td>54.51</td>\n",
       "      <td>33.58</td>\n",
       "    </tr>\n",
       "    <tr>\n",
       "      <th>2</th>\n",
       "      <td>114.16</td>\n",
       "      <td>7.93</td>\n",
       "      <td>53.73</td>\n",
       "      <td>36.4</td>\n",
       "    </tr>\n",
       "    <tr>\n",
       "      <th>3</th>\n",
       "      <td>120.83</td>\n",
       "      <td>8.51</td>\n",
       "      <td>52.13</td>\n",
       "      <td>42.35</td>\n",
       "    </tr>\n",
       "    <tr>\n",
       "      <th>4</th>\n",
       "      <td>128.21</td>\n",
       "      <td>9.2</td>\n",
       "      <td>57.8</td>\n",
       "      <td>34.71</td>\n",
       "    </tr>\n",
       "    <tr>\n",
       "      <th>5</th>\n",
       "      <td>123.42</td>\n",
       "      <td>8.06</td>\n",
       "      <td>56.76</td>\n",
       "      <td>NaN</td>\n",
       "    </tr>\n",
       "    <tr>\n",
       "      <th>6</th>\n",
       "      <td>122.51</td>\n",
       "      <td>7.88</td>\n",
       "      <td>56.79</td>\n",
       "      <td>42.73</td>\n",
       "    </tr>\n",
       "    <tr>\n",
       "      <th>7</th>\n",
       "      <td>NaN</td>\n",
       "      <td>8.58</td>\n",
       "      <td>62.13</td>\n",
       "      <td>38.65</td>\n",
       "    </tr>\n",
       "    <tr>\n",
       "      <th>8</th>\n",
       "      <td>NaN</td>\n",
       "      <td>7.42</td>\n",
       "      <td>52.44</td>\n",
       "      <td>50.4</td>\n",
       "    </tr>\n",
       "    <tr>\n",
       "      <th>9</th>\n",
       "      <td>128.61</td>\n",
       "      <td>9.08</td>\n",
       "      <td>56.63</td>\n",
       "      <td>40.32</td>\n",
       "    </tr>\n",
       "    <tr>\n",
       "      <th>10</th>\n",
       "      <td>127.86</td>\n",
       "      <td>7.96</td>\n",
       "      <td>60.4</td>\n",
       "      <td>70.69</td>\n",
       "    </tr>\n",
       "    <tr>\n",
       "      <th>11</th>\n",
       "      <td>130.18</td>\n",
       "      <td>8.85</td>\n",
       "      <td>53.88</td>\n",
       "      <td>41.55</td>\n",
       "    </tr>\n",
       "    <tr>\n",
       "      <th>12</th>\n",
       "      <td>112.87</td>\n",
       "      <td>8.35</td>\n",
       "      <td>55.9</td>\n",
       "      <td>31.33</td>\n",
       "    </tr>\n",
       "    <tr>\n",
       "      <th>13</th>\n",
       "      <td>129.27</td>\n",
       "      <td>8.68</td>\n",
       "      <td>53.95</td>\n",
       "      <td>18.35</td>\n",
       "    </tr>\n",
       "    <tr>\n",
       "      <th>14</th>\n",
       "      <td>126.41</td>\n",
       "      <td>8.64</td>\n",
       "      <td>45.39</td>\n",
       "      <td>NaN</td>\n",
       "    </tr>\n",
       "    <tr>\n",
       "      <th>15</th>\n",
       "      <td>NaN</td>\n",
       "      <td>7.72</td>\n",
       "      <td>55.47</td>\n",
       "      <td>27.92</td>\n",
       "    </tr>\n",
       "    <tr>\n",
       "      <th>16</th>\n",
       "      <td>123.42</td>\n",
       "      <td>8.05</td>\n",
       "      <td>53.91</td>\n",
       "      <td>45.1</td>\n",
       "    </tr>\n",
       "    <tr>\n",
       "      <th>17</th>\n",
       "      <td>124.44</td>\n",
       "      <td>8.81</td>\n",
       "      <td>54.054</td>\n",
       "      <td>37.13</td>\n",
       "    </tr>\n",
       "    <tr>\n",
       "      <th>18</th>\n",
       "      <td>127.65</td>\n",
       "      <td>8.49</td>\n",
       "      <td>62.65</td>\n",
       "      <td>33.18</td>\n",
       "    </tr>\n",
       "    <tr>\n",
       "      <th>19</th>\n",
       "      <td>114.68</td>\n",
       "      <td>8.74</td>\n",
       "      <td>54.55</td>\n",
       "      <td>38.29</td>\n",
       "    </tr>\n",
       "    <tr>\n",
       "      <th>20</th>\n",
       "      <td>123.42</td>\n",
       "      <td>8.05</td>\n",
       "      <td>52.12</td>\n",
       "      <td>19.3</td>\n",
       "    </tr>\n",
       "    <tr>\n",
       "      <th>21</th>\n",
       "      <td>110.79</td>\n",
       "      <td>8.62</td>\n",
       "      <td>62.1</td>\n",
       "      <td>62.79</td>\n",
       "    </tr>\n",
       "    <tr>\n",
       "      <th>22</th>\n",
       "      <td>130.46</td>\n",
       "      <td>8.78</td>\n",
       "      <td>45.03</td>\n",
       "      <td>NaN</td>\n",
       "    </tr>\n",
       "    <tr>\n",
       "      <th>23</th>\n",
       "      <td>111.96</td>\n",
       "      <td>7.78</td>\n",
       "      <td>56.12</td>\n",
       "      <td>33.87</td>\n",
       "    </tr>\n",
       "    <tr>\n",
       "      <th>24</th>\n",
       "      <td>123.1</td>\n",
       "      <td>7.76</td>\n",
       "      <td>56.2</td>\n",
       "      <td>33.72</td>\n",
       "    </tr>\n",
       "    <tr>\n",
       "      <th>25</th>\n",
       "      <td>117.34</td>\n",
       "      <td>8.11</td>\n",
       "      <td>57.21</td>\n",
       "      <td>41.62</td>\n",
       "    </tr>\n",
       "    <tr>\n",
       "      <th>26</th>\n",
       "      <td>118.54</td>\n",
       "      <td>8.9</td>\n",
       "      <td>52.56</td>\n",
       "      <td>38.72</td>\n",
       "    </tr>\n",
       "    <tr>\n",
       "      <th>27</th>\n",
       "      <td>123.03</td>\n",
       "      <td>9.01</td>\n",
       "      <td>55.81</td>\n",
       "      <td>44.45</td>\n",
       "    </tr>\n",
       "    <tr>\n",
       "      <th>28</th>\n",
       "      <td>128.82</td>\n",
       "      <td>9.47</td>\n",
       "      <td>56.02</td>\n",
       "      <td>36.64</td>\n",
       "    </tr>\n",
       "    <tr>\n",
       "      <th>29</th>\n",
       "      <td>131.11</td>\n",
       "      <td>9.9</td>\n",
       "      <td>54.01</td>\n",
       "      <td>32.42</td>\n",
       "    </tr>\n",
       "    <tr>\n",
       "      <th>...</th>\n",
       "      <td>...</td>\n",
       "      <td>...</td>\n",
       "      <td>...</td>\n",
       "      <td>...</td>\n",
       "    </tr>\n",
       "    <tr>\n",
       "      <th>37</th>\n",
       "      <td>118.1</td>\n",
       "      <td>8.39</td>\n",
       "      <td>57.59</td>\n",
       "      <td>71.27</td>\n",
       "    </tr>\n",
       "    <tr>\n",
       "      <th>38</th>\n",
       "      <td>125.87</td>\n",
       "      <td>8.88</td>\n",
       "      <td>54.54</td>\n",
       "      <td>32.27</td>\n",
       "    </tr>\n",
       "    <tr>\n",
       "      <th>39</th>\n",
       "      <td>127.76</td>\n",
       "      <td>8.46</td>\n",
       "      <td>59.82</td>\n",
       "      <td>41.41</td>\n",
       "    </tr>\n",
       "    <tr>\n",
       "      <th>40</th>\n",
       "      <td>127.28</td>\n",
       "      <td>9.16</td>\n",
       "      <td>54.69</td>\n",
       "      <td>32.85</td>\n",
       "    </tr>\n",
       "    <tr>\n",
       "      <th>41</th>\n",
       "      <td>126.55</td>\n",
       "      <td>8.81</td>\n",
       "      <td>54.3</td>\n",
       "      <td>37.13</td>\n",
       "    </tr>\n",
       "    <tr>\n",
       "      <th>42</th>\n",
       "      <td>134.1</td>\n",
       "      <td>6.4</td>\n",
       "      <td>46.33</td>\n",
       "      <td>NaN</td>\n",
       "    </tr>\n",
       "    <tr>\n",
       "      <th>43</th>\n",
       "      <td>118.71</td>\n",
       "      <td>8.38</td>\n",
       "      <td>56.27</td>\n",
       "      <td>47.86</td>\n",
       "    </tr>\n",
       "    <tr>\n",
       "      <th>44</th>\n",
       "      <td>125.39</td>\n",
       "      <td>9.54</td>\n",
       "      <td>52.39</td>\n",
       "      <td>23.5</td>\n",
       "    </tr>\n",
       "    <tr>\n",
       "      <th>45</th>\n",
       "      <td>127.41</td>\n",
       "      <td>9.09</td>\n",
       "      <td>54.64</td>\n",
       "      <td>19.66</td>\n",
       "    </tr>\n",
       "    <tr>\n",
       "      <th>46</th>\n",
       "      <td>114.22</td>\n",
       "      <td>7.5</td>\n",
       "      <td>59.55</td>\n",
       "      <td>71.2</td>\n",
       "    </tr>\n",
       "    <tr>\n",
       "      <th>47</th>\n",
       "      <td>126.58</td>\n",
       "      <td>8.44</td>\n",
       "      <td>53.01</td>\n",
       "      <td>38.8</td>\n",
       "    </tr>\n",
       "    <tr>\n",
       "      <th>48</th>\n",
       "      <td>NaN</td>\n",
       "      <td>NaN</td>\n",
       "      <td>60.4</td>\n",
       "      <td>31.77</td>\n",
       "    </tr>\n",
       "    <tr>\n",
       "      <th>49</th>\n",
       "      <td>NaN</td>\n",
       "      <td>8.07</td>\n",
       "      <td>55.7</td>\n",
       "      <td>29.81</td>\n",
       "    </tr>\n",
       "    <tr>\n",
       "      <th>50</th>\n",
       "      <td>121.28</td>\n",
       "      <td>8.36</td>\n",
       "      <td>44.96</td>\n",
       "      <td>NaN</td>\n",
       "    </tr>\n",
       "    <tr>\n",
       "      <th>51</th>\n",
       "      <td>122.45</td>\n",
       "      <td>8.44</td>\n",
       "      <td>55.06</td>\n",
       "      <td>64.24</td>\n",
       "    </tr>\n",
       "    <tr>\n",
       "      <th>52</th>\n",
       "      <td>122.51</td>\n",
       "      <td>7.83</td>\n",
       "      <td>62.97</td>\n",
       "      <td>40.75</td>\n",
       "    </tr>\n",
       "    <tr>\n",
       "      <th>53</th>\n",
       "      <td>115.13</td>\n",
       "      <td>8.35</td>\n",
       "      <td>59.03</td>\n",
       "      <td>38</td>\n",
       "    </tr>\n",
       "    <tr>\n",
       "      <th>54</th>\n",
       "      <td>117.34</td>\n",
       "      <td>8.13</td>\n",
       "      <td>45.68</td>\n",
       "      <td>NaN</td>\n",
       "    </tr>\n",
       "    <tr>\n",
       "      <th>55</th>\n",
       "      <td>111.89</td>\n",
       "      <td>7.48</td>\n",
       "      <td>53.77</td>\n",
       "      <td>43.51</td>\n",
       "    </tr>\n",
       "    <tr>\n",
       "      <th>56</th>\n",
       "      <td>125.99</td>\n",
       "      <td>8.75</td>\n",
       "      <td>57.04</td>\n",
       "      <td>39.96</td>\n",
       "    </tr>\n",
       "    <tr>\n",
       "      <th>57</th>\n",
       "      <td>127.88</td>\n",
       "      <td>8.3</td>\n",
       "      <td>61.55</td>\n",
       "      <td>35.03</td>\n",
       "    </tr>\n",
       "    <tr>\n",
       "      <th>58</th>\n",
       "      <td>133.1</td>\n",
       "      <td>8.93</td>\n",
       "      <td>52.94</td>\n",
       "      <td>44.81</td>\n",
       "    </tr>\n",
       "    <tr>\n",
       "      <th>59</th>\n",
       "      <td>125.48</td>\n",
       "      <td>9.08</td>\n",
       "      <td>55.01</td>\n",
       "      <td>46.77</td>\n",
       "    </tr>\n",
       "    <tr>\n",
       "      <th>60</th>\n",
       "      <td>124.39</td>\n",
       "      <td>9.55</td>\n",
       "      <td>54.81</td>\n",
       "      <td>46.84</td>\n",
       "    </tr>\n",
       "    <tr>\n",
       "      <th>61</th>\n",
       "      <td>118.9</td>\n",
       "      <td>8.62</td>\n",
       "      <td>61.58</td>\n",
       "      <td>69.45</td>\n",
       "    </tr>\n",
       "    <tr>\n",
       "      <th>62</th>\n",
       "      <td>115.41</td>\n",
       "      <td>7.55</td>\n",
       "      <td>59.97</td>\n",
       "      <td>71.64</td>\n",
       "    </tr>\n",
       "    <tr>\n",
       "      <th>63</th>\n",
       "      <td>NaN</td>\n",
       "      <td>8.59</td>\n",
       "      <td>53.72</td>\n",
       "      <td>39.01</td>\n",
       "    </tr>\n",
       "    <tr>\n",
       "      <th>64</th>\n",
       "      <td>119.33</td>\n",
       "      <td>9.58</td>\n",
       "      <td>55.05</td>\n",
       "      <td>37.42</td>\n",
       "    </tr>\n",
       "    <tr>\n",
       "      <th>65</th>\n",
       "      <td>116.59</td>\n",
       "      <td>7.54</td>\n",
       "      <td>57.06</td>\n",
       "      <td>46.05</td>\n",
       "    </tr>\n",
       "    <tr>\n",
       "      <th>66</th>\n",
       "      <td>127.8</td>\n",
       "      <td>8.79</td>\n",
       "      <td>53.81</td>\n",
       "      <td>38.72</td>\n",
       "    </tr>\n",
       "  </tbody>\n",
       "</table>\n",
       "<p>67 rows × 4 columns</p>\n",
       "</div>"
      ],
      "text/plain": [
       "         N     H      CA     CB\n",
       "0      NaN   NaN     NaN    NaN\n",
       "1      NaN   NaN   54.51  33.58\n",
       "2   114.16  7.93   53.73   36.4\n",
       "3   120.83  8.51   52.13  42.35\n",
       "4   128.21   9.2    57.8  34.71\n",
       "5   123.42  8.06   56.76    NaN\n",
       "6   122.51  7.88   56.79  42.73\n",
       "7      NaN  8.58   62.13  38.65\n",
       "8      NaN  7.42   52.44   50.4\n",
       "9   128.61  9.08   56.63  40.32\n",
       "10  127.86  7.96    60.4  70.69\n",
       "11  130.18  8.85   53.88  41.55\n",
       "12  112.87  8.35    55.9  31.33\n",
       "13  129.27  8.68   53.95  18.35\n",
       "14  126.41  8.64   45.39    NaN\n",
       "15     NaN  7.72   55.47  27.92\n",
       "16  123.42  8.05   53.91   45.1\n",
       "17  124.44  8.81  54.054  37.13\n",
       "18  127.65  8.49   62.65  33.18\n",
       "19  114.68  8.74   54.55  38.29\n",
       "20  123.42  8.05   52.12   19.3\n",
       "21  110.79  8.62    62.1  62.79\n",
       "22  130.46  8.78   45.03    NaN\n",
       "23  111.96  7.78   56.12  33.87\n",
       "24   123.1  7.76    56.2  33.72\n",
       "25  117.34  8.11   57.21  41.62\n",
       "26  118.54   8.9   52.56  38.72\n",
       "27  123.03  9.01   55.81  44.45\n",
       "28  128.82  9.47   56.02  36.64\n",
       "29  131.11   9.9   54.01  32.42\n",
       "..     ...   ...     ...    ...\n",
       "37   118.1  8.39   57.59  71.27\n",
       "38  125.87  8.88   54.54  32.27\n",
       "39  127.76  8.46   59.82  41.41\n",
       "40  127.28  9.16   54.69  32.85\n",
       "41  126.55  8.81    54.3  37.13\n",
       "42   134.1   6.4   46.33    NaN\n",
       "43  118.71  8.38   56.27  47.86\n",
       "44  125.39  9.54   52.39   23.5\n",
       "45  127.41  9.09   54.64  19.66\n",
       "46  114.22   7.5   59.55   71.2\n",
       "47  126.58  8.44   53.01   38.8\n",
       "48     NaN   NaN    60.4  31.77\n",
       "49     NaN  8.07    55.7  29.81\n",
       "50  121.28  8.36   44.96    NaN\n",
       "51  122.45  8.44   55.06  64.24\n",
       "52  122.51  7.83   62.97  40.75\n",
       "53  115.13  8.35   59.03     38\n",
       "54  117.34  8.13   45.68    NaN\n",
       "55  111.89  7.48   53.77  43.51\n",
       "56  125.99  8.75   57.04  39.96\n",
       "57  127.88   8.3   61.55  35.03\n",
       "58   133.1  8.93   52.94  44.81\n",
       "59  125.48  9.08   55.01  46.77\n",
       "60  124.39  9.55   54.81  46.84\n",
       "61   118.9  8.62   61.58  69.45\n",
       "62  115.41  7.55   59.97  71.64\n",
       "63     NaN  8.59   53.72  39.01\n",
       "64  119.33  9.58   55.05  37.42\n",
       "65  116.59  7.54   57.06  46.05\n",
       "66   127.8  8.79   53.81  38.72\n",
       "\n",
       "[67 rows x 4 columns]"
      ]
     },
     "execution_count": 12,
     "metadata": {},
     "output_type": "execute_result"
    }
   ],
   "source": [
    "p.residues.loc[:, ['N', 'H', 'CA', 'CB']]"
   ]
  },
  {
   "cell_type": "code",
   "execution_count": null,
   "metadata": {
    "collapsed": true
   },
   "outputs": [],
   "source": [
    "import numpy as np\n",
    "test = np.zeros(5)"
   ]
  },
  {
   "cell_type": "code",
   "execution_count": null,
   "metadata": {
    "collapsed": true
   },
   "outputs": [],
   "source": []
  },
  {
   "cell_type": "code",
   "execution_count": 7,
   "metadata": {
    "collapsed": false
   },
   "outputs": [
    {
     "name": "stdout",
     "output_type": "stream",
     "text": [
      "\u001b[47mResidue 0 \u001b[47mnan \u001b[47mnan \u001b[47mnan \u001b[47mnan \t0\n",
      "\u001b[47mResidue 1 \u001b[42m0.131 \u001b[47mnan \u001b[47mnan \u001b[41m1.59 \u001b[47mnan \u001b[47mnan \t1\n",
      "\u001b[47mResidue 2 \u001b[41m2.37 \u001b[42m0.29 \u001b[41m1.61 \u001b[41m-2.689 \u001b[41m8.94 \u001b[41m-0.17 \t1\n",
      "\u001b[47mResidue 3 \u001b[41m2.39 \u001b[41m2.27 \u001b[41m-0.75 \u001b[41m-8.639 \u001b[41m3.97 \u001b[41m-2.53 \t0\n",
      "\u001b[47mResidue 4 \u001b[41m-5.11 \u001b[41m-1.7 \u001b[41m-8.48 \u001b[41m-1.44 \u001b[41m-0.999 \u001b[41m3.99 \t0\n",
      "\u001b[47mResidue 5 \u001b[47mnan \u001b[41m-1.68 \u001b[41m-0.66 \u001b[42m-0.32 \u001b[41m-0.84 \u001b[41m-0.3 \t1\n",
      "\u001b[47mResidue 6 \u001b[47mnan \u001b[41m-0.69 \u001b[41m-9.019 \u001b[41m-0.64 \u001b[41m-0.12 \u001b[41m0.59 \t0\n",
      "\u001b[47mResidue 7 \u001b[41m-0.47 \u001b[41m3.081 \u001b[41m-0.59 \u001b[47mnan \u001b[41m-9.01 \u001b[41m-4.925 \t0\n",
      "\u001b[47mResidue 8 \u001b[41m-11.301 \u001b[41m2.97 \u001b[41m1.48 \u001b[47mnan \u001b[42m-0.159 \u001b[41m-4.92 \t1\n",
      "\u001b[47mResidue 9 \u001b[47mnan \u001b[47mnan \u001b[47mnan \u001b[47mnan \u001b[47mnan \u001b[47mnan \t0\n",
      "\u001b[47mResidue 10 \u001b[41m2.32 \u001b[41m3.77 \u001b[41m0.89 \u001b[41m-28.928 \u001b[41m-6.358 \u001b[41m30.37 \t0\n",
      "\u001b[47mResidue 11 \u001b[41m1.956 \u001b[41m-29.14 \u001b[41m-6.52 \u001b[41m-10.327 \u001b[41m-17.31 \u001b[41m-0.5 \t0\n",
      "\u001b[47mResidue 12 \u001b[41m-12.858 \u001b[41m2.02 \u001b[41m0.33 \u001b[41m16.4 \u001b[41m-1.654 \u001b[41m-10.22 \t0\n",
      "\u001b[47mResidue 13 \u001b[41m-12.98 \u001b[41m-2.86 \u001b[41m-8.633 \u001b[47mnan \u001b[41m-0.04 \u001b[41m-1.95 \t0\n",
      "\u001b[47mResidue 14 \u001b[47mnan \u001b[47mnan \u001b[47mnan \u001b[47mnan \u001b[47mnan \u001b[47mnan \t0\n",
      "\u001b[47mResidue 15 \u001b[47mnan \u001b[47mnan \u001b[41m-1.5 \u001b[41m17.066 \u001b[41m0.33 \u001b[41m10.08 \t0\n",
      "\u001b[47mResidue 16 \u001b[41m1.02 \u001b[41m-1.56 \u001b[41m0.76 \u001b[41m-7.975 \u001b[42m0.164 \u001b[41m17.18 \t1\n",
      "\u001b[47mResidue 17 \u001b[41m-0.32 \u001b[41m8.458 \u001b[41m-7.97 \u001b[41m3.21 \u001b[42m0.144 \u001b[41m-3.981 \t1\n",
      "\u001b[47mResidue 18 \u001b[41m8.596 \u001b[41m5.185 \u001b[41m0.25 \u001b[41m-8.141 \u001b[41m-3.95 \u001b[41m-12.97 \t0\n",
      "\u001b[47mResidue 19 \u001b[41m-0.69 \u001b[41m-18.875 \u001b[41m-2.275 \u001b[41m5.11 \u001b[41m8.74 \u001b[41m-8.1 \t0\n",
      "\u001b[47mResidue 20 \u001b[41m43.172 \u001b[41m-18.99 \u001b[41m-2.43 \u001b[41m0.57 \u001b[41m-12.63 \u001b[41m9.715 \t0\n",
      "\u001b[47mResidue 21 \u001b[41m43.49 \u001b[41m-17.032 \u001b[41m0.16 \u001b[41m19.67 \u001b[47mnan \u001b[41m9.98 \t0\n",
      "\u001b[47mResidue 22 \u001b[41m10.947 \u001b[41m-18.5 \u001b[47mnan \u001b[41m-17.07 \u001b[41m-1.0 \u001b[47mnan \t0\n",
      "\u001b[47mResidue 23 \u001b[41m11.09 \u001b[47mnan \u001b[42m-0.02 \u001b[42m-0.159 \u001b[41m11.14 \u001b[42m-0.02 \t3\n",
      "\u001b[47mResidue 24 \u001b[41m0.35 \u001b[41m1.005 \u001b[42m0.08 \u001b[41m-5.76 \u001b[42m-0.15 \u001b[41m8.011 \t2\n",
      "\u001b[47mResidue 25 \u001b[41m1.2 \u001b[41m1.01 \u001b[41m0.79 \u001b[41m-2.521 \u001b[41m-4.929 \u001b[41m7.9 \t0\n",
      "\u001b[47mResidue 26 \u001b[41m0.11 \u001b[41m5.804 \u001b[41m4.49 \u001b[41m3.401 \u001b[41m-2.9 \u001b[41m-4.65 \t0\n",
      "\u001b[47mResidue 27 \u001b[41m5.73 \u001b[41m5.79 \u001b[41m3.25 \u001b[41m-7.863 \u001b[41m0.46 \u001b[42m0.193 \t1\n",
      "\u001b[47mResidue 28 \u001b[41m-2.055 \u001b[41m-7.81 \u001b[41m2.29 \u001b[41m-4.434 \u001b[42m0.21 \u001b[41m0.43 \t1\n",
      "\u001b[47mResidue 29 \u001b[41m2.693 \u001b[41m33.383 \u001b[41m-0.98 \u001b[41m1.99 \u001b[41m-2.01 \u001b[41m-4.22 \t0\n",
      "\u001b[47mResidue 30 \u001b[41m-33.709 \u001b[41m2.52 \u001b[41m33.13 \u001b[42m0.314 \u001b[41m-8.15 \u001b[41m0.34 \t1\n",
      "\u001b[47mResidue 31 \u001b[41m-33.79 \u001b[41m1.829 \u001b[41m5.29 \u001b[41m-0.43 \u001b[41m-0.949 \u001b[41m0.48 \t0\n",
      "\u001b[47mResidue 32 \u001b[41m-0.53 \u001b[41m2.08 \u001b[42m-0.282 \u001b[41m-3.77 \u001b[41m-4.859 \u001b[41m-1.08 \t1\n",
      "\u001b[47mResidue 33 \u001b[41m-0.51 \u001b[41m-4.99 \u001b[42m-0.316 \u001b[41m-11.973 \u001b[41m0.42 \u001b[41m1.24 \t1\n",
      "\u001b[47mResidue 34 \u001b[41m-0.6 \u001b[41m-12.98 \u001b[41m12.145 \u001b[41m1.752 \u001b[41m-11.96 \u001b[42m-0.15 \t1\n",
      "\u001b[47mResidue 35 \u001b[41m-10.792 \u001b[41m12.18 \u001b[41m1.72 \u001b[41m-0.3 \u001b[41m8.37 \u001b[47mnan \t0\n",
      "\u001b[47mResidue 36 \u001b[41m-10.64 \u001b[41m-5.0 \u001b[41m12.647 \u001b[47mnan \u001b[41m0.57 \u001b[47mnan \t0\n",
      "\u001b[47mResidue 37 \u001b[41m7.77 \u001b[41m-2.942 \u001b[41m-39.188 \u001b[41m0.49 \u001b[41m12.56 \u001b[47mnan \t0\n",
      "\u001b[47mResidue 38 \u001b[41m-3.05 \u001b[41m-0.42 \u001b[41m1.89 \u001b[41m-39.0 \u001b[41m5.725 \u001b[41m9.158 \t0\n",
      "\u001b[47mResidue 39 \u001b[41m-5.061 \u001b[41m0.7 \u001b[41m-8.504 \u001b[41m5.28 \u001b[41m-0.48 \u001b[41m9.14 \t0\n",
      "\u001b[47mResidue 40 \u001b[42m-0.378 \u001b[41m-5.13 \u001b[41m-8.56 \u001b[41m-0.35 \u001b[41m4.502 \u001b[41m-0.73 \t1\n",
      "\u001b[47mResidue 41 \u001b[42m-0.39 \u001b[41m-2.41 \u001b[47mnan \u001b[41m7.55 \u001b[41m-8.192 \u001b[41m4.28 \t1\n",
      "\u001b[47mResidue 42 \u001b[47mnan \u001b[41m-7.97 \u001b[41m-15.39 \u001b[47mnan \u001b[41m9.798 \u001b[41m1.98 \t0\n",
      "\u001b[47mResidue 43 \u001b[41m-24.462 \u001b[41m9.94 \u001b[41m1.16 \u001b[41m6.68 \u001b[41m-3.809 \u001b[47mnan \t0\n",
      "\u001b[47mResidue 44 \u001b[41m2.02 \u001b[41m2.104 \u001b[41m-24.36 \u001b[41m-3.938 \u001b[41m-3.88 \u001b[41m-0.45 \t0\n",
      "\u001b[47mResidue 45 \u001b[41m-1.59 \u001b[41m51.652 \u001b[41m2.25 \u001b[41m-3.84 \u001b[41m-13.19 \u001b[41m4.88 \t0\n",
      "\u001b[47mResidue 46 \u001b[41m12.36 \u001b[41m51.54 \u001b[41m-6.349 \u001b[41m0.94 \u001b[41m-32.653 \u001b[41m4.91 \t0\n",
      "\u001b[47mResidue 47 \u001b[47mnan \u001b[47mnan \u001b[47mnan \u001b[47mnan \u001b[47mnan \u001b[47mnan \t0\n",
      "\u001b[47mResidue 48 \u001b[41m-6.169 \u001b[41m-8.12 \u001b[47mnan \u001b[47mnan \u001b[41m-1.372 \u001b[41m6.08 \t0\n",
      "\u001b[47mResidue 49 \u001b[47mnan \u001b[47mnan \u001b[47mnan \u001b[47mnan \u001b[47mnan \u001b[47mnan \t0\n",
      "\u001b[47mResidue 50 \u001b[47mnan \u001b[41m10.196 \u001b[47mnan \u001b[41m1.17 \u001b[41m-10.74 \u001b[41m0.08 \t0\n",
      "\u001b[47mResidue 51 \u001b[47mnan \u001b[41m10.1 \u001b[41m-0.61 \u001b[41m-23.505 \u001b[41m7.752 \u001b[42m0.06 \t1\n",
      "\u001b[47mResidue 52 \u001b[41m-4.002 \u001b[41m-23.49 \u001b[41m0.52 \u001b[41m-2.656 \u001b[41m-7.38 \u001b[41m7.91 \t0\n",
      "\u001b[47mResidue 53 \u001b[41m-0.22 \u001b[47mnan \u001b[41m2.21 \u001b[41m-3.94 \u001b[41m-2.75 \u001b[41m-13.13 \t0\n",
      "\u001b[47mResidue 54 \u001b[47mnan \u001b[41m8.267 \u001b[41m-5.45 \u001b[47mnan \u001b[41m-13.35 \u001b[41m-0.65 \t0\n",
      "\u001b[47mResidue 55 \u001b[41m14.1 \u001b[41m1.27 \u001b[41m-3.762 \u001b[47mnan \u001b[41m8.09 \u001b[41m3.174 \t0\n",
      "\u001b[47mResidue 56 \u001b[41m1.89 \u001b[41m-4.939 \u001b[41m-3.55 \u001b[41m-0.45 \u001b[41m4.524 \u001b[41m3.27 \t0\n",
      "\u001b[47mResidue 57 \u001b[41m0.63 \u001b[41m9.717 \u001b[41m-4.93 \u001b[41m-8.588 \u001b[41m5.22 \u001b[41m4.51 \t0\n",
      "\u001b[47mResidue 58 \u001b[41m2.088 \u001b[41m-8.61 \u001b[41m2.118 \u001b[41m9.78 \u001b[41m0.15 \u001b[41m-7.62 \t0\n",
      "\u001b[47mResidue 59 \u001b[42m0.126 \u001b[41m2.07 \u001b[41m0.47 \u001b[42m0.143 \u001b[41m1.96 \u001b[41m-1.09 \t2\n",
      "\u001b[47mResidue 60 \u001b[41m6.594 \u001b[42m0.07 \u001b[41m-0.93 \u001b[41m-5.49 \u001b[42m-0.2 \u001b[41m22.749 \t2\n",
      "\u001b[47mResidue 61 \u001b[41m2.088 \u001b[41m-3.49 \u001b[41m6.77 \u001b[41m22.61 \u001b[41m-1.618 \u001b[41m-1.07 \t0\n",
      "\u001b[47mResidue 62 \u001b[41m1.75 \u001b[41m-6.769 \u001b[41m0.89 \u001b[41m11.17 \u001b[41m-33.093 \u001b[41m-2.03 \t0\n",
      "\u001b[47mResidue 63 \u001b[41m0.42 \u001b[41m-7.41 \u001b[41m-32.92 \u001b[41m2.241 \u001b[47mnan \u001b[41m5.514 \t0\n",
      "\u001b[47mResidue 64 \u001b[41m0.953 \u001b[41m2.09 \u001b[41m-0.833 \u001b[41m-0.11 \u001b[41m9.49 \u001b[41m5.44 \t0\n",
      "\u001b[47mResidue 65 \u001b[41m0.97 \u001b[41m2.36 \u001b[41m-13.844 \u001b[41m-3.095 \u001b[41m-0.78 \u001b[41m14.52 \t0\n"
     ]
    }
   ],
   "source": [
    "a.accuracy(a.path, e.true_x)"
   ]
  },
  {
   "cell_type": "code",
   "execution_count": null,
   "metadata": {
    "collapsed": false
   },
   "outputs": [],
   "source": [
    "p.true_x"
   ]
  },
  {
   "cell_type": "code",
   "execution_count": null,
   "metadata": {
    "collapsed": false
   },
   "outputs": [],
   "source": [
    "a.draw(a.solution_graph)"
   ]
  },
  {
   "cell_type": "code",
   "execution_count": null,
   "metadata": {
    "collapsed": false
   },
   "outputs": [],
   "source": [
    "a.optimize_lagrangian(a.solution_graph)"
   ]
  },
  {
   "cell_type": "code",
   "execution_count": null,
   "metadata": {
    "collapsed": false
   },
   "outputs": [],
   "source": [
    "a.spin_systems.u"
   ]
  },
  {
   "cell_type": "code",
   "execution_count": null,
   "metadata": {
    "collapsed": true
   },
   "outputs": [],
   "source": [
    "import gurobipy as gbp"
   ]
  },
  {
   "cell_type": "code",
   "execution_count": null,
   "metadata": {
    "collapsed": true
   },
   "outputs": [],
   "source": [
    "G = a\n",
    "edge_order = sorted(G.edges())\n",
    "e_translator = {n: i for i, n in enumerate(edge_order)}\n",
    "e_translator_r = {i: n for i, n in enumerate(edge_order)}"
   ]
  },
  {
   "cell_type": "code",
   "execution_count": null,
   "metadata": {
    "collapsed": false
   },
   "outputs": [],
   "source": [
    "model = gbp.Model('LP')\n",
    "print '...creating variable...'\n",
    "n_edges = len(G.edges())\n",
    "x = [model.addVar(obj=G[t[0]][t[1]]['score'], lb=0, ub=1)\n",
    "     for t in edge_order]"
   ]
  },
  {
   "cell_type": "code",
   "execution_count": null,
   "metadata": {
    "collapsed": false
   },
   "outputs": [],
   "source": [
    "node = None\n",
    "for i, _ in enumerate(G.nodes()):\n",
    "    node = _\n",
    "    break"
   ]
  },
  {
   "cell_type": "code",
   "execution_count": null,
   "metadata": {
    "collapsed": false
   },
   "outputs": [],
   "source": [
    "pred = G.pred[node]\n",
    "pred_edges = [e_translator[(p, node)] for p in pred]\n",
    "succ = G.succ[node]\n",
    "succ_edges = [e_translator[(node, s)] for s in succ]\n",
    "tmp = None\n",
    "if len(pred_edges) == 0:\n",
    "    tmp = x[succ_edges[0]]\n",
    "    for j in succ_edges[1:]:\n",
    "        tmp += x[j]\n",
    "else:\n",
    "    tmp = -x[pred_edges[0]]\n",
    "    for j in pred_edges[1:]:\n",
    "        tmp -= x[j]\n",
    "    for j in succ_edges:\n",
    "        tmp += x[j]"
   ]
  },
  {
   "cell_type": "code",
   "execution_count": null,
   "metadata": {
    "collapsed": false
   },
   "outputs": [],
   "source": [
    "model.update()"
   ]
  },
  {
   "cell_type": "code",
   "execution_count": null,
   "metadata": {
    "collapsed": false
   },
   "outputs": [],
   "source": [
    "tmp"
   ]
  },
  {
   "cell_type": "code",
   "execution_count": null,
   "metadata": {
    "collapsed": true
   },
   "outputs": [],
   "source": [
    "pred = G.pred[node]\n",
    "pred_edges = [e_translator[(p, node)] for p in pred]\n",
    "succ = G.succ[node]\n",
    "succ_edges = [e_translator[(node, s)] for s in succ]\n",
    "tmp = None\n",
    "if len(pred_edges) == 0 and len(succ_edges) == 0:\n",
    "    continue\n",
    "if len(pred_edges) == 0:\n",
    "    tmp = x[succ_edges[0]]\n",
    "    for j in succ_edges[1:]:\n",
    "        tmp += x[j]\n",
    "else:\n",
    "    tmp = -x[pred_edges[0]]\n",
    "    for j in pred_edges[1:]:\n",
    "        tmp -= x[j]\n",
    "    for j in succ_edges:\n",
    "        tmp += x[j]\n",
    "if tmp is None:\n",
    "    print 'tmp is None and something is wrong!!!'\n",
    "else:\n",
    "    print 'tmp = ', tmp\n",
    "# variable to constrain\n",
    "if node.id == G.start.id:\n",
    "    model.addConstr(tmp == 1, 'start')\n",
    "elif node.id == G.end.id:\n",
    "    model.addConstr(tmp == -1, 'end')\n",
    "else:\n",
    "    model.addConstr(tmp == 0, 'eq' + str(i))"
   ]
  },
  {
   "cell_type": "markdown",
   "metadata": {},
   "source": [
    "## free assignment"
   ]
  },
  {
   "cell_type": "code",
   "execution_count": null,
   "metadata": {},
   "outputs": [],
   "source": [
    "p = Structures.Protein(C.TESTS['16850']['bmrb'], ppm_file=None)"
   ]
  },
  {
   "cell_type": "code",
   "execution_count": null,
   "metadata": {
    "collapsed": true
   },
   "outputs": [],
   "source": [
    "p.bmrb['Spectral_peak_list'][2]"
   ]
  },
  {
   "cell_type": "code",
   "execution_count": null,
   "metadata": {
    "collapsed": true
   },
   "outputs": [],
   "source": [
    "e = Structures.Experiment(p, spectra=['HSQC', 'HNCA', 'HNCACB'], peaks_from_file=C.TESTS['16850']['peaks_from_file'])"
   ]
  },
  {
   "cell_type": "code",
   "execution_count": null,
   "metadata": {},
   "outputs": [],
   "source": [
    "e.measured.u"
   ]
  },
  {
   "cell_type": "code",
   "execution_count": null,
   "metadata": {
    "collapsed": true
   },
   "outputs": [],
   "source": [
    "p.residues.loc[:, ['N', 'H', 'CA', 'CB']]"
   ]
  },
  {
   "cell_type": "code",
   "execution_count": null,
   "metadata": {},
   "outputs": [],
   "source": [
    "import FreeAssigner as fa"
   ]
  },
  {
   "cell_type": "code",
   "execution_count": null,
   "metadata": {},
   "outputs": [],
   "source": [
    "reload(fa)"
   ]
  },
  {
   "cell_type": "code",
   "execution_count": null,
   "metadata": {
    "collapsed": true
   },
   "outputs": [],
   "source": [
    "import cProfile"
   ]
  },
  {
   "cell_type": "code",
   "execution_count": null,
   "metadata": {},
   "outputs": [],
   "source": [
    "cProfile.run('a = fa.AssignerFA(e)')"
   ]
  },
  {
   "cell_type": "code",
   "execution_count": null,
   "metadata": {},
   "outputs": [],
   "source": [
    "a.optimize_ilp(a)"
   ]
  },
  {
   "cell_type": "code",
   "execution_count": null,
   "metadata": {},
   "outputs": [],
   "source": [
    "e.sequence[-20:]"
   ]
  },
  {
   "cell_type": "code",
   "execution_count": null,
   "metadata": {
    "collapsed": true
   },
   "outputs": [],
   "source": [
    "edge_order = sorted(a.edges())"
   ]
  },
  {
   "cell_type": "code",
   "execution_count": null,
   "metadata": {
    "collapsed": true
   },
   "outputs": [],
   "source": [
    "import numpy as np"
   ]
  },
  {
   "cell_type": "code",
   "execution_count": null,
   "metadata": {},
   "outputs": [],
   "source": [
    "scores = np.array([a[t[0]][t[1]]['score'] for t in edge_order])\n",
    "np.sum(np.isnan(scores))"
   ]
  },
  {
   "cell_type": "code",
   "execution_count": null,
   "metadata": {
    "collapsed": true
   },
   "outputs": [],
   "source": [
    "import Measured\n"
   ]
  },
  {
   "cell_type": "code",
   "execution_count": null,
   "metadata": {
    "collapsed": true
   },
   "outputs": [],
   "source": [
    "cliques = e.measured.all_cliques('HSQC')"
   ]
  },
  {
   "cell_type": "code",
   "execution_count": null,
   "metadata": {
    "collapsed": true
   },
   "outputs": [],
   "source": [
    "configurator = Measured.MeasuredConfigurator(e.measured.keys(), cliques[0])"
   ]
  },
  {
   "cell_type": "code",
   "execution_count": null,
   "metadata": {
    "collapsed": true
   },
   "outputs": [],
   "source": [
    "us = [node.u for node in a.nodes()]"
   ]
  },
  {
   "cell_type": "code",
   "execution_count": null,
   "metadata": {
    "collapsed": true
   },
   "outputs": [],
   "source": [
    "us = [tuple(u) for u in us]"
   ]
  },
  {
   "cell_type": "code",
   "execution_count": null,
   "metadata": {
    "collapsed": true
   },
   "outputs": [],
   "source": [
    "e.measured['HSQC'].u"
   ]
  },
  {
   "cell_type": "code",
   "execution_count": null,
   "metadata": {
    "collapsed": true
   },
   "outputs": [],
   "source": [
    "len(set(us))"
   ]
  }
 ],
 "metadata": {
  "kernelspec": {
   "display_name": "Python 2",
   "language": "python",
   "name": "python2"
  },
  "language_info": {
   "codemirror_mode": {
    "name": "ipython",
    "version": 2
   },
   "file_extension": ".py",
   "mimetype": "text/x-python",
   "name": "python",
   "nbconvert_exporter": "python",
   "pygments_lexer": "ipython2",
   "version": "2.7.14"
  }
 },
 "nbformat": 4,
 "nbformat_minor": 2
}
